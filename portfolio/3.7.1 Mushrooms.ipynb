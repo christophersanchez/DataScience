{
 "cells": [
  {
   "cell_type": "markdown",
   "metadata": {},
   "source": [
    "# Is this mushroom edible?\n",
    "__July, 2018 - Christopher Sanchez__\n",
    "\n",
    "Mushroom's are a very interesting organism. What is a mushroom? A mushroom is a fungus that comes in many shapes, sizes, and colors. Some species of mushrooms have some extraordinary properties. For example, mushrooms like the death cap, which is responsible for the highest quantity of deaths by mushroom in the world, are extremely poisonous. Other mushrooms like the bitter oyster are bioluminescent which means that they create light through various chemical processes. Oysters, Morels, Portobello’s, Shiitake and many more mushrooms are known to be very delicious and are popular across the globe.\n",
    "       \n",
    "We are going to be examining some data that is maintained by UCI and can be found below. The data set contains hypothetical information about two different families of mushrooms which includes Agaricus and Lepiota. UCI states : \"Each species is identified as definitely edible, definitely poisonous, or of unknown edibility and not recommended. This latter class was combined with the poisonous one. The Guide clearly states that there is no simple rule for determining the edibility of a mushroom; no rule like ``leaflets three, let it be'' for Poisonous Oak and Ivy.\"\n",
    "__Link to data:__\n",
    "<div class=\"alert alert-info\"> https://archive.ics.uci.edu/ml/datasets/mushroom</div>\n",
    "       \n",
    "During our deep dive into the data we are going to explore the data to determine if we can discover some signs that can lead us in the right direction of making an educated decision about whether a mushroom is edible or poisonous. We will:\n",
    "- Examine the amount of missing data and any outliers that may skew our results.\n",
    "- Graph the correlation coefficient to determine if our variables are correlated thereby advising us whether our data is likely to be overfitting or not.\n",
    "- Take a look at feature importance. Selecting the right features is very important and we will use a random forest classifier to determine the importance of our features.\n",
    "- Dive head first into the five most important features to see how they relate with being edible or poisonous.\n",
    "- Test various machine learning techniques to attempt to build the best predictive model.\n",
    "\n",
    "__Let's begin__\n",
    "\n",
    "We will start by importing the external libraries that we will need to explore our data."
   ]
  },
  {
   "cell_type": "code",
   "execution_count": 1,
   "metadata": {},
   "outputs": [],
   "source": [
    "import numpy as np\n",
    "import pandas as pd\n",
    "import matplotlib.pyplot as plt\n",
    "import sklearn\n",
    "import seaborn as sns\n",
    "from sklearn import ensemble\n",
    "from sklearn.datasets import make_classification\n",
    "from sklearn.ensemble import ExtraTreesClassifier, RandomForestClassifier\n",
    "from sklearn import datasets, preprocessing, neighbors\n",
    "from sklearn.model_selection import train_test_split, cross_val_score\n",
    "from sklearn.feature_selection import SelectFromModel\n",
    "from sklearn.metrics import accuracy_score, confusion_matrix\n",
    "from sklearn.naive_bayes import BernoulliNB\n",
    "%matplotlib inline\n",
    "from sklearn.svm import SVC, SVR\n",
    "import operator\n",
    "import time\n",
    "from datetime import timedelta\n",
    "pd.set_option('display.height', 1000)\n",
    "pd.set_option('display.max_rows', 500)\n",
    "pd.set_option('display.max_columns', 500)\n",
    "pd.set_option('display.width', 1000)\n",
    "sns.set_style(style=None, rc={\n",
    "'text.color': '#32CD32', 'axes.facecolor': 'black'})"
   ]
  },
  {
   "cell_type": "markdown",
   "metadata": {},
   "source": [
    "We will use pandas to import in and read our comma separated value file. Let's also display the head of the data after we import it."
   ]
  },
  {
   "cell_type": "code",
   "execution_count": 2,
   "metadata": {},
   "outputs": [
    {
     "data": {
      "text/html": [
       "<div>\n",
       "<style scoped>\n",
       "    .dataframe tbody tr th:only-of-type {\n",
       "        vertical-align: middle;\n",
       "    }\n",
       "\n",
       "    .dataframe tbody tr th {\n",
       "        vertical-align: top;\n",
       "    }\n",
       "\n",
       "    .dataframe thead th {\n",
       "        text-align: right;\n",
       "    }\n",
       "</style>\n",
       "<table border=\"1\" class=\"dataframe\">\n",
       "  <thead>\n",
       "    <tr style=\"text-align: right;\">\n",
       "      <th></th>\n",
       "      <th>class</th>\n",
       "      <th>cap-shape</th>\n",
       "      <th>cap-surface</th>\n",
       "      <th>cap-color</th>\n",
       "      <th>bruises</th>\n",
       "      <th>odor</th>\n",
       "      <th>gill-attachment</th>\n",
       "      <th>gill-spacing</th>\n",
       "      <th>gill-size</th>\n",
       "      <th>gill-color</th>\n",
       "      <th>stalk-shape</th>\n",
       "      <th>stalk-root</th>\n",
       "      <th>stalk-surface-above-ring</th>\n",
       "      <th>stalk-surface-below-ring</th>\n",
       "      <th>stalk-color-above-ring</th>\n",
       "      <th>stalk-color-below-ring</th>\n",
       "      <th>veil-type</th>\n",
       "      <th>veil-color</th>\n",
       "      <th>ring-number</th>\n",
       "      <th>ring-type</th>\n",
       "      <th>spore-print-color</th>\n",
       "      <th>population</th>\n",
       "      <th>habitat</th>\n",
       "    </tr>\n",
       "  </thead>\n",
       "  <tbody>\n",
       "    <tr>\n",
       "      <th>0</th>\n",
       "      <td>p</td>\n",
       "      <td>x</td>\n",
       "      <td>s</td>\n",
       "      <td>n</td>\n",
       "      <td>t</td>\n",
       "      <td>p</td>\n",
       "      <td>f</td>\n",
       "      <td>c</td>\n",
       "      <td>n</td>\n",
       "      <td>k</td>\n",
       "      <td>e</td>\n",
       "      <td>e</td>\n",
       "      <td>s</td>\n",
       "      <td>s</td>\n",
       "      <td>w</td>\n",
       "      <td>w</td>\n",
       "      <td>p</td>\n",
       "      <td>w</td>\n",
       "      <td>o</td>\n",
       "      <td>p</td>\n",
       "      <td>k</td>\n",
       "      <td>s</td>\n",
       "      <td>u</td>\n",
       "    </tr>\n",
       "    <tr>\n",
       "      <th>1</th>\n",
       "      <td>e</td>\n",
       "      <td>x</td>\n",
       "      <td>s</td>\n",
       "      <td>y</td>\n",
       "      <td>t</td>\n",
       "      <td>a</td>\n",
       "      <td>f</td>\n",
       "      <td>c</td>\n",
       "      <td>b</td>\n",
       "      <td>k</td>\n",
       "      <td>e</td>\n",
       "      <td>c</td>\n",
       "      <td>s</td>\n",
       "      <td>s</td>\n",
       "      <td>w</td>\n",
       "      <td>w</td>\n",
       "      <td>p</td>\n",
       "      <td>w</td>\n",
       "      <td>o</td>\n",
       "      <td>p</td>\n",
       "      <td>n</td>\n",
       "      <td>n</td>\n",
       "      <td>g</td>\n",
       "    </tr>\n",
       "    <tr>\n",
       "      <th>2</th>\n",
       "      <td>e</td>\n",
       "      <td>b</td>\n",
       "      <td>s</td>\n",
       "      <td>w</td>\n",
       "      <td>t</td>\n",
       "      <td>l</td>\n",
       "      <td>f</td>\n",
       "      <td>c</td>\n",
       "      <td>b</td>\n",
       "      <td>n</td>\n",
       "      <td>e</td>\n",
       "      <td>c</td>\n",
       "      <td>s</td>\n",
       "      <td>s</td>\n",
       "      <td>w</td>\n",
       "      <td>w</td>\n",
       "      <td>p</td>\n",
       "      <td>w</td>\n",
       "      <td>o</td>\n",
       "      <td>p</td>\n",
       "      <td>n</td>\n",
       "      <td>n</td>\n",
       "      <td>m</td>\n",
       "    </tr>\n",
       "    <tr>\n",
       "      <th>3</th>\n",
       "      <td>p</td>\n",
       "      <td>x</td>\n",
       "      <td>y</td>\n",
       "      <td>w</td>\n",
       "      <td>t</td>\n",
       "      <td>p</td>\n",
       "      <td>f</td>\n",
       "      <td>c</td>\n",
       "      <td>n</td>\n",
       "      <td>n</td>\n",
       "      <td>e</td>\n",
       "      <td>e</td>\n",
       "      <td>s</td>\n",
       "      <td>s</td>\n",
       "      <td>w</td>\n",
       "      <td>w</td>\n",
       "      <td>p</td>\n",
       "      <td>w</td>\n",
       "      <td>o</td>\n",
       "      <td>p</td>\n",
       "      <td>k</td>\n",
       "      <td>s</td>\n",
       "      <td>u</td>\n",
       "    </tr>\n",
       "    <tr>\n",
       "      <th>4</th>\n",
       "      <td>e</td>\n",
       "      <td>x</td>\n",
       "      <td>s</td>\n",
       "      <td>g</td>\n",
       "      <td>f</td>\n",
       "      <td>n</td>\n",
       "      <td>f</td>\n",
       "      <td>w</td>\n",
       "      <td>b</td>\n",
       "      <td>k</td>\n",
       "      <td>t</td>\n",
       "      <td>e</td>\n",
       "      <td>s</td>\n",
       "      <td>s</td>\n",
       "      <td>w</td>\n",
       "      <td>w</td>\n",
       "      <td>p</td>\n",
       "      <td>w</td>\n",
       "      <td>o</td>\n",
       "      <td>e</td>\n",
       "      <td>n</td>\n",
       "      <td>a</td>\n",
       "      <td>g</td>\n",
       "    </tr>\n",
       "  </tbody>\n",
       "</table>\n",
       "</div>"
      ],
      "text/plain": [
       "  class cap-shape cap-surface cap-color bruises odor gill-attachment gill-spacing gill-size gill-color stalk-shape stalk-root stalk-surface-above-ring stalk-surface-below-ring stalk-color-above-ring stalk-color-below-ring veil-type veil-color ring-number ring-type spore-print-color population habitat\n",
       "0     p         x           s         n       t    p               f            c         n          k           e          e                        s                        s                      w                      w         p          w           o         p                 k          s       u\n",
       "1     e         x           s         y       t    a               f            c         b          k           e          c                        s                        s                      w                      w         p          w           o         p                 n          n       g\n",
       "2     e         b           s         w       t    l               f            c         b          n           e          c                        s                        s                      w                      w         p          w           o         p                 n          n       m\n",
       "3     p         x           y         w       t    p               f            c         n          n           e          e                        s                        s                      w                      w         p          w           o         p                 k          s       u\n",
       "4     e         x           s         g       f    n               f            w         b          k           t          e                        s                        s                      w                      w         p          w           o         e                 n          a       g"
      ]
     },
     "execution_count": 2,
     "metadata": {},
     "output_type": "execute_result"
    }
   ],
   "source": [
    "df = pd.read_csv('Mushrooms.csv')\n",
    "df.head()"
   ]
  },
  {
   "cell_type": "markdown",
   "metadata": {},
   "source": [
    "The data is looking beautiful. It looks like it imported successfully, and we are able to take a look at our columns. Interestingly though it is full of random letters. What do these mean? Let's take a look at the data set documentation to determine the true identity of the values. \n",
    "\n",
    "Value Information:\n",
    "\n",
    "1. __cap-shape:__ b = _bell_, c = _conical_, x = _convex_, f = _flat_, k = _knobbed_, s = _sunken_ \n",
    "2. __cap-surface:__ f = _fibrous_, g = _grooves_, y = _scaly_, s = _smooth_\n",
    "3. __cap-color:__ n = _brown_, b = _buff_, c = _cinnamon_, g = _gray_, r = _green_, p = _pink_, u = _purple_,e = _red_, w = _white_,yellow=y \n",
    "4. __bruises?:__ t = _bruises_, f = _no_ \n",
    "5. __odor:__ a = _almond_, l = _anise_, c = _creosote_, y = _fishy_, f = _foul_, m = _musty_, n = _none_,p = _pungent_, s = _spicy_ \n",
    "6. __gill-attachment:__ a = _attached_, d = _descending_, f = _free_, n = _notched_ \n",
    "7. __gill-spacing:__ c = _close_, w = _crowded_, d = _distant_ \n",
    "8. __gill-size:__ b = _broad_, n = _narrow_ \n",
    "9. __gill-color:__ k = _black_, n = _brown_, b = _buff_, h = _chocolate_, g = _gray_, r = _green_ , o = _orange_, p = _pink_, u = _purple_, e = _red_, w = _white_,y = _yellow_ \n",
    "10. __stalk-shape:__ e = _enlarging_, t = _tapering_ \n",
    "11. __stalk-root:__ b = _bulbous_, c = _club_, u = _cup_, e = _equal_, z = _rhizomorphs_, r = _rooted_, ? = _missing_ \n",
    "12. __stalk-surface-above-ring:__ f = _fibrous_, y = _scaly_, k = _silky_, s = _smooth_ \n",
    "13. __stalk-surface-below-ring:__ f = _fibrous_, y = _scaly_, k = _silky_, s = _smooth_ \n",
    "14. __stalk-color-above-ring:__ n = _brown_, b = _buff_, c = _cinnamon_, g = _gray_, o = _orange_, p = _pink_, e = _red_, w = _white_, y = _yellow_ \n",
    "15. __stalk-color-below-ring:__ n = _brown_, b = _buff_, c = _cinnamon_, g = _gray_, o = _orange_, p = _pink_, e = _red_, w = _white_, y = _yellow_ \n",
    "16. __veil-type:__ p = _partial_, u = _universal_ \n",
    "17. __veil-color:__ n = _brown_, o = _orange_, w = _white_, y = _yellow_\n",
    "18. __ring-number:__ n = _none_, o = _one_, t = _two_ \n",
    "19. __ring-type:__ c = _cobwebby_, e = _evanescent_, f = _flaring_, l = _large_, n = _none_, p = _pendant_, s = _sheathing_, z = _zone_ \n",
    "20. __spore-print-color:__ k = black, n = brown, b = buff, h = chocolate, g = gray, r = green , o = _orange_,u = purple, w = white, y = yellow\n",
    "21. __population:__ a = _abundant_, c = _clustered_, n = _numerous_, s = _scattered_, v = _several_, y = _solitary_ \n",
    "22. __habitat:__ g = _grasses_, l = _leaves_, m = _meadows_, p = _paths_, u = _urban_, w = _waste_, d = _woods_\n",
    "\n",
    "If you made it through all of that kudo's to you, I know it's a bit of a tedious read. If not I don't blame you. Now that we made it through all of that lets venture further into our data and check for any missing data.\n"
   ]
  },
  {
   "cell_type": "code",
   "execution_count": 3,
   "metadata": {},
   "outputs": [
    {
     "data": {
      "text/plain": [
       "0"
      ]
     },
     "execution_count": 3,
     "metadata": {},
     "output_type": "execute_result"
    }
   ],
   "source": [
    "# Check for nulls and display the results\n",
    "nulls = df.isnull().sum()\n",
    "nulls.sum()"
   ]
  },
  {
   "cell_type": "markdown",
   "metadata": {},
   "source": [
    "Perfect there is not any missing data, so we don't have to worry about filling in or dropping any data. Now it's time to get to the meat and potatoes. After going through all the hard work of figuring out what the values in the dataset, it's time to change them. Yay! We will use pandas factorize inside of a lambda function to quickly convert the above values to numerical integers. After we will display the new head in order to take a look at the data we're looking at."
   ]
  },
  {
   "cell_type": "code",
   "execution_count": 4,
   "metadata": {},
   "outputs": [
    {
     "data": {
      "text/html": [
       "<div>\n",
       "<style scoped>\n",
       "    .dataframe tbody tr th:only-of-type {\n",
       "        vertical-align: middle;\n",
       "    }\n",
       "\n",
       "    .dataframe tbody tr th {\n",
       "        vertical-align: top;\n",
       "    }\n",
       "\n",
       "    .dataframe thead th {\n",
       "        text-align: right;\n",
       "    }\n",
       "</style>\n",
       "<table border=\"1\" class=\"dataframe\">\n",
       "  <thead>\n",
       "    <tr style=\"text-align: right;\">\n",
       "      <th></th>\n",
       "      <th>class</th>\n",
       "      <th>cap-shape</th>\n",
       "      <th>cap-surface</th>\n",
       "      <th>cap-color</th>\n",
       "      <th>bruises</th>\n",
       "      <th>odor</th>\n",
       "      <th>gill-attachment</th>\n",
       "      <th>gill-spacing</th>\n",
       "      <th>gill-size</th>\n",
       "      <th>gill-color</th>\n",
       "      <th>stalk-shape</th>\n",
       "      <th>stalk-root</th>\n",
       "      <th>stalk-surface-above-ring</th>\n",
       "      <th>stalk-surface-below-ring</th>\n",
       "      <th>stalk-color-above-ring</th>\n",
       "      <th>stalk-color-below-ring</th>\n",
       "      <th>veil-type</th>\n",
       "      <th>veil-color</th>\n",
       "      <th>ring-number</th>\n",
       "      <th>ring-type</th>\n",
       "      <th>spore-print-color</th>\n",
       "      <th>population</th>\n",
       "      <th>habitat</th>\n",
       "    </tr>\n",
       "  </thead>\n",
       "  <tbody>\n",
       "    <tr>\n",
       "      <th>0</th>\n",
       "      <td>0</td>\n",
       "      <td>0</td>\n",
       "      <td>0</td>\n",
       "      <td>0</td>\n",
       "      <td>0</td>\n",
       "      <td>0</td>\n",
       "      <td>0</td>\n",
       "      <td>0</td>\n",
       "      <td>0</td>\n",
       "      <td>0</td>\n",
       "      <td>0</td>\n",
       "      <td>0</td>\n",
       "      <td>0</td>\n",
       "      <td>0</td>\n",
       "      <td>0</td>\n",
       "      <td>0</td>\n",
       "      <td>0</td>\n",
       "      <td>0</td>\n",
       "      <td>0</td>\n",
       "      <td>0</td>\n",
       "      <td>0</td>\n",
       "      <td>0</td>\n",
       "      <td>0</td>\n",
       "    </tr>\n",
       "    <tr>\n",
       "      <th>1</th>\n",
       "      <td>1</td>\n",
       "      <td>0</td>\n",
       "      <td>0</td>\n",
       "      <td>1</td>\n",
       "      <td>0</td>\n",
       "      <td>1</td>\n",
       "      <td>0</td>\n",
       "      <td>0</td>\n",
       "      <td>1</td>\n",
       "      <td>0</td>\n",
       "      <td>0</td>\n",
       "      <td>1</td>\n",
       "      <td>0</td>\n",
       "      <td>0</td>\n",
       "      <td>0</td>\n",
       "      <td>0</td>\n",
       "      <td>0</td>\n",
       "      <td>0</td>\n",
       "      <td>0</td>\n",
       "      <td>0</td>\n",
       "      <td>1</td>\n",
       "      <td>1</td>\n",
       "      <td>1</td>\n",
       "    </tr>\n",
       "    <tr>\n",
       "      <th>2</th>\n",
       "      <td>1</td>\n",
       "      <td>1</td>\n",
       "      <td>0</td>\n",
       "      <td>2</td>\n",
       "      <td>0</td>\n",
       "      <td>2</td>\n",
       "      <td>0</td>\n",
       "      <td>0</td>\n",
       "      <td>1</td>\n",
       "      <td>1</td>\n",
       "      <td>0</td>\n",
       "      <td>1</td>\n",
       "      <td>0</td>\n",
       "      <td>0</td>\n",
       "      <td>0</td>\n",
       "      <td>0</td>\n",
       "      <td>0</td>\n",
       "      <td>0</td>\n",
       "      <td>0</td>\n",
       "      <td>0</td>\n",
       "      <td>1</td>\n",
       "      <td>1</td>\n",
       "      <td>2</td>\n",
       "    </tr>\n",
       "    <tr>\n",
       "      <th>3</th>\n",
       "      <td>0</td>\n",
       "      <td>0</td>\n",
       "      <td>1</td>\n",
       "      <td>2</td>\n",
       "      <td>0</td>\n",
       "      <td>0</td>\n",
       "      <td>0</td>\n",
       "      <td>0</td>\n",
       "      <td>0</td>\n",
       "      <td>1</td>\n",
       "      <td>0</td>\n",
       "      <td>0</td>\n",
       "      <td>0</td>\n",
       "      <td>0</td>\n",
       "      <td>0</td>\n",
       "      <td>0</td>\n",
       "      <td>0</td>\n",
       "      <td>0</td>\n",
       "      <td>0</td>\n",
       "      <td>0</td>\n",
       "      <td>0</td>\n",
       "      <td>0</td>\n",
       "      <td>0</td>\n",
       "    </tr>\n",
       "    <tr>\n",
       "      <th>4</th>\n",
       "      <td>1</td>\n",
       "      <td>0</td>\n",
       "      <td>0</td>\n",
       "      <td>3</td>\n",
       "      <td>1</td>\n",
       "      <td>3</td>\n",
       "      <td>0</td>\n",
       "      <td>1</td>\n",
       "      <td>1</td>\n",
       "      <td>0</td>\n",
       "      <td>1</td>\n",
       "      <td>0</td>\n",
       "      <td>0</td>\n",
       "      <td>0</td>\n",
       "      <td>0</td>\n",
       "      <td>0</td>\n",
       "      <td>0</td>\n",
       "      <td>0</td>\n",
       "      <td>0</td>\n",
       "      <td>1</td>\n",
       "      <td>1</td>\n",
       "      <td>2</td>\n",
       "      <td>1</td>\n",
       "    </tr>\n",
       "  </tbody>\n",
       "</table>\n",
       "</div>"
      ],
      "text/plain": [
       "   class  cap-shape  cap-surface  cap-color  bruises  odor  gill-attachment  gill-spacing  gill-size  gill-color  stalk-shape  stalk-root  stalk-surface-above-ring  stalk-surface-below-ring  stalk-color-above-ring  stalk-color-below-ring  veil-type  veil-color  ring-number  ring-type  spore-print-color  population  habitat\n",
       "0      0          0            0          0        0     0                0             0          0           0            0           0                         0                         0                       0                       0          0           0            0          0                  0           0        0\n",
       "1      1          0            0          1        0     1                0             0          1           0            0           1                         0                         0                       0                       0          0           0            0          0                  1           1        1\n",
       "2      1          1            0          2        0     2                0             0          1           1            0           1                         0                         0                       0                       0          0           0            0          0                  1           1        2\n",
       "3      0          0            1          2        0     0                0             0          0           1            0           0                         0                         0                       0                       0          0           0            0          0                  0           0        0\n",
       "4      1          0            0          3        1     3                0             1          1           0            1           0                         0                         0                       0                       0          0           0            0          1                  1           2        1"
      ]
     },
     "execution_count": 4,
     "metadata": {},
     "output_type": "execute_result"
    }
   ],
   "source": [
    "# Convert data to numerical\n",
    "df_numeric = df.apply(lambda x: pd.factorize(x)[0])\n",
    "df_numeric.head()"
   ]
  },
  {
   "cell_type": "markdown",
   "metadata": {},
   "source": [
    "The new head is looking good. The data has successfully been converted to numerical data, and we can now begin further examining the data and running some tests. Let's start by separating our input features from our output feature. Our Input features are independent variables and our output variable is our dependent variable. Now we will split the data into training and testing sets using train test split, provided by the developers of sklearn."
   ]
  },
  {
   "cell_type": "code",
   "execution_count": 5,
   "metadata": {},
   "outputs": [],
   "source": [
    "# Input variable\n",
    "X = df_numeric[['cap-shape', 'cap-surface', 'cap-color', 'bruises', 'odor', 'gill-attachment', 'gill-spacing', 'gill-size', 'gill-color', 'stalk-shape', 'stalk-root', 'stalk-surface-above-ring', 'stalk-surface-below-ring', 'stalk-color-above-ring', 'stalk-color-below-ring', 'veil-color', 'ring-number', 'ring-type', 'spore-print-color', 'population', 'habitat']\n",
    "]\n",
    "\n",
    "# Output variable\n",
    "y = df_numeric['class']\n",
    "\n",
    "# Splitting the data\n",
    "X_train, X_test, y_train, y_test = train_test_split(X, y, test_size=0.2, random_state=0)"
   ]
  },
  {
   "cell_type": "markdown",
   "metadata": {},
   "source": [
    "Now that we have completed creating our input and output variables and splitting our data into a training and test set let's utilize a heatmap from seaborn to visualize the correlation coefficients of our various features inside of our input variable X. Correlation is most useful for continous data, however it is useful in a binary classifier when it is used to visualize whether some features are passing in inessential or rather redundant features. If there are highly correlated features we will have a decision to make. Will we just ignore the correlation and model it with all of the features? Will we combine the features, or drop one entirely? Keep in mind we want a low amount of features. Having fewer features means the model is less complex and easier to understand. Ladies and gentleman, it is time. Time to determine how various types of mushrooms' attributes correlate amongst each other. I present to you a heatmap:"
   ]
  },
  {
   "cell_type": "code",
   "execution_count": 6,
   "metadata": {},
   "outputs": [
    {
     "data": {
      "image/png": "[encoded data removed]",
      "text/plain": [
       "<matplotlib.figure.Figure at 0x10cbd03c8>"
      ]
     },
     "metadata": {},
     "output_type": "display_data"
    }
   ],
   "source": [
    "# pass in our X variable and visualize it with a seaborn heatmap.\n",
    "plt.figure(figsize=(15,10))\n",
    "corr = X.corr()\n",
    "sns.heatmap(corr);"
   ]
  },
  {
   "cell_type": "markdown",
   "metadata": {},
   "source": [
    "This is a nice looking heatmap. None of our features look highly correlated, however these heatmaps can be hard to interpret for some of us color challenged people, so let's take a look at the top five most correlated features in a language we can all understand. Numbers."
   ]
  },
  {
   "cell_type": "code",
   "execution_count": 7,
   "metadata": {},
   "outputs": [
    {
     "name": "stdout",
     "output_type": "stream",
     "text": [
      "gill-color  gill-size      -0.518717\n",
      "population  gill-spacing   -0.474326\n",
      "gill-size   odor           -0.444492\n",
      "            stalk-root     -0.434232\n",
      "bruises     gill-size      -0.369596\n",
      "dtype: float64\n"
     ]
    }
   ],
   "source": [
    "print(X.corr().unstack().sort_values().drop_duplicates()[:5])"
   ]
  },
  {
   "cell_type": "markdown",
   "metadata": {},
   "source": [
    "Perfect. So we now know our highest correlations are actually negatively correlated and that they are not highly correlated. We will move on to building our first model, where we will utilize sklearns Random Forest Classifier algorithm to determine our most important features."
   ]
  },
  {
   "cell_type": "code",
   "execution_count": 8,
   "metadata": {},
   "outputs": [
    {
     "data": {
      "text/plain": [
       "[('cap-shape', 0.0023656476974860253),\n",
       " ('gill-attachment', 0.0026369618061099897),\n",
       " ('veil-color', 0.003403534475242571),\n",
       " ('stalk-color-below-ring', 0.010852199631460849),\n",
       " ('cap-surface', 0.013043403130270505),\n",
       " ('cap-color', 0.013605447771597412),\n",
       " ('ring-number', 0.015334324177227817),\n",
       " ('stalk-color-above-ring', 0.015817063070476502),\n",
       " ('stalk-shape', 0.019229916249384003),\n",
       " ('gill-spacing', 0.025388792265764182),\n",
       " ('population', 0.026739364657222854),\n",
       " ('habitat', 0.029152473924258977),\n",
       " ('stalk-root', 0.032534345726330266),\n",
       " ('bruises', 0.03317217491233327),\n",
       " ('gill-color', 0.035048691767225804),\n",
       " ('stalk-surface-below-ring', 0.05354372708748896),\n",
       " ('ring-type', 0.05682072276490275),\n",
       " ('stalk-surface-above-ring', 0.06642949082483424),\n",
       " ('gill-size', 0.08495024400537518),\n",
       " ('spore-print-color', 0.12858065057694143),\n",
       " ('odor', 0.33135082347806577)]"
      ]
     },
     "execution_count": 8,
     "metadata": {},
     "output_type": "execute_result"
    }
   ],
   "source": [
    "clf = RandomForestClassifier(n_estimators=X_train.shape[0], random_state=0, n_jobs=-1)\n",
    "\n",
    "# Train the classifier\n",
    "clf.fit(X_train, y_train)\n",
    "features = []\n",
    "# Print the name and gini importance of each feature\n",
    "for feature in zip(X_train, clf.feature_importances_):\n",
    "    features.append(feature)\n",
    "    \n",
    "# sort features and print out the 30 most important.\n",
    "features.sort(key=operator.itemgetter(1))\n",
    "features"
   ]
  },
  {
   "cell_type": "markdown",
   "metadata": {},
   "source": [
    "The sum of our features is one. Odor is above and beyond our biggest indicator of whether a mushroom is edible or poisonous. Let's take a deeper dive and inspect our top three most important features, and explore the data visually to determine if there is an obvious relationship between the values of our feature in our class.  \n",
    "\n",
    "First we'll decipher how many mushrooms in our class are edible and how many are poisonous."
   ]
  },
  {
   "cell_type": "code",
   "execution_count": 9,
   "metadata": {},
   "outputs": [
    {
     "data": {
      "image/png": "[encoded data removed]",
      "text/plain": [
       "<matplotlib.figure.Figure at 0x1a1736cbe0>"
      ]
     },
     "metadata": {},
     "output_type": "display_data"
    }
   ],
   "source": [
    "xticklabels = ['edible', 'poisonous']\n",
    "\n",
    "g = sns.factorplot(x=\"class\", data=df, aspect=2, kind=\"count\", palette='muted', order=df['class'].value_counts().index);\n",
    "g.set_xticklabels(xticklabels,rotation=50);"
   ]
  },
  {
   "cell_type": "markdown",
   "metadata": {},
   "source": [
    "Our split is pretty close with there being slightly more edible samples in our dataset. \n",
    "\n",
    "Let's look at our most important feature: Odor"
   ]
  },
  {
   "cell_type": "code",
   "execution_count": 10,
   "metadata": {},
   "outputs": [
    {
     "data": {
      "image/png": "[encoded data removed]",
      "text/plain": [
       "<matplotlib.figure.Figure at 0x1a17372e48>"
      ]
     },
     "metadata": {},
     "output_type": "display_data"
    }
   ],
   "source": [
    "xticklabels = ['none', 'foul', 'spicy', 'fishy', 'anise', 'almond', 'pungeant', 'creosote', 'musty']\n",
    "g = sns.factorplot(x='odor', hue = \"class\", data=df, aspect=2, kind=\"count\", palette='muted', order=df['odor'].value_counts().index);\n",
    "g.set_xticklabels(xticklabels,rotation=50);"
   ]
  },
  {
   "cell_type": "markdown",
   "metadata": {},
   "source": [
    "Keep in mind that our dataset covers two families of mushrooms and there are uncountable amounts of mushroom species out there. Even for experts it is difficult sometimes to tell mushrooms apart please be careful. The fact that almost all mushrooms that have no smell aren't poisonous, and all of our mushrooms that are foul are sticks out. After taking a further look you can see it is pretty easy to tell them apart by the odor in our dataset. They can be split into two distinct categories. If it's spicy, fishy, pungent, creosote or musty than it is poisonous, and if it's odorless, anise, or almond you can assume it's edible.!\n",
    "\n",
    "Next up is the spore print color. A spore print is a group of spores that look like a powder. To understand what a spore is, it is comparable to a seed. "
   ]
  },
  {
   "cell_type": "code",
   "execution_count": 11,
   "metadata": {},
   "outputs": [
    {
     "data": {
      "image/png": "[encoded data removed]",
      "text/plain": [
       "<matplotlib.figure.Figure at 0x1a1751cf28>"
      ]
     },
     "metadata": {},
     "output_type": "display_data"
    }
   ],
   "source": [
    "xticklabels = ['white', 'brown', 'black', 'chocolate', 'green', 'buff', 'purple', 'yellow', 'orange']\n",
    "g = sns.factorplot(x='spore-print-color', hue = \"class\", data=df, aspect=2, kind=\"count\", palette='muted', order=df['spore-print-color'].value_counts().index);\n",
    "g.set_xticklabels(xticklabels,rotation=50);"
   ]
  },
  {
   "cell_type": "markdown",
   "metadata": {},
   "source": [
    "Looking at the spore print colors is a little bit harder to determine. White and chocolate tend to be poisonous, but it can also be edible, brown and black are the opposite, mostly edible, but can be poisonous. I would say this is a good supportive feature, but definitely not a key indicator. \n",
    "\n",
    "A mushrooms gill is the flap on the underside of the mushroom cap."
   ]
  },
  {
   "cell_type": "code",
   "execution_count": 12,
   "metadata": {},
   "outputs": [
    {
     "data": {
      "image/png": "[encoded data removed]",
      "text/plain": [
       "<matplotlib.figure.Figure at 0x1a13de7c88>"
      ]
     },
     "metadata": {},
     "output_type": "display_data"
    }
   ],
   "source": [
    "xticklabels = ['Broad', 'Narrow']\n",
    "g = sns.factorplot(x='gill-size', hue = \"class\", data=df, aspect=2, palette='muted', kind=\"count\",order=['b','n']);\n",
    "g.set_xticklabels(xticklabels,rotation=50);"
   ]
  },
  {
   "cell_type": "markdown",
   "metadata": {},
   "source": [
    "These are kind of all over the place with a majority of broad being poisonous and narrow, edible. As our feature importance gets lower you can clearly see that it is getting harder to determine whether or not a mushroom is poisonous. If you found an unidentifiable broad mushroom with this being the only data visualization you can see would you eat it? Now what if it was odorless, brown, and broad? The odds seem better right?\n",
    "\n",
    "Our data looks pretty good, so we'll start building our first model. We'll use a Bernoulli Naive Bayes classifier. We will examine the quality of our model by looking at its r squared score as well as a cross validation r squared score. We will also print out the mislabeled points along with a confusion matrix. Naive Bayes really excels when it comes to text classification, so it is interesting to see how it is going to react to our dataset. It is also important to remember that features are assumed to be independent of each other, so it is important that your features aren't too highly correlated. Naive bayes very fast and simple to implement and it also works great with high dimensional data. Now let's see how many mushrooms we can correctly identify!\n"
   ]
  },
  {
   "cell_type": "code",
   "execution_count": 13,
   "metadata": {},
   "outputs": [
    {
     "name": "stdout",
     "output_type": "stream",
     "text": [
      "R score:\n",
      "0.9126153846153846\n",
      "Cross validation R score:\n",
      "[0.86196319 0.88650307 0.92       0.89814815 0.91049383]\n",
      "Number of mislabeled points out of a total 1625 points : 142\n",
      "Confusion Matrix: [[661 112]\n",
      " [ 30 822]]\n",
      "Time: 0:00:00.054367\n"
     ]
    }
   ],
   "source": [
    "# Instantiate our model and store it in a new variable.\n",
    "\n",
    "start_time = time.monotonic()\n",
    "\n",
    "bnb = BernoulliNB()\n",
    "\n",
    "# Fit our model to the data.\n",
    "bnb.fit(X_train, y_train)\n",
    "\n",
    "print('R score:')\n",
    "print(bnb.score(X_test, y_test))\n",
    "print('Cross validation R score:')\n",
    "print(cross_val_score(bnb, X_test, y_test, cv=5))\n",
    "# Classify, storing the result in a new variable.\n",
    "y_pred = bnb.predict(X_test)\n",
    "\n",
    "# Display our results.\n",
    "print(\"Number of mislabeled points out of a total {} points : {}\".format(\n",
    "    X_test.shape[0],\n",
    "    (y_test != y_pred).sum()\n",
    "))\n",
    "print('Confusion Matrix:', confusion_matrix(y_test, y_pred))\n",
    "\n",
    "end_time = time.monotonic()\n",
    "print('Time:', timedelta(seconds=end_time - start_time))"
   ]
  },
  {
   "cell_type": "markdown",
   "metadata": {},
   "source": [
    "96.5%. We will now repeat the process this time solving our specificity score, which you guessed it, is just the opposite of our sensitivity score. We will sum our false positives and negatives 661 + 112 which is equal to 773. We will then divide our correctly selected negatives 661 and divide it by our total number of negatives, which is 773, so 661/773 = 85.5% which is our specificity score. We now know that we are predicting our edible mushrooms better than our poisonous mushrooms.\n",
    "\n",
    "\n",
    "Now it's time to engage our effort into a more advanced model. We'll now input our K nearest neighbor’s classifier to determine whether or not we can get a better score on our data. K nearest neighbors works by plotting the information we want to know, and then taking votes from all the surrounding points in the data set in order to attempt classifying the data correctly. KNN is a solid model and excels with tasks such as recommending products and movies. The algorithm is flexible with features, handles multi-class cases and also allows you to choose your distance measurement, however it can be resource heavy and works best when there is enough data to represent what we are searching for. We will examine our success in much the same way as we did with our Naive Bayes classifier. It's time.\n"
   ]
  },
  {
   "cell_type": "code",
   "execution_count": 14,
   "metadata": {},
   "outputs": [
    {
     "name": "stdout",
     "output_type": "stream",
     "text": [
      "R score:\n",
      "1.0\n",
      "Cross validation R score:\n",
      "[0.97546012 0.98773006 0.99692308 0.99691358 0.99074074]\n",
      "Number of mislabeled points out of a total 1625 points : 0\n",
      "Confusion Matrix: [[773   0]\n",
      " [  0 852]]\n",
      "Time: 0:00:00.276762\n"
     ]
    }
   ],
   "source": [
    "start_time = time.monotonic()\n",
    "\n",
    "knn = neighbors.KNeighborsClassifier(n_neighbors=5, weights='distance')\n",
    "knn.fit(X_train, y_train)\n",
    "\n",
    "# Set up our prediction line.\n",
    "\n",
    "print('R score:')\n",
    "print(knn.score(X_test, y_test))\n",
    "print('Cross validation R score:')\n",
    "print(cross_val_score(knn, X_test, y_test, cv=5))\n",
    "y_pred = knn.predict(X_test)\n",
    "\n",
    "# Display our results.\n",
    "print(\"Number of mislabeled points out of a total {} points : {}\".format(\n",
    "    X_test.shape[0],\n",
    "    (y_test != y_pred).sum()\n",
    "))\n",
    "print('Confusion Matrix:', confusion_matrix(y_test, y_pred))\n",
    "end_time = time.monotonic()\n",
    "print('Time:', timedelta(seconds=end_time - start_time))"
   ]
  },
  {
   "cell_type": "markdown",
   "metadata": {},
   "source": [
    "Our KNN model has proven its worth. It is working exceptionally, is predicting our data near perfectly. We achieved a perfect score on our training data, and a near perfect score on our test data. Our sensitivity and specificity are perfect. As you can see from our time metric, the KNN algorithm took nearly six times as long as our Naive Bayes model.\n",
    "\n",
    "Our KNN model worked very well, and with the data size wasn't too resource expensive. We're now going to build our Support Vector Machine Classifier model. SVM has been around for a very long time, and has become popular again in recent history. It is great with multi-class information, high dimensional data, accuracy, and works well with small datasets. It can be very, very resource intensive, which will not take you long to figure out if you utilize this model. SVM is also prone to over fitting which can be a problem.\n"
   ]
  },
  {
   "cell_type": "code",
   "execution_count": 15,
   "metadata": {},
   "outputs": [
    {
     "name": "stdout",
     "output_type": "stream",
     "text": [
      "R score:\n",
      "1.0\n",
      "Cross validation R score:\n",
      "[1.         1.         1.         0.99691358 1.        ]\n",
      "Number of mislabeled points out of a total 1625 points : 0\n",
      "Confusion Matrix: [[773   0]\n",
      " [  0 852]]\n",
      "Time: 0:00:00.469113\n"
     ]
    }
   ],
   "source": [
    "start_time = time.monotonic()\n",
    "\n",
    "# fitting the data to the model\n",
    "svc = SVC()\n",
    "svc.fit(X_train,y_train)\n",
    "\n",
    "# testing the R score\n",
    "print('R score:')\n",
    "print(svc.score(X_test, y_test))\n",
    "print('Cross validation R score:')\n",
    "print(cross_val_score(svc, X_test, y_test, cv=5))\n",
    "y_pred = knn.predict(X_test)\n",
    "\n",
    "# Display our results.\n",
    "print(\"Number of mislabeled points out of a total {} points : {}\".format(\n",
    "    X_test.shape[0],\n",
    "    (y_test != y_pred).sum()\n",
    "))\n",
    "print('Confusion Matrix:', confusion_matrix(y_test, y_pred))\n",
    "end_time = time.monotonic()\n",
    "print('Time:', timedelta(seconds=end_time - start_time))"
   ]
  },
  {
   "cell_type": "markdown",
   "metadata": {},
   "source": [
    "Would you look at that. Perfection. Our SVM classifier is working very well even outperforming our KNN algorithm in our cross validation scoring. We again have perfect specificity and sensitivity scores. Look at that time though, wow. This model took ten times as long to run as our original Naive Bayes model. It is easy to see the downfall of this model. Though it is highly accurate, it is very slow.\n",
    "\n",
    "Now we'll take a look at one of my favorite classifiers, The Random Forest classifier. Random forest is known as an ensemble method. What that means is several decision tree classifiers will be created, and each decision tree will receive a vote (sound familiar?) on the outcome for each given observation. Random forest excels at many things including lowering variance, preventing over fitting, providing importance measures like our feature selection earlier, and it also works great for classification and regression. It is difficult to interpret the results, because of how it is calculated.\n"
   ]
  },
  {
   "cell_type": "code",
   "execution_count": 16,
   "metadata": {},
   "outputs": [
    {
     "name": "stdout",
     "output_type": "stream",
     "text": [
      "R score:\n",
      "1.0\n",
      "Cross validation R score:\n",
      "[0.99693252 1.         1.         1.         1.        ]\n",
      "Number of mislabeled points out of a total 1625 points : 0\n",
      "Confusion Matrix: [[773   0]\n",
      " [  0 852]]\n",
      "Time: 0:00:01.456283\n"
     ]
    }
   ],
   "source": [
    "start_time = time.monotonic()\n",
    "\n",
    "rfc = ensemble.RandomForestClassifier(n_jobs=-1)\n",
    "\n",
    "rfc = rfc.fit(X, y)\n",
    "\n",
    "print('R score:')\n",
    "print(rfc.score(X_test, y_test))\n",
    "print('Cross validation R score:')\n",
    "print(cross_val_score(rfc, X_test, y_test, cv=5))\n",
    "y_pred = rfc.predict(X_test)\n",
    "\n",
    "# Display our results.\n",
    "print(\"Number of mislabeled points out of a total {} points : {}\".format(\n",
    "    X_test.shape[0],\n",
    "    (y_test != y_pred).sum()\n",
    "))\n",
    "print('Confusion Matrix:', confusion_matrix(y_test, y_pred))\n",
    "end_time = time.monotonic()\n",
    "print('Time:', timedelta(seconds=end_time - start_time))"
   ]
  },
  {
   "cell_type": "markdown",
   "metadata": {},
   "source": [
    "Our random forest model has proven to be effective echoing similar results to our KNN, and SVM models. But wow would you look at the time it took to run? It higher than all of our other scores combined. You can see how that can be a problem. However it is a highly effective method and often times the pros outweigh the cons.\n",
    "\n",
    "## Discussion and Conclusion:\n",
    "We have covered a lot of information in our short time together. First we imported our dataset, examined the variables and converted our data to numerical values, which then allowed us to proceed examining the data with various statistical measures and models. Checking for correlation was a breeze. We chose our income and outcome variables from our various features and even determined which features are most important. \n",
    "        \n",
    "We then took a deeper dive into our top three most important features determining that odor is the biggest tell when it comes to a mushroom being poisonous or not. Spore print color and gill size have proven to be effective secondary predictors, but they are a little bit harder to decipher with the naked eye. \n",
    "        \n",
    "After examining our features we decided to jump into building some models. We built four different models including a Naive Bayes classifier, K Nearest Neighbors classifier, Support Vector Classifier, and a Random Forest classifier. Naive Bayes proved to be the least effective in predicting our mushrooms, with only about a 90% prediction accuracy. The rest of our models on the other hand performed very well, all correctly classifying all of the information. What really set our other models apart is the speed. KNN performed faster than both our Support Vector classifier and our Random Forest classifier.\n",
    "        \n",
    "Mushroom classification is very fun and rewarding, but also very dangerous. It is important to only eat mushrooms if you are 100% sure that the mushroom isn't poisonous. It is also important to note that our study has some bias, because there were only two families of mushrooms tested, with there being a large amount of other families. We were able to predict two different families of mushrooms, which include Agaricus and Lepiota with a 100% accuracy rate with multiple models, and the score remained consistent across different sample sets. I would label this experiment a success. This useful will be useful for learning about data evaluation, different models, and mushrooms. If i had to choose one model, I would go with SVM as it seemed to do just a little bit better than the rest.\n"
   ]
  }
 ],
 "metadata": {
  "kernelspec": {
   "display_name": "Python 3",
   "language": "python",
   "name": "python3"
  },
  "language_info": {
   "codemirror_mode": {
    "name": "ipython",
    "version": 3
   },
   "file_extension": ".py",
   "mimetype": "text/x-python",
   "name": "python",
   "nbconvert_exporter": "python",
   "pygments_lexer": "ipython3",
   "version": "3.6.4"
  }
 },
 "nbformat": 4,
 "nbformat_minor": 2
}
