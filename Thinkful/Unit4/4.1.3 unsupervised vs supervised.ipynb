{
 "cells": [
  {
   "cell_type": "markdown",
   "metadata": {},
   "source": [
    "__Define the likelihood that an individual will contract a specific disease__\n",
    "_supervised, because having the disease or not is an obvious outcome_\n",
    "\n",
    "__Translate a set of images into variables for modeling__\n",
    "_unsupervised learning, because images can have various variables that may be hard to detect.\n",
    "\n",
    "__An ecommerce company wants to identify power users__\n",
    "_it can go either way  it depends if theres a clear outcome._\n",
    "\n",
    "__That same company wants to see shopping patterns in users__\n",
    "_unsupervised learning, because I believe clustering would be effective to find groups and similar patterns_\n",
    "\n",
    "__You want to reduce the number of variables inputting into your random forest model__\n",
    "? trick question? pca or feature selection would solve this with a supervised or unsupervised technique.\n"
   ]
  }
 ],
 "metadata": {
  "kernelspec": {
   "display_name": "Python 3.6",
   "language": "python",
   "name": "python36"
  },
  "language_info": {
   "codemirror_mode": {
    "name": "ipython",
    "version": 3
   },
   "file_extension": ".py",
   "mimetype": "text/x-python",
   "name": "python",
   "nbconvert_exporter": "python",
   "pygments_lexer": "ipython3",
   "version": "3.6.3"
  }
 },
 "nbformat": 4,
 "nbformat_minor": 2
}
