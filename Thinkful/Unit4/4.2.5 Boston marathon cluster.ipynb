{
 "cells": [
  {
   "cell_type": "markdown",
   "metadata": {},
   "source": [
    "## Boston Marathon Cluster Challenge\n",
    "__July, 2018 - Christopher Sanchez__\n",
    "\n",
    "We will be examining some data about the Boston Marathon. We are going to try to cluster the data, and determine the best cluster type, and the amount of clusters. We will also see what we can learn from the data. The data can be found at the following link: https://github.com/llimllib/bostonmarathon\n",
    "\n",
    "Let's begin!"
   ]
  },
  {
   "cell_type": "code",
   "execution_count": 1,
   "metadata": {},
   "outputs": [],
   "source": [
    "import numpy as np\n",
    "import pandas as pd\n",
    "import scipy\n",
    "import matplotlib.pyplot as plt\n",
    "import seaborn as sns\n",
    "import sklearn\n",
    "from sklearn.model_selection import train_test_split\n",
    "from sklearn.decomposition import PCA\n",
    "from sklearn.cluster import KMeans, MeanShift, estimate_bandwidth, SpectralClustering, AffinityPropagation\n",
    "from sklearn import metrics, preprocessing\n",
    "from itertools import cycle\n",
    "from mpl_toolkits.mplot3d import Axes3D\n",
    "pd.set_option('display.max_rows', 500)\n",
    "pd.set_option('display.max_columns', 500)\n",
    "pd.set_option('display.width', 1000)\n",
    "%matplotlib inline\n",
    "%matplotlib notebook\n"
   ]
  },
  {
   "cell_type": "markdown",
   "metadata": {},
   "source": [
    "Let's import our data, and create a copy to allow us to look back at our original data after it has been processed. We'll also display the shape and head of the data."
   ]
  },
  {
   "cell_type": "code",
   "execution_count": 2,
   "metadata": {},
   "outputs": [
    {
     "name": "stdout",
     "output_type": "stream",
     "text": [
      "     25k  age               name  division    10k gender   half  official bib  ctz country  overall  pace state    30k     5k  genderdiv    20k     35k      city     40k\n",
      "0  49.87   28   Cassidy, Josh R.         9  18.18      M  40.93     90.90  W1  NaN     CAN        9  3.47    ON  62.07   8.90          9  38.80   74.73   Toronto   85.55\n",
      "1  77.27   30      Korir, Wesley         5  30.90      M  64.90    132.50   1  NaN     KEN        5  5.07   NaN  92.97  15.90          5  61.52  108.78     Kenya  124.77\n",
      "2  77.23   23     Desisa, Lelisa         1  30.90      M  64.92    130.37   2  NaN     ETH        1  4.98   NaN  92.72  15.93          1  61.53  108.68      Ambo  123.78\n",
      "3  50.50   32  Fearnley, Kurt H.         5  18.73      M  42.00     88.43  W2  NaN     AUS        5  3.38   NaN  61.35   8.98          5  39.88   73.00  Hamilton   83.43\n",
      "4  48.75   39     Hokinoue, Kota         3  18.18      M  40.57     87.22  W3  NaN     JPN        3  3.33   NaN  59.92   8.92          3  38.55   71.68    Iizuka   81.88\n",
      "(16164, 21)\n"
     ]
    }
   ],
   "source": [
    "df = pd.read_csv('https://raw.githubusercontent.com/llimllib/bostonmarathon/master/results/2013/results.csv')\n",
    "df_copy = df.copy()\n",
    "\n",
    "print(df.head())\n",
    "print(df.shape)"
   ]
  },
  {
   "cell_type": "markdown",
   "metadata": {},
   "source": [
    "It's looking good. The first things to notice are the features that contain strings, and the NaN values. We will handle the strings later on, but for now let's take a look at the missing values."
   ]
  },
  {
   "cell_type": "code",
   "execution_count": 3,
   "metadata": {},
   "outputs": [
    {
     "data": {
      "text/plain": [
       "25k              0\n",
       "age              0\n",
       "name             0\n",
       "division         0\n",
       "10k              0\n",
       "gender           0\n",
       "half             0\n",
       "official         0\n",
       "bib              0\n",
       "ctz          15407\n",
       "country          0\n",
       "overall          0\n",
       "pace             0\n",
       "state         1463\n",
       "30k              0\n",
       "5k               0\n",
       "genderdiv        0\n",
       "20k              0\n",
       "35k              0\n",
       "city             1\n",
       "40k              0\n",
       "dtype: int64"
      ]
     },
     "execution_count": 3,
     "metadata": {},
     "output_type": "execute_result"
    }
   ],
   "source": [
    "pd.isnull(df).sum()"
   ]
  },
  {
   "cell_type": "markdown",
   "metadata": {},
   "source": [
    "Ok great, the only missing values are strings, so they won't be necessary, lets go ahead and process the data now."
   ]
  },
  {
   "cell_type": "code",
   "execution_count": 4,
   "metadata": {},
   "outputs": [],
   "source": [
    "# dropping values with strings and converting our gender feature to binary values.\n",
    "df.drop(['name', 'bib', 'country', 'genderdiv', 'division', 'ctz', 'state', 'city'], axis=1, inplace = True)\n",
    "df['gender'] = df['gender'].replace('M', 0)\n",
    "df['gender'] = df['gender'].replace('F', 1)\n",
    "\n",
    "# name our columns, so we don't lose the names after we process the dataframe.\n",
    "columns = ['25k', 'age', '10k', 'gender', 'half', 'official', 'overall', 'pace', '30k', '5k', '20k', '35k', '40k']\n",
    "\n",
    "# convert the dataframe to numeric, drop the missing values and normalize the data.\n",
    "df = df.apply(pd.to_numeric, errors = 'coerce')\n",
    "df = df.dropna()\n",
    "df = preprocessing.normalize(df)\n",
    "df = pd.DataFrame(df, columns=columns)\n",
    "\n",
    "# Create our pca for visualization\n",
    "X_pca = PCA(2).fit_transform(df)\n"
   ]
  },
  {
   "cell_type": "markdown",
   "metadata": {},
   "source": [
    "Now that we've accomplished that lets take a deeper dive into the data. We'll start by examining our correlated features."
   ]
  },
  {
   "cell_type": "code",
   "execution_count": 5,
   "metadata": {},
   "outputs": [
    {
     "data": {
      "text/plain": [
       "<matplotlib.axes._subplots.AxesSubplot at 0x1a0d6091d0>"
      ]
     },
     "execution_count": 5,
     "metadata": {},
     "output_type": "execute_result"
    },
    {
     "data": {
      "image/png": "[encoded data removed]",
      "text/plain": [
       "<matplotlib.figure.Figure at 0x1a0e92d320>"
      ]
     },
     "metadata": {},
     "output_type": "display_data"
    }
   ],
   "source": [
    "corr = df.corr()\n",
    "sns.heatmap(corr)"
   ]
  },
  {
   "cell_type": "markdown",
   "metadata": {},
   "source": [
    "It seems most of our features are correlated, besides gender. How a runner does on one run directly correlates how he did on another. It also effects the pace and overall.\n",
    "\n",
    "Let's take a look at our age distribution:"
   ]
  },
  {
   "cell_type": "code",
   "execution_count": 6,
   "metadata": {},
   "outputs": [
    {
     "data": {
      "image/png": "[encoded data removed]",
      "text/plain": [
       "<matplotlib.figure.Figure at 0x108b41b00>"
      ]
     },
     "metadata": {},
     "output_type": "display_data"
    }
   ],
   "source": [
    "plt.violinplot(df_copy['age']);"
   ]
  },
  {
   "cell_type": "markdown",
   "metadata": {},
   "source": [
    "It looks like our widest range of runners are in their 40's. It is impressive to see people still participating after they're 70 years old.\n",
    "\n",
    "How many of our runners are male and how many are female?"
   ]
  },
  {
   "cell_type": "code",
   "execution_count": 7,
   "metadata": {},
   "outputs": [
    {
     "name": "stdout",
     "output_type": "stream",
     "text": [
      "M    9680\n",
      "F    6484\n",
      "Name: gender, dtype: int64\n"
     ]
    },
    {
     "data": {
      "image/png": "[encoded data removed]",
      "text/plain": [
       "<matplotlib.figure.Figure at 0x108b2bc18>"
      ]
     },
     "metadata": {},
     "output_type": "display_data"
    }
   ],
   "source": [
    "xticklabels = ['Male', 'Female']\n",
    "g = sns.countplot(df_copy['gender']);\n",
    "g.set_xticklabels(xticklabels, rotation=50);\n",
    "print(df_copy.gender.value_counts())"
   ]
  },
  {
   "cell_type": "markdown",
   "metadata": {},
   "source": [
    "There is over 30% more male runners than female runners.\n",
    "\n",
    "How does age effect run times?"
   ]
  },
  {
   "cell_type": "code",
   "execution_count": 8,
   "metadata": {},
   "outputs": [
    {
     "data": {
      "image/png": "[encoded data removed]",
      "text/plain": [
       "<matplotlib.figure.Figure at 0x1089c6518>"
      ]
     },
     "metadata": {},
     "output_type": "display_data"
    }
   ],
   "source": [
    "plt.scatter(df_copy['age'], df_copy['pace']);"
   ]
  },
  {
   "cell_type": "markdown",
   "metadata": {},
   "source": [
    "It looks like younger runners have a higher pace than the older runners, however there are some older runner outliers.\n",
    "\n",
    "We now know that there is a diverse range of ages, more male runners, and age does effect pace. We also know that most of our variables are correlated amongst each other. Now lets get to clustering. We will start by figuring out our best K Means model. We will experiment with different sized clusters, and determine the best cluster with a silhouette score."
   ]
  },
  {
   "cell_type": "markdown",
   "metadata": {},
   "source": [
    "## KMeans"
   ]
  },
  {
   "cell_type": "code",
   "execution_count": 9,
   "metadata": {},
   "outputs": [
    {
     "data": {
      "image/png": "[encoded data removed]",
      "text/plain": [
       "<matplotlib.figure.Figure at 0x1a18d2a080>"
      ]
     },
     "metadata": {},
     "output_type": "display_data"
    },
    {
     "name": "stdout",
     "output_type": "stream",
     "text": [
      "0.9398291180964314\n"
     ]
    }
   ],
   "source": [
    "\n",
    "# Calculate predicted values.\n",
    "km = KMeans(n_clusters=2, random_state=42).fit(df)\n",
    "km_labels = km.labels_\n",
    "\n",
    "df['KMeansLabels'] = pd.Series(km_labels, index=df.index)\n",
    "# Plot the solution.\n",
    "fig = plt.figure()\n",
    "\n",
    "ax = fig.add_subplot(111, projection='3d')\n",
    "\n",
    "ax.scatter(X_pca[:, 0], X_pca[:, 1],c=km_labels)\n",
    "plt.show()\n",
    "\n",
    "from sklearn import metrics\n",
    "    \n",
    "#metrics.adjusted_rand_score(y, y_pred)\n",
    "\n",
    "print(metrics.silhouette_score(df, km_labels, metric='euclidean'))"
   ]
  },
  {
   "cell_type": "markdown",
   "metadata": {},
   "source": [
    "After some number of cluster adjustments we were able to determine that 2 clusters is the best and we were able to get a silhouette score of 94% meaning our clustering algorithm was very good at separating our clusters. How did it separate the clusters though? Let's take a look."
   ]
  },
  {
   "cell_type": "code",
   "execution_count": 10,
   "metadata": {},
   "outputs": [
    {
     "data": {
      "text/html": [
       "<div>\n",
       "<style scoped>\n",
       "    .dataframe tbody tr th:only-of-type {\n",
       "        vertical-align: middle;\n",
       "    }\n",
       "\n",
       "    .dataframe tbody tr th {\n",
       "        vertical-align: top;\n",
       "    }\n",
       "\n",
       "    .dataframe thead th {\n",
       "        text-align: right;\n",
       "    }\n",
       "</style>\n",
       "<table border=\"1\" class=\"dataframe\">\n",
       "  <thead>\n",
       "    <tr style=\"text-align: right;\">\n",
       "      <th></th>\n",
       "      <th>25k</th>\n",
       "      <th>age</th>\n",
       "      <th>10k</th>\n",
       "      <th>gender</th>\n",
       "      <th>half</th>\n",
       "      <th>official</th>\n",
       "      <th>overall</th>\n",
       "      <th>pace</th>\n",
       "      <th>30k</th>\n",
       "      <th>5k</th>\n",
       "      <th>20k</th>\n",
       "      <th>35k</th>\n",
       "      <th>40k</th>\n",
       "    </tr>\n",
       "    <tr>\n",
       "      <th>KMeansLabels</th>\n",
       "      <th></th>\n",
       "      <th></th>\n",
       "      <th></th>\n",
       "      <th></th>\n",
       "      <th></th>\n",
       "      <th></th>\n",
       "      <th></th>\n",
       "      <th></th>\n",
       "      <th></th>\n",
       "      <th></th>\n",
       "      <th></th>\n",
       "      <th></th>\n",
       "      <th></th>\n",
       "    </tr>\n",
       "  </thead>\n",
       "  <tbody>\n",
       "    <tr>\n",
       "      <th>0</th>\n",
       "      <td>0.022340</td>\n",
       "      <td>0.007869</td>\n",
       "      <td>0.008874</td>\n",
       "      <td>0.000048</td>\n",
       "      <td>0.018790</td>\n",
       "      <td>0.038994</td>\n",
       "      <td>0.994144</td>\n",
       "      <td>0.001489</td>\n",
       "      <td>0.027056</td>\n",
       "      <td>0.004452</td>\n",
       "      <td>0.017814</td>\n",
       "      <td>0.031928</td>\n",
       "      <td>0.036838</td>\n",
       "    </tr>\n",
       "    <tr>\n",
       "      <th>1</th>\n",
       "      <td>0.219343</td>\n",
       "      <td>0.081951</td>\n",
       "      <td>0.086813</td>\n",
       "      <td>0.000069</td>\n",
       "      <td>0.184619</td>\n",
       "      <td>0.380447</td>\n",
       "      <td>0.566205</td>\n",
       "      <td>0.014530</td>\n",
       "      <td>0.265437</td>\n",
       "      <td>0.043380</td>\n",
       "      <td>0.175115</td>\n",
       "      <td>0.312693</td>\n",
       "      <td>0.359279</td>\n",
       "    </tr>\n",
       "  </tbody>\n",
       "</table>\n",
       "</div>"
      ],
      "text/plain": [
       "                   25k       age       10k    gender      half  official   overall      pace       30k        5k       20k       35k       40k\n",
       "KMeansLabels                                                                                                                                  \n",
       "0             0.022340  0.007869  0.008874  0.000048  0.018790  0.038994  0.994144  0.001489  0.027056  0.004452  0.017814  0.031928  0.036838\n",
       "1             0.219343  0.081951  0.086813  0.000069  0.184619  0.380447  0.566205  0.014530  0.265437  0.043380  0.175115  0.312693  0.359279"
      ]
     },
     "execution_count": 10,
     "metadata": {},
     "output_type": "execute_result"
    }
   ],
   "source": [
    "group_by_kmeans = df.groupby('KMeansLabels').mean()\n",
    "group_by_kmeans.head()"
   ]
  },
  {
   "cell_type": "markdown",
   "metadata": {},
   "source": [
    "After reviewing the clusters of our KMeans model we can learn quite a bit of valuable information.\n",
    "\n",
    "Group 0:\n",
    "- Has the fastest run times, lowest age, highest overall, fastest pace. So from this cluster it appears that younger people and males are the fastest.\n",
    "\n",
    "Group 1:\n",
    "- Is full of the slower runners. It has the slowest run times, a higher age, a higher percentage of females a lower overall score, and a slower pace. \n",
    "\n",
    "Now let's see if we can do better with a different algorithm. We will try MeanShift. It is important to note that Mean Shift determines its own clusters."
   ]
  },
  {
   "cell_type": "markdown",
   "metadata": {},
   "source": [
    "## MeanShift"
   ]
  },
  {
   "cell_type": "code",
   "execution_count": 11,
   "metadata": {},
   "outputs": [
    {
     "data": {
      "image/png": "[encoded data removed]",
      "text/plain": [
       "<matplotlib.figure.Figure at 0x1a14473f98>"
      ]
     },
     "metadata": {},
     "output_type": "display_data"
    },
    {
     "name": "stdout",
     "output_type": "stream",
     "text": [
      "Number of estimated clusters: 5\n",
      "Comparing the assigned categories to the ones in the data:\n",
      "Silhouette score: 0.9549608938217509\n"
     ]
    }
   ],
   "source": [
    "\n",
    "# Here we set the bandwidth. This function automatically derives a bandwidth\n",
    "# number based on an inspection of the distances among points in the data.\n",
    "bandwidth = estimate_bandwidth(df, quantile=0.4, n_samples=500)\n",
    "\n",
    "# Declare and fit the model.\n",
    "ms = MeanShift(bandwidth=bandwidth, bin_seeding=True)\n",
    "ms = ms.fit(df)\n",
    "\n",
    "# Extract cluster assignments for each data point.\n",
    "ms_labels = ms.labels_\n",
    "df['MeanShiftLabels'] = pd.Series(ms_labels, index=df.index)\n",
    "# Coordinates of the cluster centers.\n",
    "cluster_centers = ms.cluster_centers_\n",
    "\n",
    "# Count our clusters.\n",
    "n_clusters_ = len(np.unique(ms_labels))\n",
    "\n",
    "\n",
    "fig = plt.figure()\n",
    "\n",
    "ax = fig.add_subplot(111, projection='3d')\n",
    "\n",
    "ax.scatter(X_pca[:, 0], X_pca[:, 1],c=ms_labels)\n",
    "plt.show()\n",
    "print(\"Number of estimated clusters: {}\".format(n_clusters_))\n",
    "print('Comparing the assigned categories to the ones in the data:')\n",
    "print('Silhouette score:', metrics.silhouette_score(df, ms_labels, metric='euclidean'))\n"
   ]
  },
  {
   "cell_type": "code",
   "execution_count": 12,
   "metadata": {},
   "outputs": [
    {
     "data": {
      "text/html": [
       "<div>\n",
       "<style scoped>\n",
       "    .dataframe tbody tr th:only-of-type {\n",
       "        vertical-align: middle;\n",
       "    }\n",
       "\n",
       "    .dataframe tbody tr th {\n",
       "        vertical-align: top;\n",
       "    }\n",
       "\n",
       "    .dataframe thead th {\n",
       "        text-align: right;\n",
       "    }\n",
       "</style>\n",
       "<table border=\"1\" class=\"dataframe\">\n",
       "  <thead>\n",
       "    <tr style=\"text-align: right;\">\n",
       "      <th></th>\n",
       "      <th>25k</th>\n",
       "      <th>age</th>\n",
       "      <th>10k</th>\n",
       "      <th>gender</th>\n",
       "      <th>half</th>\n",
       "      <th>official</th>\n",
       "      <th>overall</th>\n",
       "      <th>pace</th>\n",
       "      <th>30k</th>\n",
       "      <th>5k</th>\n",
       "      <th>20k</th>\n",
       "      <th>35k</th>\n",
       "      <th>40k</th>\n",
       "      <th>KMeansLabels</th>\n",
       "    </tr>\n",
       "    <tr>\n",
       "      <th>MeanShiftLabels</th>\n",
       "      <th></th>\n",
       "      <th></th>\n",
       "      <th></th>\n",
       "      <th></th>\n",
       "      <th></th>\n",
       "      <th></th>\n",
       "      <th></th>\n",
       "      <th></th>\n",
       "      <th></th>\n",
       "      <th></th>\n",
       "      <th></th>\n",
       "      <th></th>\n",
       "      <th></th>\n",
       "      <th></th>\n",
       "    </tr>\n",
       "  </thead>\n",
       "  <tbody>\n",
       "    <tr>\n",
       "      <th>0</th>\n",
       "      <td>0.022340</td>\n",
       "      <td>0.007869</td>\n",
       "      <td>0.008874</td>\n",
       "      <td>0.000048</td>\n",
       "      <td>0.018790</td>\n",
       "      <td>0.038994</td>\n",
       "      <td>0.994144</td>\n",
       "      <td>0.001489</td>\n",
       "      <td>0.027056</td>\n",
       "      <td>0.004452</td>\n",
       "      <td>0.017814</td>\n",
       "      <td>0.031928</td>\n",
       "      <td>0.036838</td>\n",
       "      <td>0</td>\n",
       "    </tr>\n",
       "    <tr>\n",
       "      <th>1</th>\n",
       "      <td>0.167232</td>\n",
       "      <td>0.058084</td>\n",
       "      <td>0.066548</td>\n",
       "      <td>0.000023</td>\n",
       "      <td>0.140895</td>\n",
       "      <td>0.289018</td>\n",
       "      <td>0.814843</td>\n",
       "      <td>0.011037</td>\n",
       "      <td>0.201934</td>\n",
       "      <td>0.033361</td>\n",
       "      <td>0.133602</td>\n",
       "      <td>0.237382</td>\n",
       "      <td>0.273145</td>\n",
       "      <td>1</td>\n",
       "    </tr>\n",
       "    <tr>\n",
       "      <th>2</th>\n",
       "      <td>0.284196</td>\n",
       "      <td>0.129270</td>\n",
       "      <td>0.110256</td>\n",
       "      <td>0.000307</td>\n",
       "      <td>0.238185</td>\n",
       "      <td>0.499790</td>\n",
       "      <td>0.108465</td>\n",
       "      <td>0.019089</td>\n",
       "      <td>0.346665</td>\n",
       "      <td>0.054655</td>\n",
       "      <td>0.226062</td>\n",
       "      <td>0.411443</td>\n",
       "      <td>0.471094</td>\n",
       "      <td>1</td>\n",
       "    </tr>\n",
       "    <tr>\n",
       "      <th>3</th>\n",
       "      <td>0.228860</td>\n",
       "      <td>0.079113</td>\n",
       "      <td>0.091372</td>\n",
       "      <td>0.000000</td>\n",
       "      <td>0.193028</td>\n",
       "      <td>0.394294</td>\n",
       "      <td>0.613029</td>\n",
       "      <td>0.015060</td>\n",
       "      <td>0.276097</td>\n",
       "      <td>0.045824</td>\n",
       "      <td>0.183077</td>\n",
       "      <td>0.324226</td>\n",
       "      <td>0.372706</td>\n",
       "      <td>1</td>\n",
       "    </tr>\n",
       "    <tr>\n",
       "      <th>4</th>\n",
       "      <td>0.270408</td>\n",
       "      <td>0.093414</td>\n",
       "      <td>0.107627</td>\n",
       "      <td>0.000000</td>\n",
       "      <td>0.227895</td>\n",
       "      <td>0.467365</td>\n",
       "      <td>0.363714</td>\n",
       "      <td>0.017850</td>\n",
       "      <td>0.326254</td>\n",
       "      <td>0.053766</td>\n",
       "      <td>0.216114</td>\n",
       "      <td>0.383408</td>\n",
       "      <td>0.441340</td>\n",
       "      <td>1</td>\n",
       "    </tr>\n",
       "  </tbody>\n",
       "</table>\n",
       "</div>"
      ],
      "text/plain": [
       "                      25k       age       10k    gender      half  official   overall      pace       30k        5k       20k       35k       40k  KMeansLabels\n",
       "MeanShiftLabels                                                                                                                                                \n",
       "0                0.022340  0.007869  0.008874  0.000048  0.018790  0.038994  0.994144  0.001489  0.027056  0.004452  0.017814  0.031928  0.036838             0\n",
       "1                0.167232  0.058084  0.066548  0.000023  0.140895  0.289018  0.814843  0.011037  0.201934  0.033361  0.133602  0.237382  0.273145             1\n",
       "2                0.284196  0.129270  0.110256  0.000307  0.238185  0.499790  0.108465  0.019089  0.346665  0.054655  0.226062  0.411443  0.471094             1\n",
       "3                0.228860  0.079113  0.091372  0.000000  0.193028  0.394294  0.613029  0.015060  0.276097  0.045824  0.183077  0.324226  0.372706             1\n",
       "4                0.270408  0.093414  0.107627  0.000000  0.227895  0.467365  0.363714  0.017850  0.326254  0.053766  0.216114  0.383408  0.441340             1"
      ]
     },
     "execution_count": 12,
     "metadata": {},
     "output_type": "execute_result"
    }
   ],
   "source": [
    "group_by_meanshift = df.groupby('MeanShiftLabels').mean()\n",
    "group_by_meanshift.head()"
   ]
  },
  {
   "cell_type": "markdown",
   "metadata": {},
   "source": [
    "Our Mean Shift algorithm performed even better than our K means model producing a silhouette score of 95%. Instead of 2 clusters it used 5.\n",
    "\n",
    "After reviewing our clusters we can determine that:\n",
    "\n",
    "Cluster 0 consists of the fastest runners, the highest overall and the fastest pace.\n",
    "\n",
    "Cluster 1 is a little bit slower than cluster 0, but similar.\n",
    "\n",
    "Cluster 2 is our slowest runners, having the lowest run times, overall, and pace.\n",
    "\n",
    "Cluster 3 is in the middle of clusters 1 and 2\n",
    "\n",
    "Cluster 4 is slightly faster that cluster 2, but slower than cluster 3.\n",
    "\n",
    "As you can see this modeling method separates it in similar, but different ways. It seems to have classified the groups into several clusters based on their speed, rather than just 2 like our K means (slow and fast).\n",
    "\n",
    "## Discussion and Conclusion\n",
    "\n",
    "We were able to successfully cluster our data utilizing two different models, K means and Mean Shift to a high degree of accuracy. Though Mean Shift performed slightly better than K means I think I would stick with K means due to its simplicity and it being less resource expensive. We were able to determine that age has an effect on run times and pace, there is a large variation of ages, genders and run times. "
   ]
  }
 ],
 "metadata": {
  "kernelspec": {
   "display_name": "Python 3",
   "language": "python",
   "name": "python3"
  },
  "language_info": {
   "codemirror_mode": {
    "name": "ipython",
    "version": 3
   },
   "file_extension": ".py",
   "mimetype": "text/x-python",
   "name": "python",
   "nbconvert_exporter": "python",
   "pygments_lexer": "ipython3",
   "version": "3.6.4"
  }
 },
 "nbformat": 4,
 "nbformat_minor": 2
}
