{
 "cells": [
  {
   "cell_type": "markdown",
   "metadata": {},
   "source": [
    "logit(HasHearingProblem)=−1+.02∗age+1∗male\n",
    "Write out a description of the effects that age and gender have on the odds of developing hearing problems in terms a layperson could understand. Include estimates for the odds of hearing problems in a 95 year old woman and a 50 year old man. Discuss your interpretation with your mentor."
   ]
  },
  {
   "cell_type": "markdown",
   "metadata": {},
   "source": [
    "the higher the age the higher the risk of having hearing problems. being male has higher odds of having hearing problems."
   ]
  },
  {
   "cell_type": "code",
   "execution_count": 1,
   "metadata": {},
   "outputs": [],
   "source": [
    "import numpy as np\n",
    "import pandas as pd\n",
    "import matplotlib.pyplot as plt\n",
    "x = np.arange(1,95)\n",
    "y = []\n",
    "\n",
    "for xi in x:\n",
    "    if xi%2:\n",
    "        y.append(1)\n",
    "    else:\n",
    "        y.append(0)\n",
    "        "
   ]
  },
  {
   "cell_type": "code",
   "execution_count": 2,
   "metadata": {},
   "outputs": [],
   "source": [
    "def HasHearingProblem(age,gender):\n",
    "    equation = -1 + .02 * age + 1 * gender\n",
    "    return equation\n",
    "def HasHearingProblemLog(age,gender):\n",
    "    equation = -1 + .02 * age + 1 * gender\n",
    "    return np.log(equation)"
   ]
  },
  {
   "cell_type": "code",
   "execution_count": 3,
   "metadata": {},
   "outputs": [
    {
     "data": {
      "text/plain": [
       "array([ 0.02, -0.96,  0.06, -0.92,  0.1 , -0.88,  0.14, -0.84,  0.18,\n",
       "       -0.8 ,  0.22, -0.76,  0.26, -0.72,  0.3 , -0.68,  0.34, -0.64,\n",
       "        0.38, -0.6 ,  0.42, -0.56,  0.46, -0.52,  0.5 , -0.48,  0.54,\n",
       "       -0.44,  0.58, -0.4 ,  0.62, -0.36,  0.66, -0.32,  0.7 , -0.28,\n",
       "        0.74, -0.24,  0.78, -0.2 ,  0.82, -0.16,  0.86, -0.12,  0.9 ,\n",
       "       -0.08,  0.94, -0.04,  0.98,  0.  ,  1.02,  0.04,  1.06,  0.08,\n",
       "        1.1 ,  0.12,  1.14,  0.16,  1.18,  0.2 ,  1.22,  0.24,  1.26,\n",
       "        0.28,  1.3 ,  0.32,  1.34,  0.36,  1.38,  0.4 ,  1.42,  0.44,\n",
       "        1.46,  0.48,  1.5 ,  0.52,  1.54,  0.56,  1.58,  0.6 ,  1.62,\n",
       "        0.64,  1.66,  0.68,  1.7 ,  0.72,  1.74,  0.76,  1.78,  0.8 ,\n",
       "        1.82,  0.84,  1.86,  0.88])"
      ]
     },
     "execution_count": 3,
     "metadata": {},
     "output_type": "execute_result"
    }
   ],
   "source": [
    "HasHearingProblem(x,y)"
   ]
  },
  {
   "cell_type": "code",
   "execution_count": 4,
   "metadata": {},
   "outputs": [
    {
     "name": "stderr",
     "output_type": "stream",
     "text": [
      "/home/nbuser/anaconda3_501/lib/python3.6/site-packages/ipykernel/__main__.py:6: RuntimeWarning: divide by zero encountered in log\n",
      "/home/nbuser/anaconda3_501/lib/python3.6/site-packages/ipykernel/__main__.py:6: RuntimeWarning: invalid value encountered in log\n"
     ]
    },
    {
     "data": {
      "text/plain": [
       "array([-3.91202301,         nan, -2.81341072,         nan, -2.30258509,\n",
       "               nan, -1.96611286,         nan, -1.71479843,         nan,\n",
       "       -1.51412773,         nan, -1.34707365,         nan, -1.2039728 ,\n",
       "               nan, -1.07880966,         nan, -0.96758403,         nan,\n",
       "       -0.86750057,         nan, -0.77652879,         nan, -0.69314718,\n",
       "               nan, -0.61618614,         nan, -0.54472718,         nan,\n",
       "       -0.4780358 ,         nan, -0.41551544,         nan, -0.35667494,\n",
       "               nan, -0.30110509,         nan, -0.24846136,         nan,\n",
       "       -0.19845094,         nan, -0.15082289,         nan, -0.10536052,\n",
       "               nan, -0.0618754 ,         nan, -0.02020271,        -inf,\n",
       "        0.01980263, -3.21887582,  0.05826891, -2.52572864,  0.09531018,\n",
       "       -2.12026354,  0.13102826, -1.83258146,  0.16551444, -1.60943791,\n",
       "        0.19885086, -1.42711636,  0.23111172, -1.27296568,  0.26236426,\n",
       "       -1.13943428,  0.29266961, -1.02165125,  0.3220835 , -0.91629073,\n",
       "        0.35065687, -0.82098055,  0.37843644, -0.73396918,  0.40546511,\n",
       "       -0.65392647,  0.43178242, -0.5798185 ,  0.45742485, -0.51082562,\n",
       "        0.48242615, -0.4462871 ,  0.5068176 , -0.38566248,  0.53062825,\n",
       "       -0.32850407,  0.55388511, -0.27443685,  0.57661336, -0.22314355,\n",
       "        0.5988365 , -0.17435339,  0.62057649, -0.12783337])"
      ]
     },
     "execution_count": 4,
     "metadata": {},
     "output_type": "execute_result"
    }
   ],
   "source": [
    "HasHearingProblemLog(x,y)"
   ]
  },
  {
   "cell_type": "code",
   "execution_count": 5,
   "metadata": {},
   "outputs": [
    {
     "data": {
      "text/plain": [
       "0.9000000000000001"
      ]
     },
     "execution_count": 5,
     "metadata": {},
     "output_type": "execute_result"
    }
   ],
   "source": [
    "HasHearingProblem(95,0)"
   ]
  },
  {
   "cell_type": "code",
   "execution_count": 6,
   "metadata": {},
   "outputs": [
    {
     "data": {
      "text/plain": [
       "0.0"
      ]
     },
     "execution_count": 6,
     "metadata": {},
     "output_type": "execute_result"
    }
   ],
   "source": [
    "HasHearingProblem(50,0)"
   ]
  },
  {
   "cell_type": "code",
   "execution_count": 7,
   "metadata": {},
   "outputs": [
    {
     "data": {
      "image/png": "[encoded data removed]",
      "text/plain": [
       "<matplotlib.figure.Figure at 0x7f52b10a6518>"
      ]
     },
     "metadata": {},
     "output_type": "display_data"
    }
   ],
   "source": [
    "fit = np.polyfit(x,y,1)\n",
    "\n",
    "# Work as a function to return the predicted value of y.\n",
    "fit_fn = np.poly1d(fit)\n",
    "\n",
    "# Display our results.\n",
    "plt.plot(x , y, 'yo', x, fit_fn(x), '--k')\n",
    "plt.xlabel('Continuous x')\n",
    "plt.ylabel('Binary y')\n",
    "plt.show()"
   ]
  },
  {
   "cell_type": "code",
   "execution_count": 8,
   "metadata": {},
   "outputs": [
    {
     "data": {
      "image/png": "[encoded data removed]",
      "text/plain": [
       "<matplotlib.figure.Figure at 0x7f52b217ec50>"
      ]
     },
     "metadata": {},
     "output_type": "display_data"
    }
   ],
   "source": [
    "fit = np.polyfit(HasHearingProblem(x,y),y,1)\n",
    "\n",
    "# Work as a function to return the predicted value of y.\n",
    "fit_fn = np.poly1d(fit)\n",
    "\n",
    "# Display our results.\n",
    "plt.plot(x , y, 'yo', x, fit_fn(x), '--k')\n",
    "plt.xlabel('Continuous x')\n",
    "plt.ylabel('Binary y')\n",
    "plt.show()"
   ]
  }
 ],
 "metadata": {
  "kernelspec": {
   "display_name": "Python 3.6",
   "language": "python",
   "name": "python36"
  },
  "language_info": {
   "codemirror_mode": {
    "name": "ipython",
    "version": 3
   },
   "file_extension": ".py",
   "mimetype": "text/x-python",
   "name": "python",
   "nbconvert_exporter": "python",
   "pygments_lexer": "ipython3",
   "version": "3.6.3"
  }
 },
 "nbformat": 4,
 "nbformat_minor": 2
}
