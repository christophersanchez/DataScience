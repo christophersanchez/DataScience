{
 "cells": [
  {
   "cell_type": "markdown",
   "metadata": {},
   "source": [
    "You now have a fairly substantial starting toolbox of supervised learning methods that you can use to tackle a host of exciting problems. To make sure all of these ideas are organized in your mind, please go through the list of problems below. For each, identify which supervised learning method(s) would be best for addressing that particular problem. Explain your reasoning and discuss your answers with your mentor.\n",
    "\n"
   ]
  },
  {
   "cell_type": "markdown",
   "metadata": {},
   "source": [
    "__Predict the running times of prospective Olympic sprinters using data from the last 20 Olympics.__\n",
    "-  The data is continuous so I believe a regression based model would work best. I would go with an advanced model like KNN or SVM. \n",
    "\n",
    "\n",
    "__You have more features (columns) than rows in your dataset.__\n",
    "-  I would use boosted decision trees, because they work well in these types of situations.\n",
    "\n",
    "__Identify the most important characteristic predicting likelihood of being jailed before age 20.__\n",
    "-  I would use a feature selection algorithm like random forest classifier.\n",
    "\n",
    "\n",
    "__Implement a filter to “highlight” emails that might be important to the recipient__\n",
    "-  Naive bayes classification is said to be the best suited for this. \n",
    "\n",
    "__You have 1000+ features.__\n",
    "-  I would use a feature selection method like PCA or random forest to narrow down the most important features.\n",
    "\n",
    "__Predict whether someone who adds items to their cart on a website will purchase the items.__\n",
    "-  a classifier would work well in this situation. It is a question that can be answered with probabilities. Naive bayes would work, and KNN would also work well.\n",
    "\n",
    "__Your dataset dimensions are 982400 x 500__\n",
    "-  due to the large amount of data I would go with a faster model, like boosted decision trees or linear regression. I would also use a feature selection method to lower some of the features.\n",
    "\n",
    "__Identify faces in an image.__\n",
    "-  any classifier would do the job, but I would go with SVM for the accuracy.\n",
    "\n",
    "__Predict which of three flavors of ice cream will be most popular with boys vs girls.__\n",
    "- I would use a classifier that works well with multiclass classification like svm.\n"
   ]
  }
 ],
 "metadata": {
  "kernelspec": {
   "display_name": "Python 3.6",
   "language": "python",
   "name": "python36"
  },
  "language_info": {
   "codemirror_mode": {
    "name": "ipython",
    "version": 3
   },
   "file_extension": ".py",
   "mimetype": "text/x-python",
   "name": "python",
   "nbconvert_exporter": "python",
   "pygments_lexer": "ipython3",
   "version": "3.6.3"
  }
 },
 "nbformat": 4,
 "nbformat_minor": 2
}
