{
 "cells": [
  {
   "cell_type": "markdown",
   "metadata": {},
   "source": [
    "### KNN Challenge - Model comparison\n",
    "\n",
    "We will begin by finding a data set, building a KNN Regression and an OLS regression model. We will then compare the two, and determine How similar they are and try to determine whether they miss in different ways."
   ]
  },
  {
   "cell_type": "code",
   "execution_count": 1,
   "metadata": {},
   "outputs": [
    {
     "name": "stderr",
     "output_type": "stream",
     "text": [
      "/Users/c/anaconda3/lib/python3.6/site-packages/sklearn/cross_validation.py:41: DeprecationWarning: This module was deprecated in version 0.18 in favor of the model_selection module into which all the refactored classes and functions are moved. Also note that the interface of the new CV iterators are different from that of this module. This module will be removed in 0.20.\n",
      "  \"This module will be removed in 0.20.\", DeprecationWarning)\n"
     ]
    }
   ],
   "source": [
    "%matplotlib inline\n",
    "import math\n",
    "\n",
    "import numpy as np\n",
    "import pandas as pd\n",
    "import scipy\n",
    "import sklearn\n",
    "from sklearn import linear_model, preprocessing, cross_validation, neighbors\n",
    "from sklearn.model_selection import train_test_split\n",
    "\n",
    "import statsmodels.formula.api as smf\n",
    "from statsmodels.sandbox.regression.predstd import wls_prediction_std\n",
    "\n",
    "import matplotlib.pyplot as plt\n",
    "import seaborn as sns"
   ]
  },
  {
   "cell_type": "markdown",
   "metadata": {},
   "source": [
    "We will begin by importing our dataset, and preprocessing the data using sklearns MinMaxScaler."
   ]
  },
  {
   "cell_type": "code",
   "execution_count": 2,
   "metadata": {},
   "outputs": [],
   "source": [
    "df = pd.read_csv('https://archive.ics.uci.edu/ml/machine-learning-databases/auto-mpg/auto-mpg.data-original', delim_whitespace = True, header=None)\n",
    "df.columns = ['mpg', 'cylinders', 'displacement', 'horsepower', 'weight', 'acceleration', 'model_year', 'origin', 'car_name']\n",
    "df = df.drop(['car_name'], 1)\n",
    "df = df.dropna()\n",
    "\n",
    "df = df.values #returns a numpy array\n",
    "min_max_scaler = preprocessing.MinMaxScaler()\n",
    "df_scaled = min_max_scaler.fit_transform(df)\n",
    "df = pd.DataFrame(df_scaled)\n"
   ]
  },
  {
   "cell_type": "markdown",
   "metadata": {},
   "source": [
    "Below we will create and display a correlation matrix and a heatmap to determine if any of our features are strongly correlated."
   ]
  },
  {
   "cell_type": "code",
   "execution_count": 3,
   "metadata": {},
   "outputs": [
    {
     "name": "stdout",
     "output_type": "stream",
     "text": [
      "          0         1         2         3         4         5         6  \\\n",
      "0  1.000000 -0.777618 -0.805127 -0.778427 -0.832244  0.423329  0.580541   \n",
      "1 -0.777618  1.000000  0.950823  0.842983  0.897527 -0.504683 -0.345647   \n",
      "2 -0.805127  0.950823  1.000000  0.897257  0.932994 -0.543800 -0.369855   \n",
      "3 -0.778427  0.842983  0.897257  1.000000  0.864538 -0.689196 -0.416361   \n",
      "4 -0.832244  0.897527  0.932994  0.864538  1.000000 -0.416839 -0.309120   \n",
      "5  0.423329 -0.504683 -0.543800 -0.689196 -0.416839  1.000000  0.290316   \n",
      "6  0.580541 -0.345647 -0.369855 -0.416361 -0.309120  0.290316  1.000000   \n",
      "7  0.565209 -0.568932 -0.614535 -0.455171 -0.585005  0.212746  0.181528   \n",
      "\n",
      "          7  \n",
      "0  0.565209  \n",
      "1 -0.568932  \n",
      "2 -0.614535  \n",
      "3 -0.455171  \n",
      "4 -0.585005  \n",
      "5  0.212746  \n",
      "6  0.181528  \n",
      "7  1.000000  \n"
     ]
    },
    {
     "data": {
      "image/png": "[encoded data removed]",
      "text/plain": [
       "<matplotlib.figure.Figure at 0x1a0ff3bf60>"
      ]
     },
     "metadata": {},
     "output_type": "display_data"
    }
   ],
   "source": [
    "corrmat = df.corr()\n",
    "print(corrmat)\n",
    "\n",
    "# Creating and displaying a heat map of the selected variables.\n",
    "plt.figure(figsize=[12,8])\n",
    "sns.heatmap(corrmat, vmax=.8, square=True);"
   ]
  },
  {
   "cell_type": "markdown",
   "metadata": {},
   "source": [
    "Cylinders, displacement, horsepower and weight are all very highly correlated amongst each other. We will combine the four features into one in order to better represent the data."
   ]
  },
  {
   "cell_type": "code",
   "execution_count": 4,
   "metadata": {},
   "outputs": [],
   "source": [
    "df['engine_and_power'] = (df[1] + df[2] + df[3] + df[4]) / 4\n",
    "df.drop([1, 2, 3, 4], inplace = True)"
   ]
  },
  {
   "cell_type": "markdown",
   "metadata": {},
   "source": [
    "Below we will create our first linear regression model utilizing cross validation to get a more accurate rating of our prediction rate. We will display coefficients, the intercept and the r square value of the training and testing data sets."
   ]
  },
  {
   "cell_type": "code",
   "execution_count": 5,
   "metadata": {},
   "outputs": [
    {
     "name": "stdout",
     "output_type": "stream",
     "text": [
      "\n",
      "Coefficients: \n",
      " [[ 4.11435926e+11  4.11435926e+11  4.11435926e+11  4.11435926e+11\n",
      "   8.45804711e-02  2.46603973e-01  6.92026783e-02 -1.64574371e+12]]\n",
      "\n",
      "Intercept: \n",
      " [0.42523907]\n",
      "Testing on Sample: 0.813787603892858\n",
      "With 20% Holdout: 0.8576594515495437\n"
     ]
    }
   ],
   "source": [
    "x = np.array(df.drop([0],1))\n",
    "y = np.array(df[0]).reshape(-1,1)\n",
    "\n",
    "X_train, X_test, y_train, y_test = cross_validation.train_test_split(x, y, test_size=0.2, random_state=20)\n",
    "linear_regression = linear_model.LinearRegression()\n",
    "linear_regression.fit(X_train, y_train)\n",
    "\n",
    "print('\\nCoefficients: \\n', linear_regression.coef_)\n",
    "print('\\nIntercept: \\n', linear_regression.intercept_)\n",
    "print('Testing on Sample: ' + str(linear_regression.score(X_train, y_train)))\n",
    "print('With 20% Holdout: ' + str(linear_regression.fit(X_test, y_test).score(X_test, y_test)))\n"
   ]
  },
  {
   "cell_type": "markdown",
   "metadata": {},
   "source": [
    "Finally we will compare the previous model with a KNN regressor. "
   ]
  },
  {
   "cell_type": "code",
   "execution_count": 6,
   "metadata": {},
   "outputs": [
    {
     "name": "stdout",
     "output_type": "stream",
     "text": [
      "Testing on Sample: 0.8990894282017561\n",
      "With 20% Holdout: 0.8907094229211929\n"
     ]
    }
   ],
   "source": [
    "KNN = neighbors.KNeighborsRegressor(n_neighbors=5, weights='uniform', algorithm='auto')\n",
    "KNN.fit(X_train, y_train)\n",
    "\n",
    "print('Testing on Sample: ' + str(KNN.score(X_train, y_train)))\n",
    "print('With 20% Holdout: ' + str(KNN.score(X_test, y_test)))\n",
    "\n"
   ]
  },
  {
   "cell_type": "markdown",
   "metadata": {},
   "source": [
    "In the conclusion of our experiment it appears that KNN is more accurate than ordinary least squares regression with our current data set. The KNN algorhithm remained very consistent across the training and test data. It is interesting to see that the OLS model predicted the testing data better than the training data."
   ]
  },
  {
   "cell_type": "code",
   "execution_count": null,
   "metadata": {},
   "outputs": [],
   "source": []
  }
 ],
 "metadata": {
  "kernelspec": {
   "display_name": "Python 3",
   "language": "python",
   "name": "python3"
  },
  "language_info": {
   "codemirror_mode": {
    "name": "ipython",
    "version": 3
   },
   "file_extension": ".py",
   "mimetype": "text/x-python",
   "name": "python",
   "nbconvert_exporter": "python",
   "pygments_lexer": "ipython3",
   "version": "3.6.4"
  }
 },
 "nbformat": 4,
 "nbformat_minor": 2
}
