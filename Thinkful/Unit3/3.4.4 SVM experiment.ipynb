{
 "cells": [
  {
   "cell_type": "markdown",
   "metadata": {},
   "source": [
    "## Thinkful Support Vector Machine Challenge\n",
    "__July, 2018 - Christopher Sanchez__\n",
    "\n",
    "Our goal in this project is to determine if we can improve the support vector machine regression model created by Thinkful. I will be using the data Thinkful selected from www.kaggle.com that can be found at this link:\n",
    "<div class=\"alert alert-info\">\n",
    "https://www.kaggle.com/hugodarwood/epirecipes/version/2#\n",
    "</div>\n",
    "\n",
    "### The Data:\n",
    "The data contains 681 columns and 20,052 rows representing various factors such as locations, ingredients, seasons and much more. Our goal is to clean up the data and eliminate the unecessary features. Our target number of featues is 30. The creator of the dataset described it as \"Over 20k recipes listed by recipe rating, nutritional information and assigned category (sparse).\"\n",
    "\n",
    "### What knowledge can we gain from this data set?\n",
    "   We are ultimately going to improve the score of the model, along the way we will determine the best way to do so, by attempting various preprocessing and feature selection methods. We will also determine whether there are any biases."
   ]
  },
  {
   "cell_type": "code",
   "execution_count": 1,
   "metadata": {},
   "outputs": [],
   "source": [
    "import numpy as np\n",
    "import pandas as pd\n",
    "import scipy\n",
    "import matplotlib.pyplot as plt\n",
    "import seaborn as sns\n",
    "from sklearn.ensemble import RandomForestClassifier\n",
    "from sklearn import datasets, preprocessing\n",
    "from sklearn.model_selection import train_test_split, cross_val_score\n",
    "from sklearn.feature_selection import SelectFromModel\n",
    "from sklearn.metrics import accuracy_score\n",
    "%matplotlib inline\n",
    "from sklearn.svm import SVC, SVR\n",
    "import operator"
   ]
  },
  {
   "cell_type": "markdown",
   "metadata": {},
   "source": [
    "We have now imported all of the packages we are going to need in order to perform the analysis necessary to improve our r^2 score. We will be using Sklearns Random Forest Classifier to utilize it's effective feature selection function. We will also use sklearns preprocessing to scale our data appropriately. We will use cross validation score to determine how our data is fitting across various sample sets. We will also be using a support vector classifier to see if we can get a better score than the regression model. \n",
    "\n",
    "Let's start by importing the data and displaying the columns."
   ]
  },
  {
   "cell_type": "code",
   "execution_count": 2,
   "metadata": {},
   "outputs": [
    {
     "data": {
      "text/plain": [
       "(20052, 681)"
      ]
     },
     "execution_count": 2,
     "metadata": {},
     "output_type": "execute_result"
    }
   ],
   "source": [
    "raw_data = pd.read_csv('epi_r.csv')\n",
    "raw_data['output'] = raw_data['rating'] >= 4\n",
    "raw_data.shape"
   ]
  },
  {
   "cell_type": "markdown",
   "metadata": {},
   "source": [
    "That sure is a lot of features. Later on we will determine which features we will keep for our input variables. For now lets take a look at our output."
   ]
  },
  {
   "cell_type": "code",
   "execution_count": 3,
   "metadata": {},
   "outputs": [
    {
     "data": {
      "image/png": "[encoded data removed]",
      "text/plain": [
       "<matplotlib.figure.Figure at 0x1a190c96d8>"
      ]
     },
     "metadata": {},
     "output_type": "display_data"
    }
   ],
   "source": [
    "raw_data.rating.hist(bins=20)\n",
    "plt.title('Histogram of Recipe Ratings')\n",
    "plt.show()"
   ]
  },
  {
   "cell_type": "markdown",
   "metadata": {},
   "source": [
    "Our histogram is skewed heavy to the right. It is an interesting result, because a lot of times people are more eager to share the bad than the good. This looks like it is our first bias. A majority of the ratings are above average with most of them being between 4 and 5. There really is no way to compare it to the lower ratings accurately, because of the lack of data."
   ]
  },
  {
   "cell_type": "code",
   "execution_count": 4,
   "metadata": {},
   "outputs": [
    {
     "data": {
      "text/plain": [
       "calories    4117\n",
       "protein     4162\n",
       "fat         4183\n",
       "sodium      4119\n",
       "dtype: int64"
      ]
     },
     "execution_count": 4,
     "metadata": {},
     "output_type": "execute_result"
    }
   ],
   "source": [
    "# Count nulls \n",
    "null_count = raw_data.isnull().sum()\n",
    "null_count[null_count>0]"
   ]
  },
  {
   "cell_type": "markdown",
   "metadata": {},
   "source": [
    "There is quite a bit of missing data. \n",
    "\n",
    "Now lets take a look at Thinkfuls model."
   ]
  },
  {
   "cell_type": "code",
   "execution_count": 5,
   "metadata": {},
   "outputs": [
    {
     "data": {
      "text/plain": [
       "SVR(C=1.0, cache_size=200, coef0=0.0, degree=3, epsilon=0.1, gamma='auto',\n",
       "  kernel='rbf', max_iter=-1, shrinking=True, tol=0.001, verbose=False)"
      ]
     },
     "execution_count": 5,
     "metadata": {},
     "output_type": "execute_result"
    }
   ],
   "source": [
    "svr = SVR()\n",
    "Reg_X = raw_data.drop(['rating', 'output', 'title', 'calories', 'protein', 'fat', 'sodium'], 1)\n",
    "Reg_Y = raw_data.rating\n",
    "svr.fit(Reg_X,Reg_Y)"
   ]
  },
  {
   "cell_type": "code",
   "execution_count": 6,
   "metadata": {},
   "outputs": [
    {
     "data": {
      "image/png": "[encoded data removed]",
      "text/plain": [
       "<matplotlib.figure.Figure at 0x11159ff98>"
      ]
     },
     "metadata": {},
     "output_type": "display_data"
    }
   ],
   "source": [
    "plt.scatter(Reg_Y, svr.predict(Reg_X));"
   ]
  },
  {
   "cell_type": "code",
   "execution_count": 7,
   "metadata": {},
   "outputs": [
    {
     "data": {
      "text/plain": [
       "0.03856570651298896"
      ]
     },
     "execution_count": 7,
     "metadata": {},
     "output_type": "execute_result"
    }
   ],
   "source": [
    "svr.score(Reg_X, Reg_Y)"
   ]
  },
  {
   "cell_type": "code",
   "execution_count": 8,
   "metadata": {},
   "outputs": [
    {
     "data": {
      "text/plain": [
       "array([0.01818511, 0.026411  , 0.03037705, 0.01957949, 0.02451197])"
      ]
     },
     "execution_count": 8,
     "metadata": {},
     "output_type": "execute_result"
    }
   ],
   "source": [
    "cross_val_score(svr, Reg_X, Reg_Y, cv=5)"
   ]
  },
  {
   "cell_type": "markdown",
   "metadata": {},
   "source": [
    "The model is fitting horribly with under a 4% accuracy rate. Let's see what we can do to correct it.\n",
    "\n",
    "We will convert the output variable to a categorical variable, then we will split the data using train test split, we will then fit the data to a random forest classifier so we can determine the 30 most important features."
   ]
  },
  {
   "cell_type": "code",
   "execution_count": 1,
   "metadata": {},
   "outputs": [
    {
     "ename": "NameError",
     "evalue": "name 'Reg_X' is not defined",
     "output_type": "error",
     "traceback": [
      "\u001b[0;31m---------------------------------------------------------------------------\u001b[0m",
      "\u001b[0;31mNameError\u001b[0m                                 Traceback (most recent call last)",
      "\u001b[0;32m<ipython-input-1-7d0199ffc6ba>\u001b[0m in \u001b[0;36m<module>\u001b[0;34m()\u001b[0m\n\u001b[1;32m      1\u001b[0m \u001b[0;31m# convert previous output rating to a categorical variable that is greater than or equal to 4.\u001b[0m\u001b[0;34m\u001b[0m\u001b[0;34m\u001b[0m\u001b[0m\n\u001b[0;32m----> 2\u001b[0;31m \u001b[0mX\u001b[0m \u001b[0;34m=\u001b[0m \u001b[0mReg_X\u001b[0m\u001b[0;34m\u001b[0m\u001b[0m\n\u001b[0m\u001b[1;32m      3\u001b[0m \u001b[0mY\u001b[0m \u001b[0;34m=\u001b[0m \u001b[0mraw_data\u001b[0m\u001b[0;34m[\u001b[0m\u001b[0;34m'output'\u001b[0m\u001b[0;34m]\u001b[0m\u001b[0;34m\u001b[0m\u001b[0m\n\u001b[1;32m      4\u001b[0m \u001b[0;34m\u001b[0m\u001b[0m\n\u001b[1;32m      5\u001b[0m \u001b[0;31m# split our data\u001b[0m\u001b[0;34m\u001b[0m\u001b[0;34m\u001b[0m\u001b[0m\n",
      "\u001b[0;31mNameError\u001b[0m: name 'Reg_X' is not defined"
     ]
    }
   ],
   "source": [
    "# convert previous output rating to a categorical variable that is greater than or equal to 4.\n",
    "X = Reg_X\n",
    "Y = raw_data['output']\n",
    "\n",
    "# split our data\n",
    "X_train, X_test, y_train, y_test = cross_validation.train_test_split(X, Y, test_size=0.4, random_state=0)\n",
    "clf = RandomForestClassifier(n_estimators=10000, random_state=0, n_jobs=-1)\n",
    "\n",
    "# Train the classifier\n",
    "clf.fit(X_train, y_train)\n",
    "features = []\n",
    "# Print the name and gini importance of each feature\n",
    "for feature in zip(X_train, clf.feature_importances_):\n",
    "    features.append(feature)\n",
    "    "
   ]
  },
  {
   "cell_type": "code",
   "execution_count": 10,
   "metadata": {},
   "outputs": [
    {
     "data": {
      "text/plain": [
       "[('citrus', 0.006051743051299342),\n",
       " ('tree nut free', 0.006074728019653666),\n",
       " ('lemon', 0.0060784409405629436),\n",
       " ('cheese', 0.0061379126051069105),\n",
       " ('ginger', 0.006152582074444329),\n",
       " ('dinner', 0.006278570248008463),\n",
       " ('fruit', 0.006614714203159983),\n",
       " ('side', 0.006938585874050658),\n",
       " ('dairy', 0.0072559018101553165),\n",
       " ('healthy', 0.007489302688741226),\n",
       " ('garlic', 0.007528670933004956),\n",
       " ('milk/cream', 0.007749536365297348),\n",
       " ('vegetable', 0.0077621954220819306),\n",
       " ('spring', 0.007792932222565165),\n",
       " ('egg', 0.007819220240490313),\n",
       " ('kid-friendly', 0.00795472152553488),\n",
       " ('wheat/gluten-free', 0.008076858561971682),\n",
       " ('tomato', 0.008109847961694868),\n",
       " ('sauté', 0.008135189637074878),\n",
       " ('herb', 0.008167735698891898),\n",
       " ('onion', 0.008723824627275644),\n",
       " ('vegetarian', 0.008889116288866704),\n",
       " ('fall', 0.009016979634675883),\n",
       " ('gourmet', 0.010061629234778418),\n",
       " ('bake', 0.0102804645506507),\n",
       " ('winter', 0.01046084828411415),\n",
       " ('summer', 0.010677370593662727),\n",
       " ('bon appétit', 0.012245138270535838),\n",
       " ('quick & easy', 0.013616229995047519)]"
      ]
     },
     "execution_count": 10,
     "metadata": {},
     "output_type": "execute_result"
    }
   ],
   "source": [
    "# sort features and print out the 30 most important.\n",
    "features.sort(key=operator.itemgetter(1))\n",
    "features[-29:]"
   ]
  },
  {
   "cell_type": "markdown",
   "metadata": {},
   "source": [
    "Our feature selection model worked perfectly and we now have our 30 most important features. Lets go ahead and turn them into our input, scale the data, and then fit it to a support vector classifier. Then we will test our accuracy to see if we have improved the model."
   ]
  },
  {
   "cell_type": "code",
   "execution_count": 11,
   "metadata": {},
   "outputs": [
    {
     "name": "stdout",
     "output_type": "stream",
     "text": [
      "R score:\n",
      "0.6613305405944544\n",
      "Cross validation R score:\n",
      "[0.5754176  0.5632012  0.57865869 0.57755611 0.57944625]\n"
     ]
    }
   ],
   "source": [
    "# creating the new input dataframe and scaling the data\n",
    "X = raw_data[['quick & easy', 'bon appétit', 'summer', 'winter', 'bake', 'gourmet', 'fall', 'vegetarian', 'onion', 'herb', 'sauté', 'tomato', 'wheat/gluten-free', 'kid-friendly', 'egg', 'spring', 'vegetable', 'milk/cream', 'garlic', 'healthy', 'dairy', 'side', 'fruit', 'dinner', 'ginger', 'cheese', 'lemon', 'tree nut free', 'citrus']]\n",
    "X = pd.DataFrame(preprocessing.scale(X))\n",
    "\n",
    "# fitting the data to the model\n",
    "svc = SVC()\n",
    "svc.fit(X,Y)\n",
    "\n",
    "# testing the R score\n",
    "print('R score:')\n",
    "print(svc.score(X, Y))\n",
    "print('Cross validation R score:')\n",
    "print(cross_val_score(svc, X, Y, cv=5))"
   ]
  },
  {
   "cell_type": "markdown",
   "metadata": {},
   "source": [
    "Our accuracy has went up tremendously to an average of nearly 58% across 5 samples. We improved the score over 50% points by cleaning up the data slightly and changing the model from from regression to classification."
   ]
  },
  {
   "cell_type": "markdown",
   "metadata": {},
   "source": [
    "## Conclusion and Discussion\n",
    "In the beginning our model wasn't working very well, a regression model wasn't the best choice for this data set. There is a lot of bias in the data, like the fact that theres not very many low ratings. We used a feature selection algorithm to determine the most important features, and then edited our input variable in order to better fit data. After fitting the new data to the classifier model we greatly improved the score and I would categorize this experiment as a success. We did a lot with a little."
   ]
  }
 ],
 "metadata": {
  "kernelspec": {
   "display_name": "Python 3",
   "language": "python",
   "name": "python3"
  },
  "language_info": {
   "codemirror_mode": {
    "name": "ipython",
    "version": 3
   },
   "file_extension": ".py",
   "mimetype": "text/x-python",
   "name": "python",
   "nbconvert_exporter": "python",
   "pygments_lexer": "ipython3",
   "version": "3.6.4"
  }
 },
 "nbformat": 4,
 "nbformat_minor": 2
}
