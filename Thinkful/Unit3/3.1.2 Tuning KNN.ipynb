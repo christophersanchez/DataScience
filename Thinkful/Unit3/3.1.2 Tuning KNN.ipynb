{
 "cells": [
  {
   "cell_type": "markdown",
   "metadata": {},
   "source": [
    "Let's say we work at a credit card company and we're trying to figure out if people are going to pay their bills on time. We have everyone's purchases, split into four main categories: groceries, dining out, utilities, and entertainment. What are some ways you might use KNN to create this model? What aspects of KNN would be useful? Write up your thoughts in submit a link below."
   ]
  },
  {
   "cell_type": "markdown",
   "metadata": {},
   "source": [
    "KNN would be useful, because it is able to use votes from multiple features giving and predicting classes, so it would be able to predict whether people will pay their bills on time or not well. The data would also be continous which would make it perfect for KNN. I would rescale the data. Using the four features I would create a model trained on a cross val score. I would determine the decision boundary and create a mesh grid and plot the data in order to see how well it is able to classify whether someone is likely to pay their bill on time or not."
   ]
  }
 ],
 "metadata": {
  "kernelspec": {
   "display_name": "Python 3.6",
   "language": "python",
   "name": "python36"
  },
  "language_info": {
   "codemirror_mode": {
    "name": "ipython",
    "version": 3
   },
   "file_extension": ".py",
   "mimetype": "text/x-python",
   "name": "python",
   "nbconvert_exporter": "python",
   "pygments_lexer": "ipython3",
   "version": "3.6.3"
  }
 },
 "nbformat": 4,
 "nbformat_minor": 2
}
