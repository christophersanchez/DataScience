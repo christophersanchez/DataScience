{
 "cells": [
  {
   "cell_type": "markdown",
   "metadata": {},
   "source": [
    "## Narrative Analytics and Experimentation\n",
    "__MAY,2018 - Christopher Sanchez__\n",
    "\n",
    "My goal in this experiment is to explore this dataset that was sent to me via email from a job agency containing information about The United States Olympic Committee's website in order to find any interesting data that may pose a question to be answered in an A/B Test. The data contains 1370 rows spread across 9 columns.\n",
    "\n",
    "### What can we learn from this data?\n",
    "\n",
    "-  What percentage of page views are unique?\n",
    "-  Is there a relationship between page views and entrances?\n",
    "-  Is there a realtionship between page views and bounce rate?\n",
    "-  Is there a relationship between page views and exit?"
   ]
  },
  {
   "cell_type": "code",
   "execution_count": 1,
   "metadata": {},
   "outputs": [],
   "source": [
    "import pandas as pd\n",
    "import numpy as np\n",
    "import scipy.stats as stats\n",
    "import matplotlib.pyplot as plt\n",
    "import seaborn as sns\n",
    "from scipy.stats import ttest_ind\n",
    "%matplotlib inline\n",
    "\n",
    "pd.set_option('display.max_rows', 500)\n",
    "pd.set_option('display.max_columns', 500)\n",
    "pd.set_option('display.width', 1000)\n",
    "\n",
    "web_page = pd.read_csv('pages.csv', encoding='utf-8')"
   ]
  },
  {
   "cell_type": "markdown",
   "metadata": {},
   "source": [
    "__Displaying the head of the data.__"
   ]
  },
  {
   "cell_type": "code",
   "execution_count": 2,
   "metadata": {},
   "outputs": [
    {
     "data": {
      "text/html": [
       "<div>\n",
       "<style scoped>\n",
       "    .dataframe tbody tr th:only-of-type {\n",
       "        vertical-align: middle;\n",
       "    }\n",
       "\n",
       "    .dataframe tbody tr th {\n",
       "        vertical-align: top;\n",
       "    }\n",
       "\n",
       "    .dataframe thead th {\n",
       "        text-align: right;\n",
       "    }\n",
       "</style>\n",
       "<table border=\"1\" class=\"dataframe\">\n",
       "  <thead>\n",
       "    <tr style=\"text-align: right;\">\n",
       "      <th></th>\n",
       "      <th># ----------------------------------------</th>\n",
       "      <th>Unnamed: 1</th>\n",
       "      <th>Unnamed: 2</th>\n",
       "      <th>Unnamed: 3</th>\n",
       "      <th>Unnamed: 4</th>\n",
       "      <th>Unnamed: 5</th>\n",
       "      <th>Unnamed: 6</th>\n",
       "      <th>Unnamed: 7</th>\n",
       "      <th>Unnamed: 8</th>\n",
       "    </tr>\n",
       "  </thead>\n",
       "  <tbody>\n",
       "    <tr>\n",
       "      <th>0</th>\n",
       "      <td># TeamUSA only</td>\n",
       "      <td>NaN</td>\n",
       "      <td>NaN</td>\n",
       "      <td>NaN</td>\n",
       "      <td>NaN</td>\n",
       "      <td>NaN</td>\n",
       "      <td>NaN</td>\n",
       "      <td>NaN</td>\n",
       "      <td>NaN</td>\n",
       "    </tr>\n",
       "    <tr>\n",
       "      <th>1</th>\n",
       "      <td># Pages</td>\n",
       "      <td>NaN</td>\n",
       "      <td>NaN</td>\n",
       "      <td>NaN</td>\n",
       "      <td>NaN</td>\n",
       "      <td>NaN</td>\n",
       "      <td>NaN</td>\n",
       "      <td>NaN</td>\n",
       "      <td>NaN</td>\n",
       "    </tr>\n",
       "    <tr>\n",
       "      <th>2</th>\n",
       "      <td># 20170301-20170930</td>\n",
       "      <td>NaN</td>\n",
       "      <td>NaN</td>\n",
       "      <td>NaN</td>\n",
       "      <td>NaN</td>\n",
       "      <td>NaN</td>\n",
       "      <td>NaN</td>\n",
       "      <td>NaN</td>\n",
       "      <td>NaN</td>\n",
       "    </tr>\n",
       "    <tr>\n",
       "      <th>3</th>\n",
       "      <td># ----------------------------------------</td>\n",
       "      <td>NaN</td>\n",
       "      <td>NaN</td>\n",
       "      <td>NaN</td>\n",
       "      <td>NaN</td>\n",
       "      <td>NaN</td>\n",
       "      <td>NaN</td>\n",
       "      <td>NaN</td>\n",
       "      <td>NaN</td>\n",
       "    </tr>\n",
       "    <tr>\n",
       "      <th>4</th>\n",
       "      <td>NaN</td>\n",
       "      <td>NaN</td>\n",
       "      <td>NaN</td>\n",
       "      <td>NaN</td>\n",
       "      <td>NaN</td>\n",
       "      <td>NaN</td>\n",
       "      <td>NaN</td>\n",
       "      <td>NaN</td>\n",
       "      <td>NaN</td>\n",
       "    </tr>\n",
       "  </tbody>\n",
       "</table>\n",
       "</div>"
      ],
      "text/plain": [
       "   # ---------------------------------------- Unnamed: 1 Unnamed: 2 Unnamed: 3 Unnamed: 4 Unnamed: 5 Unnamed: 6 Unnamed: 7 Unnamed: 8\n",
       "0                              # TeamUSA only        NaN        NaN        NaN        NaN        NaN        NaN        NaN        NaN\n",
       "1                                     # Pages        NaN        NaN        NaN        NaN        NaN        NaN        NaN        NaN\n",
       "2                         # 20170301-20170930        NaN        NaN        NaN        NaN        NaN        NaN        NaN        NaN\n",
       "3  # ----------------------------------------        NaN        NaN        NaN        NaN        NaN        NaN        NaN        NaN\n",
       "4                                         NaN        NaN        NaN        NaN        NaN        NaN        NaN        NaN        NaN"
      ]
     },
     "execution_count": 2,
     "metadata": {},
     "output_type": "execute_result"
    }
   ],
   "source": [
    "web_page.head()"
   ]
  },
  {
   "cell_type": "markdown",
   "metadata": {},
   "source": [
    "_The first few lines of the data seem to be blank values, and the categories are unnamed._"
   ]
  },
  {
   "cell_type": "markdown",
   "metadata": {},
   "source": [
    "__Cleaning the data.__"
   ]
  },
  {
   "cell_type": "code",
   "execution_count": 3,
   "metadata": {},
   "outputs": [],
   "source": [
    "web_page = web_page[6:]\n",
    "web_page = web_page.rename(columns={'Unnamed: 1': 'Page_Title', 'Unnamed: 2': 'Page_Views','Unnamed: 3': 'Unique_Page_Views', 'Unnamed: 4': 'AVG_Time_On_Page','Unnamed: 5': 'Entrances', 'Unnamed: 6': 'Bounce_Rate', 'Unnamed: 7': 'Exit', 'Unnamed: 8': 'Page_Value'})\n",
    "web_page.Page_Views = web_page.Page_Views.str.replace(',', '')\n",
    "web_page.Page_Views = web_page.Page_Views.astype(float)\n",
    "web_page.Unique_Page_Views = web_page.Unique_Page_Views.str.replace(',', '')\n",
    "web_page.Unique_Page_Views = web_page.Unique_Page_Views.astype(float)\n",
    "web_page.Entrances = web_page.Entrances.str.replace(',', '')\n",
    "web_page.Entrances = web_page.Entrances.astype(float)\n",
    "web_page.Bounce_Rate = web_page.Bounce_Rate.str.replace('%', '')\n",
    "web_page.Bounce_Rate = web_page.Bounce_Rate.astype(float)\n",
    "web_page.Exit = web_page.Exit.str.replace('%', '')\n",
    "web_page.Exit = web_page.Exit.astype(float)"
   ]
  },
  {
   "cell_type": "markdown",
   "metadata": {},
   "source": [
    "_I converted the numerical data to floats which will allow me to compute the data programmatically. I renamed the columns to their proper names._"
   ]
  },
  {
   "cell_type": "markdown",
   "metadata": {},
   "source": [
    "__Displaying the new and improved cleaned head of the data.__"
   ]
  },
  {
   "cell_type": "code",
   "execution_count": 4,
   "metadata": {},
   "outputs": [
    {
     "data": {
      "text/html": [
       "<div>\n",
       "<style scoped>\n",
       "    .dataframe tbody tr th:only-of-type {\n",
       "        vertical-align: middle;\n",
       "    }\n",
       "\n",
       "    .dataframe tbody tr th {\n",
       "        vertical-align: top;\n",
       "    }\n",
       "\n",
       "    .dataframe thead th {\n",
       "        text-align: right;\n",
       "    }\n",
       "</style>\n",
       "<table border=\"1\" class=\"dataframe\">\n",
       "  <thead>\n",
       "    <tr style=\"text-align: right;\">\n",
       "      <th></th>\n",
       "      <th># ----------------------------------------</th>\n",
       "      <th>Page_Title</th>\n",
       "      <th>Page_Views</th>\n",
       "      <th>Unique_Page_Views</th>\n",
       "      <th>AVG_Time_On_Page</th>\n",
       "      <th>Entrances</th>\n",
       "      <th>Bounce_Rate</th>\n",
       "      <th>Exit</th>\n",
       "      <th>Page_Value</th>\n",
       "    </tr>\n",
       "  </thead>\n",
       "  <tbody>\n",
       "    <tr>\n",
       "      <th>6</th>\n",
       "      <td>/News/2017/May/06/Olympic-Family-Mourns-The-Lo...</td>\n",
       "      <td>Olympic Family Mourns The Loss Of Olympic Cham...</td>\n",
       "      <td>116505.0</td>\n",
       "      <td>113820.0</td>\n",
       "      <td>0:02:33</td>\n",
       "      <td>111287.0</td>\n",
       "      <td>97.37</td>\n",
       "      <td>96.18</td>\n",
       "      <td>$0.00</td>\n",
       "    </tr>\n",
       "    <tr>\n",
       "      <th>7</th>\n",
       "      <td>/News/2017/June/22/Pregnant-Alysia-Montano-Is-...</td>\n",
       "      <td>Pregnant Alysia Montano Is Literally Wonder Wo...</td>\n",
       "      <td>82573.0</td>\n",
       "      <td>80071.0</td>\n",
       "      <td>0:02:25</td>\n",
       "      <td>78606.0</td>\n",
       "      <td>96.31</td>\n",
       "      <td>95.79</td>\n",
       "      <td>$0.00</td>\n",
       "    </tr>\n",
       "    <tr>\n",
       "      <th>8</th>\n",
       "      <td>/News/2017/July/16/Meryl-Davis-Announces-Engag...</td>\n",
       "      <td>Meryl Davis Announces Engagement To Former Can...</td>\n",
       "      <td>48488.0</td>\n",
       "      <td>46749.0</td>\n",
       "      <td>0:01:47</td>\n",
       "      <td>45589.0</td>\n",
       "      <td>93.77</td>\n",
       "      <td>91.94</td>\n",
       "      <td>$0.00</td>\n",
       "    </tr>\n",
       "    <tr>\n",
       "      <th>9</th>\n",
       "      <td>/News/2017/July/19/Meryl-Davis-Opens-Up-About-...</td>\n",
       "      <td>Meryl Davis Opens Up About The Proposal, Her C...</td>\n",
       "      <td>43483.0</td>\n",
       "      <td>40218.0</td>\n",
       "      <td>0:03:30</td>\n",
       "      <td>39486.0</td>\n",
       "      <td>87.95</td>\n",
       "      <td>86.46</td>\n",
       "      <td>$0.00</td>\n",
       "    </tr>\n",
       "    <tr>\n",
       "      <th>10</th>\n",
       "      <td>/News/2017/August/05/Justin-Gatlin-Beats-Usain...</td>\n",
       "      <td>Justin Gatlin Beats Usain Bolt To Win First 10...</td>\n",
       "      <td>32163.0</td>\n",
       "      <td>31156.0</td>\n",
       "      <td>0:03:27</td>\n",
       "      <td>30637.0</td>\n",
       "      <td>95.92</td>\n",
       "      <td>94.88</td>\n",
       "      <td>$0.00</td>\n",
       "    </tr>\n",
       "  </tbody>\n",
       "</table>\n",
       "</div>"
      ],
      "text/plain": [
       "           # ----------------------------------------                                         Page_Title  Page_Views  Unique_Page_Views AVG_Time_On_Page  Entrances  Bounce_Rate   Exit Page_Value\n",
       "6   /News/2017/May/06/Olympic-Family-Mourns-The-Lo...  Olympic Family Mourns The Loss Of Olympic Cham...    116505.0           113820.0          0:02:33   111287.0        97.37  96.18     $0.00 \n",
       "7   /News/2017/June/22/Pregnant-Alysia-Montano-Is-...  Pregnant Alysia Montano Is Literally Wonder Wo...     82573.0            80071.0          0:02:25    78606.0        96.31  95.79     $0.00 \n",
       "8   /News/2017/July/16/Meryl-Davis-Announces-Engag...  Meryl Davis Announces Engagement To Former Can...     48488.0            46749.0          0:01:47    45589.0        93.77  91.94     $0.00 \n",
       "9   /News/2017/July/19/Meryl-Davis-Opens-Up-About-...  Meryl Davis Opens Up About The Proposal, Her C...     43483.0            40218.0          0:03:30    39486.0        87.95  86.46     $0.00 \n",
       "10  /News/2017/August/05/Justin-Gatlin-Beats-Usain...  Justin Gatlin Beats Usain Bolt To Win First 10...     32163.0            31156.0          0:03:27    30637.0        95.92  94.88     $0.00 "
      ]
     },
     "execution_count": 4,
     "metadata": {},
     "output_type": "execute_result"
    }
   ],
   "source": [
    "web_page.head()"
   ]
  },
  {
   "cell_type": "code",
   "execution_count": 37,
   "metadata": {},
   "outputs": [
    {
     "data": {
      "image/png": "[encoded data removed]",
      "text/plain": [
       "<matplotlib.figure.Figure at 0x1a25eeabe0>"
      ]
     },
     "metadata": {},
     "output_type": "display_data"
    }
   ],
   "source": [
    "sns.barplot(x=[web_page.Page_Views, web_page.Unique_Page_Views]);\n"
   ]
  },
  {
   "cell_type": "markdown",
   "metadata": {},
   "source": [
    "__What is the mean and standard deviation of page views, unique page views, entrances, bounce rate and exit?__"
   ]
  },
  {
   "cell_type": "code",
   "execution_count": 6,
   "metadata": {},
   "outputs": [
    {
     "data": {
      "text/html": [
       "<div>\n",
       "<style scoped>\n",
       "    .dataframe tbody tr th:only-of-type {\n",
       "        vertical-align: middle;\n",
       "    }\n",
       "\n",
       "    .dataframe tbody tr th {\n",
       "        vertical-align: top;\n",
       "    }\n",
       "\n",
       "    .dataframe thead th {\n",
       "        text-align: right;\n",
       "    }\n",
       "</style>\n",
       "<table border=\"1\" class=\"dataframe\">\n",
       "  <thead>\n",
       "    <tr style=\"text-align: right;\">\n",
       "      <th></th>\n",
       "      <th>Page_Views</th>\n",
       "      <th>Unique_Page_Views</th>\n",
       "      <th>Entrances</th>\n",
       "      <th>Bounce_Rate</th>\n",
       "      <th>Exit</th>\n",
       "    </tr>\n",
       "  </thead>\n",
       "  <tbody>\n",
       "    <tr>\n",
       "      <th>count</th>\n",
       "      <td>1370.000000</td>\n",
       "      <td>1370.000000</td>\n",
       "      <td>1370.000000</td>\n",
       "      <td>1370.000000</td>\n",
       "      <td>1370.000000</td>\n",
       "    </tr>\n",
       "    <tr>\n",
       "      <th>mean</th>\n",
       "      <td>1219.194161</td>\n",
       "      <td>1162.593431</td>\n",
       "      <td>1054.102920</td>\n",
       "      <td>86.629467</td>\n",
       "      <td>81.654131</td>\n",
       "    </tr>\n",
       "    <tr>\n",
       "      <th>std</th>\n",
       "      <td>4809.969773</td>\n",
       "      <td>4654.960003</td>\n",
       "      <td>4544.892014</td>\n",
       "      <td>24.014750</td>\n",
       "      <td>20.628193</td>\n",
       "    </tr>\n",
       "    <tr>\n",
       "      <th>min</th>\n",
       "      <td>31.000000</td>\n",
       "      <td>31.000000</td>\n",
       "      <td>0.000000</td>\n",
       "      <td>0.000000</td>\n",
       "      <td>0.000000</td>\n",
       "    </tr>\n",
       "    <tr>\n",
       "      <th>25%</th>\n",
       "      <td>122.000000</td>\n",
       "      <td>92.000000</td>\n",
       "      <td>61.000000</td>\n",
       "      <td>85.510000</td>\n",
       "      <td>75.000000</td>\n",
       "    </tr>\n",
       "    <tr>\n",
       "      <th>50%</th>\n",
       "      <td>336.000000</td>\n",
       "      <td>305.000000</td>\n",
       "      <td>214.000000</td>\n",
       "      <td>94.805000</td>\n",
       "      <td>86.340000</td>\n",
       "    </tr>\n",
       "    <tr>\n",
       "      <th>75%</th>\n",
       "      <td>885.000000</td>\n",
       "      <td>824.000000</td>\n",
       "      <td>694.250000</td>\n",
       "      <td>100.000000</td>\n",
       "      <td>100.000000</td>\n",
       "    </tr>\n",
       "    <tr>\n",
       "      <th>max</th>\n",
       "      <td>116505.000000</td>\n",
       "      <td>113820.000000</td>\n",
       "      <td>111287.000000</td>\n",
       "      <td>100.000000</td>\n",
       "      <td>100.000000</td>\n",
       "    </tr>\n",
       "  </tbody>\n",
       "</table>\n",
       "</div>"
      ],
      "text/plain": [
       "          Page_Views  Unique_Page_Views      Entrances  Bounce_Rate         Exit\n",
       "count    1370.000000        1370.000000    1370.000000  1370.000000  1370.000000\n",
       "mean     1219.194161        1162.593431    1054.102920    86.629467    81.654131\n",
       "std      4809.969773        4654.960003    4544.892014    24.014750    20.628193\n",
       "min        31.000000          31.000000       0.000000     0.000000     0.000000\n",
       "25%       122.000000          92.000000      61.000000    85.510000    75.000000\n",
       "50%       336.000000         305.000000     214.000000    94.805000    86.340000\n",
       "75%       885.000000         824.000000     694.250000   100.000000   100.000000\n",
       "max    116505.000000      113820.000000  111287.000000   100.000000   100.000000"
      ]
     },
     "execution_count": 6,
     "metadata": {},
     "output_type": "execute_result"
    }
   ],
   "source": [
    "web_page.describe()"
   ]
  },
  {
   "cell_type": "markdown",
   "metadata": {},
   "source": [
    "_Page views, unique page views, and entrances have very similar means and standard deviations indicating that most page views come from entrances. The posting with the most page views had 116,505 views with 113,820 being unique and 111,287 coming from entrances which shows even the most popular posts are coming from external sources and are not interested in navigating the website further._"
   ]
  },
  {
   "cell_type": "markdown",
   "metadata": {},
   "source": [
    "#### What % of page views are unique?"
   ]
  },
  {
   "cell_type": "code",
   "execution_count": 7,
   "metadata": {},
   "outputs": [
    {
     "data": {
      "image/png": "[encoded data removed]",
      "text/plain": [
       "<matplotlib.figure.Figure at 0x115f6b438>"
      ]
     },
     "metadata": {},
     "output_type": "display_data"
    }
   ],
   "source": [
    "plt.subplot(1,2,1)\n",
    "sns.violinplot(web_page.Page_Views);\n",
    "plt.subplot(1,2,2)\n",
    "sns.violinplot(web_page.Unique_Page_Views);"
   ]
  },
  {
   "cell_type": "code",
   "execution_count": 8,
   "metadata": {},
   "outputs": [
    {
     "data": {
      "text/plain": [
       "0.95357529443883"
      ]
     },
     "execution_count": 8,
     "metadata": {},
     "output_type": "execute_result"
    }
   ],
   "source": [
    "web_page.Unique_Page_Views.sum() / web_page.Page_Views.sum()"
   ]
  },
  {
   "cell_type": "markdown",
   "metadata": {},
   "source": [
    "_95% of page views are unique. It appears that most visitors only come to the website once. The average page views is 1,219 with an average of 1,162 unique visitors. There doesn't seem to be much exploration of the website going on. The data also indicates there are very few return visitors._"
   ]
  },
  {
   "cell_type": "markdown",
   "metadata": {},
   "source": [
    "#### Is there a relationship between page views and entrances?"
   ]
  },
  {
   "cell_type": "code",
   "execution_count": 9,
   "metadata": {},
   "outputs": [
    {
     "data": {
      "image/png": "[encoded data removed]",
      "text/plain": [
       "<matplotlib.figure.Figure at 0x1114d5780>"
      ]
     },
     "metadata": {},
     "output_type": "display_data"
    }
   ],
   "source": [
    "sns.violinplot(web_page.Entrances);"
   ]
  },
  {
   "cell_type": "code",
   "execution_count": 10,
   "metadata": {},
   "outputs": [
    {
     "data": {
      "image/png": "[encoded data removed]",
      "text/plain": [
       "<matplotlib.figure.Figure at 0x116507128>"
      ]
     },
     "metadata": {},
     "output_type": "display_data"
    }
   ],
   "source": [
    "sns.jointplot(web_page.Entrances, web_page.Page_Views);"
   ]
  },
  {
   "cell_type": "code",
   "execution_count": 11,
   "metadata": {},
   "outputs": [
    {
     "data": {
      "text/plain": [
       "0.8645898691010455"
      ]
     },
     "execution_count": 11,
     "metadata": {},
     "output_type": "execute_result"
    }
   ],
   "source": [
    "web_page.Entrances.sum() / web_page.Page_Views.sum()"
   ]
  },
  {
   "cell_type": "markdown",
   "metadata": {},
   "source": [
    "_There is a strong positive correlation between entrances and page views with a pearson r value of one. The data is indicating the majority of pageviews come from the entrance with 86% of page views deriving from the entrance._"
   ]
  },
  {
   "cell_type": "markdown",
   "metadata": {},
   "source": [
    "#### Is there a relationship between page views and bounce rate?"
   ]
  },
  {
   "cell_type": "code",
   "execution_count": 12,
   "metadata": {},
   "outputs": [
    {
     "data": {
      "image/png": "[encoded data removed]",
      "text/plain": [
       "<matplotlib.figure.Figure at 0x116b10da0>"
      ]
     },
     "metadata": {},
     "output_type": "display_data"
    }
   ],
   "source": [
    "sns.violinplot(web_page.Bounce_Rate);"
   ]
  },
  {
   "cell_type": "code",
   "execution_count": 13,
   "metadata": {},
   "outputs": [
    {
     "data": {
      "image/png": "[encoded data removed]",
      "text/plain": [
       "<matplotlib.figure.Figure at 0x116b28438>"
      ]
     },
     "metadata": {},
     "output_type": "display_data"
    }
   ],
   "source": [
    "sns.jointplot(web_page.Bounce_Rate, web_page.Page_Views);"
   ]
  },
  {
   "cell_type": "markdown",
   "metadata": {},
   "source": [
    "_The bounce rate is very high with an average of nearly 87% of visitors viewing one posting and then leaving. There is not a strong correlation between bounce rate and page views with a pearson r value of only .05._"
   ]
  },
  {
   "cell_type": "markdown",
   "metadata": {},
   "source": [
    "#### Is there a relationship between page views and exit?"
   ]
  },
  {
   "cell_type": "code",
   "execution_count": 14,
   "metadata": {},
   "outputs": [
    {
     "data": {
      "image/png": "[encoded data removed]",
      "text/plain": [
       "<matplotlib.figure.Figure at 0x116e859b0>"
      ]
     },
     "metadata": {},
     "output_type": "display_data"
    }
   ],
   "source": [
    "sns.violinplot(web_page.Exit);"
   ]
  },
  {
   "cell_type": "code",
   "execution_count": 15,
   "metadata": {},
   "outputs": [
    {
     "data": {
      "image/png": "[encoded data removed]",
      "text/plain": [
       "<matplotlib.figure.Figure at 0x116ea3208>"
      ]
     },
     "metadata": {},
     "output_type": "display_data"
    }
   ],
   "source": [
    "sns.jointplot(web_page.Exit, web_page.Page_Views);"
   ]
  },
  {
   "cell_type": "markdown",
   "metadata": {},
   "source": [
    "Page views, Unique page views, and Entrances all have a strong correlation amongst each other. The data suggests that a majority of people are coming to the website from an outside source reading the article and then proceeding to leave the website. "
   ]
  },
  {
   "cell_type": "markdown",
   "metadata": {},
   "source": [
    "_There is not a relationship between page views and exit with a pearson r value of 0.075._"
   ]
  },
  {
   "cell_type": "markdown",
   "metadata": {},
   "source": [
    "### Summary and Test"
   ]
  },
  {
   "cell_type": "markdown",
   "metadata": {},
   "source": [
    "_The mean and standard deviation values of page views, unique page views, and entrances are all very similar. There is a high bounce rate and a high exit rate._"
   ]
  },
  {
   "cell_type": "markdown",
   "metadata": {},
   "source": [
    "_There is a very strong correlation between entrances and page views._"
   ]
  },
  {
   "cell_type": "markdown",
   "metadata": {},
   "source": [
    "__Will redesigning the way new stories are displayed to visitors on the website decrease bounce rate?__\n",
    "_The data is indicating that people are coming to the website from an outside source, because many people are just making an enterance, reading one article and leaving, not staying around to read other articles._"
   ]
  },
  {
   "cell_type": "markdown",
   "metadata": {},
   "source": [
    "__Redesigning the way news stories are displayed to visitors will decrease bounce rate.__"
   ]
  },
  {
   "cell_type": "markdown",
   "metadata": {},
   "source": [
    " _Alternate the new design and the old design between each unique visitor for the next three months. The key metric to monitor is the bounce rate between the new design and the old design. A secondary metric to watch is the rate of page views and enterances. This is an A/B test where The United States Olympic Committees website utilizes the new design vs the old design.\n",
    "<br>\n",
    "<br>\n",
    "We will analyze the data for three months prior to starting the study and compare it to the new design and the old design for three months during the study.\n",
    "<br>\n",
    "<br>\n",
    "If bounce rate decreases by an average of 10% over the next three months amongst the new design group then conclude that the new design is effective and implement the new design for the entire population. If the bounce rate decreases, but less than one standard deviation, then continue the study for two more months and then make a final decision. If the bounce rate does not decrease during the study then continue with the original design._"
   ]
  }
 ],
 "metadata": {
  "kernelspec": {
   "display_name": "Python 3",
   "language": "python",
   "name": "python3"
  },
  "language_info": {
   "codemirror_mode": {
    "name": "ipython",
    "version": 3
   },
   "file_extension": ".py",
   "mimetype": "text/x-python",
   "name": "python",
   "nbconvert_exporter": "python",
   "pygments_lexer": "ipython3",
   "version": "3.6.4"
  }
 },
 "nbformat": 4,
 "nbformat_minor": 2
}
