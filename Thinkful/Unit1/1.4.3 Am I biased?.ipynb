{
 "cells": [
  {
   "cell_type": "markdown",
   "metadata": {},
   "source": [
    "__You're testing advertising emails for a bathing suit company and you test one version of the email in February and the other in May.__"
   ]
  },
  {
   "cell_type": "markdown",
   "metadata": {},
   "source": [
    "February isn't a very popular month for swimming, and May is when the swimming season begins in most places. Different seasons also have different styles. The interested population sizes are going to be much different in February and May"
   ]
  },
  {
   "cell_type": "markdown",
   "metadata": {},
   "source": [
    "__You open a clinic to treat anxiety and find that the people who visit show a higher rate of anxiety than the general population.__"
   ]
  },
  {
   "cell_type": "markdown",
   "metadata": {},
   "source": [
    "A clinic that's whole purpose is to treat anxiety is going to have a higher rate of anxiety than in the general population. If people aren't overwhelmed with anxiety they aren't going to go to a clinic. Also people in an anxiety clinic already know they have a problem and are much more likely to admit to it."
   ]
  },
  {
   "cell_type": "markdown",
   "metadata": {},
   "source": [
    "__You launch a new ad billboard based campaign and see an increase in website visits in the first week.__"
   ]
  },
  {
   "cell_type": "markdown",
   "metadata": {},
   "source": [
    "It is a short duartion of the experiment and the increase in websites visits in the first week can't necessarily be attributed to the new billboard."
   ]
  },
  {
   "cell_type": "markdown",
   "metadata": {},
   "source": [
    "__You launch a loyalty program but see no change in visits in the first week.__"
   ]
  },
  {
   "cell_type": "markdown",
   "metadata": {},
   "source": [
    "Loyalty programs are meant to work over a long period of time, judging it by one week isn't enough, because everyone might not need the services every week."
   ]
  },
  {
   "cell_type": "code",
   "execution_count": null,
   "metadata": {},
   "outputs": [],
   "source": []
  }
 ],
 "metadata": {
  "kernelspec": {
   "display_name": "Python 3",
   "language": "python",
   "name": "python3"
  },
  "language_info": {
   "codemirror_mode": {
    "name": "ipython",
    "version": 3
   },
   "file_extension": ".py",
   "mimetype": "text/x-python",
   "name": "python",
   "nbconvert_exporter": "python",
   "pygments_lexer": "ipython3",
   "version": "3.6.4"
  }
 },
 "nbformat": 4,
 "nbformat_minor": 2
}
