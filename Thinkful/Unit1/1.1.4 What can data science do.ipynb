{
 "cells": [
  {
   "cell_type": "markdown",
   "metadata": {},
   "source": [
    "__You work at an e-commerce company that sells three goods: widgets, doodads, and fizzbangs. The head of advertising asks you which they should feature in their new advertising campaign. You have data on individual visitors' sessions (activity on a website, pageviews, and purchases), as well as whether or not those users converted from an advertisement for that session. You also have the cost and price information for the goods.__\n",
    "\n",
    "-- In order to decide which goods should be featured in an advertising campaign, I would utilize several programming functions to discover various statistical information. I would see which items had the most pageviews, how long they were looked at before a user left the page or made the purchase, also I would see which were converted by an advertisement and which weren't. Whichever has the most advertisement conversions with purchases I would advise to use in the advertising campaign.\n",
    "\n",
    "__You work at a web design company that offers to build websites for clients. Signups have slowed, and you are tasked with finding out why. The onboarding funnel has three steps: email and password signup, plan choice, and payment. On a user level you have information on what steps they have completed as well as timestamps for all of those events for the past 3 years. You also have information on marketing spend on a weekly level.__\n",
    "\n",
    "-- I would determine which step had the most incompletions and determine how it could be optimized. I would also see if there is a correlation between marketing spending and sign up rate.\n",
    "\n",
    "__You work at a hotel website and currently the website ranks search results by price. For simplicity's sake, let's say it's a website for one city with 100 hotels. You are tasked with proposing a better ranking system. You have session information, price information for the hotels, and whether each hotel is currently available.__\n",
    "\n",
    "-- Hotel availability should rank high in the rankings, because the cost is unimportant if it is unavailable. I would devise an algorithm that utilizes most viewed hotels, price, and if its available or not to sort a more accurate list of likely to be purchased hotel rooms.\n",
    "\n",
    "__You work at a social network, and the management is worried about churn (users stopping using the product). You are tasked with finding out if their churn is atypical. You have three years of data for users with an entry for every time they've logged in, including the timestamp and length of session.__\n",
    "\n",
    "-- I would determine if there has been any abnormal useage by checking the average length of session and total active user count over the past three years. "
   ]
  },
  {
   "cell_type": "code",
   "execution_count": null,
   "metadata": {},
   "outputs": [],
   "source": []
  }
 ],
 "metadata": {
  "kernelspec": {
   "display_name": "Python 3",
   "language": "python",
   "name": "python3"
  },
  "language_info": {
   "codemirror_mode": {
    "name": "ipython",
    "version": 3
   },
   "file_extension": ".py",
   "mimetype": "text/x-python",
   "name": "python",
   "nbconvert_exporter": "python",
   "pygments_lexer": "ipython3",
   "version": "3.6.4"
  }
 },
 "nbformat": 4,
 "nbformat_minor": 2
}
