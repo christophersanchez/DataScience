{
 "cells": [
  {
   "cell_type": "markdown",
   "metadata": {},
   "source": [
    "__Does a new supplement help people sleep better?__"
   ]
  },
  {
   "cell_type": "markdown",
   "metadata": {},
   "source": [
    "-  The two versions would be the actual supplement and a placebo supplement\n",
    "-  The population size would likely be small enough to use the entire population as the sample. Part of the population would get the actual supplement and the other half would get the placebo.\n",
    "-  The new supplement will help people sleep better.\n",
    "-  The key metric would be how many hours of sleep in a row did each participant get?\n",
    "-  Another metric to keep an eye on would be how many people woke up well rested and not tired?"
   ]
  },
  {
   "cell_type": "markdown",
   "metadata": {},
   "source": [
    "__Will new uniforms help a gym's business?__"
   ]
  },
  {
   "cell_type": "markdown",
   "metadata": {},
   "source": [
    "-  The new uniform and the old uniform would be the two versions.\n",
    "-  The two sample sizes would be the groups that were able to see each respective uniform. I would alternate the uniforms by week to see if there was a change.\n",
    "-  New uniforms will help a gym's business.\n",
    "-  A key metric to watch would be churn. \n",
    "-  Another key metric to watch would be employee happiness."
   ]
  },
  {
   "cell_type": "markdown",
   "metadata": {},
   "source": [
    "__Will a new homepage improve my online exotic pet rental business?__"
   ]
  },
  {
   "cell_type": "markdown",
   "metadata": {},
   "source": [
    "-  The old homepage and the new home page are the two versions.\n",
    "-  I would split the visits to divide the population. Each new visit would get a different version.\n",
    "-  A new homepage will improve my online exotic pet rental business.\n",
    "-  Amount of conversions per version would be a key metric to watch\n",
    "-  Amount of time spent on each website would be another metric to watch"
   ]
  },
  {
   "cell_type": "markdown",
   "metadata": {},
   "source": [
    "__If I put 'please read' in the email subject will more people read my emails?__"
   ]
  },
  {
   "cell_type": "markdown",
   "metadata": {},
   "source": [
    "-  E-mails with please read in the subject and e-mails without it are the two versions.\n",
    "-  I would alternate versions as they were sent out.\n",
    "-  Putting please read in the email subject will make more people read my e-mails.\n",
    "-  How many conversions came from each email would be a key metric to watch\n",
    "-  How long it took each email to be clicked is a secondary metric to keep an eye on."
   ]
  }
 ],
 "metadata": {
  "kernelspec": {
   "display_name": "Python 3",
   "language": "python",
   "name": "python3"
  },
  "language_info": {
   "codemirror_mode": {
    "name": "ipython",
    "version": 3
   },
   "file_extension": ".py",
   "mimetype": "text/x-python",
   "name": "python",
   "nbconvert_exporter": "python",
   "pygments_lexer": "ipython3",
   "version": "3.6.4"
  }
 },
 "nbformat": 4,
 "nbformat_minor": 2
}
