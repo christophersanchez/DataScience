{
 "cells": [
  {
   "cell_type": "markdown",
   "metadata": {},
   "source": [
    "The goal today is:\n",
    "\n",
    "1) Return specific pieces of information (rather than just downloading a whole page)\n",
    "\n",
    "2) Iterate over multiple pages/queries\n",
    "\n",
    "3) Save the data to your computer\n",
    "\n",
    "Compute some statistical summaries and/or visualizations that give some new insights into the data. \n"
   ]
  },
  {
   "cell_type": "code",
   "execution_count": null,
   "metadata": {},
   "outputs": [],
   "source": [
    "from tweepy import Stream\n",
    "from tweepy import OAuthHandler\n",
    "from tweepy.streaming import StreamListener\n",
    "import csv\n",
    "import json\n",
    "\n",
    "#consumer key, consumer secret, access key, access secret.\n",
    "consumer_key=\"*******\"\n",
    "consumer_secret=\"*******\"\n",
    "access_key=\"**************\n",
    "access_secret=\"*******\"\n",
    "\n",
    "# Create class to listen to stream\n",
    "class stream_listener(StreamListener):\n",
    "    # create csv with columns\n",
    "    with open('TwitterStreaming.csv', 'a') as f:\n",
    "        writer = csv.writer(f)\n",
    "        writer.writerow([\"screen name\",\"created_at\",\"tweets\", \"followers\", \"friends\"])\n",
    "    pass\n",
    "    #create function to get specific information and write it to the newly created csv\n",
    "    def on_data(self, data):\n",
    "        all_data = json.loads(data)\n",
    "        tweet = all_data[\"text\"]\n",
    "        created_at = all_data['created_at']\n",
    "        screen_name = all_data[\"user\"][\"screen_name\"]\n",
    "        followers = all_data[\"user\"]['followers_count']\n",
    "        friends = all_data[\"user\"]['friends_count']\n",
    "\n",
    "        with open('TwitterStreaming.csv', 'a') as f:\n",
    "            writer = csv.writer(f)\n",
    "            writer.writerow([screen_name, created_at, tweet, followers, friends])\n",
    "        pass\n",
    "        \n",
    "        return True\n",
    "    #print error code on error\n",
    "    def on_error(self, data):\n",
    "        print(status)\n",
    "        return True\n",
    "\n",
    "#set auth\n",
    "auth = OAuthHandler(consumer_key, consumer_secret)\n",
    "auth.set_access_token(access_key, access_secret)\n",
    "\n",
    "# stream\n",
    "Stream_twitter = Stream(auth, stream_listener())\n",
    "Stream_twitter.filter(track=[\"daca\", \"mexican\", \"immigrant\", \"immigration\", \"uscis\", \"border patrol\"])"
   ]
  },
  {
   "cell_type": "markdown",
   "metadata": {},
   "source": [
    "After the data has been scraped it's time to import the packages needed for analysis"
   ]
  },
  {
   "cell_type": "code",
   "execution_count": 1,
   "metadata": {},
   "outputs": [],
   "source": [
    "import pandas as pd\n",
    "import numpy as np\n",
    "import seaborn as sns\n",
    "from textblob import TextBlob\n",
    "from datetime import datetime\n"
   ]
  },
  {
   "cell_type": "markdown",
   "metadata": {},
   "source": [
    "Import the scraped data, and create sentiment analysis columns"
   ]
  },
  {
   "cell_type": "code",
   "execution_count": 2,
   "metadata": {},
   "outputs": [
    {
     "data": {
      "text/html": [
       "<div>\n",
       "<style scoped>\n",
       "    .dataframe tbody tr th:only-of-type {\n",
       "        vertical-align: middle;\n",
       "    }\n",
       "\n",
       "    .dataframe tbody tr th {\n",
       "        vertical-align: top;\n",
       "    }\n",
       "\n",
       "    .dataframe thead th {\n",
       "        text-align: right;\n",
       "    }\n",
       "</style>\n",
       "<table border=\"1\" class=\"dataframe\">\n",
       "  <thead>\n",
       "    <tr style=\"text-align: right;\">\n",
       "      <th></th>\n",
       "      <th>screen name</th>\n",
       "      <th>created_at</th>\n",
       "      <th>tweets</th>\n",
       "      <th>followers</th>\n",
       "      <th>friends</th>\n",
       "      <th>polarity</th>\n",
       "      <th>subjectivity</th>\n",
       "    </tr>\n",
       "  </thead>\n",
       "  <tbody>\n",
       "    <tr>\n",
       "      <th>0</th>\n",
       "      <td>czarobizarro</td>\n",
       "      <td>Tue Sep 04 02:49:01 +0000 2018</td>\n",
       "      <td>RT @SenFeinstein: Brett Kavanaugh authored a d...</td>\n",
       "      <td>43</td>\n",
       "      <td>271</td>\n",
       "      <td>0.100000</td>\n",
       "      <td>0.400000</td>\n",
       "    </tr>\n",
       "    <tr>\n",
       "      <th>1</th>\n",
       "      <td>mizunohopkins</td>\n",
       "      <td>Tue Sep 04 02:49:01 +0000 2018</td>\n",
       "      <td>RT @thetypicalmalay: Immigration officer: Come...</td>\n",
       "      <td>511</td>\n",
       "      <td>597</td>\n",
       "      <td>0.500000</td>\n",
       "      <td>0.500000</td>\n",
       "    </tr>\n",
       "    <tr>\n",
       "      <th>2</th>\n",
       "      <td>Joel40rnJoel</td>\n",
       "      <td>Tue Sep 04 02:49:02 +0000 2018</td>\n",
       "      <td>RT @IsraelUSAforevr: Wow. Throwback to when Se...</td>\n",
       "      <td>7628</td>\n",
       "      <td>7621</td>\n",
       "      <td>0.125000</td>\n",
       "      <td>1.000000</td>\n",
       "    </tr>\n",
       "    <tr>\n",
       "      <th>3</th>\n",
       "      <td>scvb13</td>\n",
       "      <td>Tue Sep 04 02:49:02 +0000 2018</td>\n",
       "      <td>Mariscos Costa Alegre on #Yelp: Hubby and I tr...</td>\n",
       "      <td>180</td>\n",
       "      <td>501</td>\n",
       "      <td>-0.066667</td>\n",
       "      <td>0.033333</td>\n",
       "    </tr>\n",
       "    <tr>\n",
       "      <th>4</th>\n",
       "      <td>Leinster_Lad</td>\n",
       "      <td>Tue Sep 04 02:49:03 +0000 2018</td>\n",
       "      <td>RT @janeyhasmoved: Chris Bowen: \"I can confirm...</td>\n",
       "      <td>408</td>\n",
       "      <td>610</td>\n",
       "      <td>0.000000</td>\n",
       "      <td>0.000000</td>\n",
       "    </tr>\n",
       "  </tbody>\n",
       "</table>\n",
       "</div>"
      ],
      "text/plain": [
       "     screen name                      created_at  \\\n",
       "0   czarobizarro  Tue Sep 04 02:49:01 +0000 2018   \n",
       "1  mizunohopkins  Tue Sep 04 02:49:01 +0000 2018   \n",
       "2   Joel40rnJoel  Tue Sep 04 02:49:02 +0000 2018   \n",
       "3         scvb13  Tue Sep 04 02:49:02 +0000 2018   \n",
       "4   Leinster_Lad  Tue Sep 04 02:49:03 +0000 2018   \n",
       "\n",
       "                                              tweets  followers  friends  \\\n",
       "0  RT @SenFeinstein: Brett Kavanaugh authored a d...         43      271   \n",
       "1  RT @thetypicalmalay: Immigration officer: Come...        511      597   \n",
       "2  RT @IsraelUSAforevr: Wow. Throwback to when Se...       7628     7621   \n",
       "3  Mariscos Costa Alegre on #Yelp: Hubby and I tr...        180      501   \n",
       "4  RT @janeyhasmoved: Chris Bowen: \"I can confirm...        408      610   \n",
       "\n",
       "   polarity  subjectivity  \n",
       "0  0.100000      0.400000  \n",
       "1  0.500000      0.500000  \n",
       "2  0.125000      1.000000  \n",
       "3 -0.066667      0.033333  \n",
       "4  0.000000      0.000000  "
      ]
     },
     "execution_count": 2,
     "metadata": {},
     "output_type": "execute_result"
    }
   ],
   "source": [
    "df = pd.read_csv('TwitterStreaming.csv')\n",
    "\n",
    "# Sentiment analyisis\n",
    "df['polarity'] = df['tweets'].apply(lambda tweet: TextBlob(tweet).sentiment.polarity)\n",
    "df['subjectivity'] = df['tweets'].apply(lambda tweet: TextBlob(tweet).sentiment.subjectivity)\n",
    "\n",
    "df.head()"
   ]
  },
  {
   "cell_type": "markdown",
   "metadata": {},
   "source": [
    "Display some statistics"
   ]
  },
  {
   "cell_type": "code",
   "execution_count": 3,
   "metadata": {},
   "outputs": [
    {
     "data": {
      "text/html": [
       "<div>\n",
       "<style scoped>\n",
       "    .dataframe tbody tr th:only-of-type {\n",
       "        vertical-align: middle;\n",
       "    }\n",
       "\n",
       "    .dataframe tbody tr th {\n",
       "        vertical-align: top;\n",
       "    }\n",
       "\n",
       "    .dataframe thead th {\n",
       "        text-align: right;\n",
       "    }\n",
       "</style>\n",
       "<table border=\"1\" class=\"dataframe\">\n",
       "  <thead>\n",
       "    <tr style=\"text-align: right;\">\n",
       "      <th></th>\n",
       "      <th>followers</th>\n",
       "      <th>friends</th>\n",
       "      <th>polarity</th>\n",
       "      <th>subjectivity</th>\n",
       "    </tr>\n",
       "  </thead>\n",
       "  <tbody>\n",
       "    <tr>\n",
       "      <th>count</th>\n",
       "      <td>1495.000000</td>\n",
       "      <td>1495.000000</td>\n",
       "      <td>1495.000000</td>\n",
       "      <td>1495.000000</td>\n",
       "    </tr>\n",
       "    <tr>\n",
       "      <th>mean</th>\n",
       "      <td>2523.093645</td>\n",
       "      <td>2137.547157</td>\n",
       "      <td>0.053416</td>\n",
       "      <td>0.315041</td>\n",
       "    </tr>\n",
       "    <tr>\n",
       "      <th>std</th>\n",
       "      <td>9141.217625</td>\n",
       "      <td>5768.383844</td>\n",
       "      <td>0.264521</td>\n",
       "      <td>0.283943</td>\n",
       "    </tr>\n",
       "    <tr>\n",
       "      <th>min</th>\n",
       "      <td>0.000000</td>\n",
       "      <td>0.000000</td>\n",
       "      <td>-1.000000</td>\n",
       "      <td>0.000000</td>\n",
       "    </tr>\n",
       "    <tr>\n",
       "      <th>25%</th>\n",
       "      <td>155.000000</td>\n",
       "      <td>202.500000</td>\n",
       "      <td>0.000000</td>\n",
       "      <td>0.000000</td>\n",
       "    </tr>\n",
       "    <tr>\n",
       "      <th>50%</th>\n",
       "      <td>470.000000</td>\n",
       "      <td>604.000000</td>\n",
       "      <td>0.000000</td>\n",
       "      <td>0.300000</td>\n",
       "    </tr>\n",
       "    <tr>\n",
       "      <th>75%</th>\n",
       "      <td>1813.000000</td>\n",
       "      <td>2179.500000</td>\n",
       "      <td>0.125000</td>\n",
       "      <td>0.476136</td>\n",
       "    </tr>\n",
       "    <tr>\n",
       "      <th>max</th>\n",
       "      <td>154017.000000</td>\n",
       "      <td>121062.000000</td>\n",
       "      <td>1.000000</td>\n",
       "      <td>1.000000</td>\n",
       "    </tr>\n",
       "  </tbody>\n",
       "</table>\n",
       "</div>"
      ],
      "text/plain": [
       "           followers        friends     polarity  subjectivity\n",
       "count    1495.000000    1495.000000  1495.000000   1495.000000\n",
       "mean     2523.093645    2137.547157     0.053416      0.315041\n",
       "std      9141.217625    5768.383844     0.264521      0.283943\n",
       "min         0.000000       0.000000    -1.000000      0.000000\n",
       "25%       155.000000     202.500000     0.000000      0.000000\n",
       "50%       470.000000     604.000000     0.000000      0.300000\n",
       "75%      1813.000000    2179.500000     0.125000      0.476136\n",
       "max    154017.000000  121062.000000     1.000000      1.000000"
      ]
     },
     "execution_count": 3,
     "metadata": {},
     "output_type": "execute_result"
    }
   ],
   "source": [
    "df.describe()"
   ]
  },
  {
   "cell_type": "markdown",
   "metadata": {},
   "source": [
    "The means of friends and followers is similar, but with a large standard deviation. \n",
    "\n",
    "Histogram of polarity:"
   ]
  },
  {
   "cell_type": "code",
   "execution_count": 4,
   "metadata": {},
   "outputs": [
    {
     "data": {
      "image/png": "[encoded data removed]",
      "text/plain": [
       "<matplotlib.figure.Figure at 0x10c73d710>"
      ]
     },
     "metadata": {},
     "output_type": "display_data"
    }
   ],
   "source": [
    "sns.distplot(df.polarity);"
   ]
  },
  {
   "cell_type": "markdown",
   "metadata": {},
   "source": [
    "The data is close to a normal distribution. Polarity determines whether a variable is positive, negative or neutral.\n",
    "\n",
    "Histogram of subjectivity:"
   ]
  },
  {
   "cell_type": "code",
   "execution_count": 5,
   "metadata": {},
   "outputs": [
    {
     "data": {
      "image/png": "[encoded data removed]",
      "text/plain": [
       "<matplotlib.figure.Figure at 0x10c6fd550>"
      ]
     },
     "metadata": {},
     "output_type": "display_data"
    }
   ],
   "source": [
    "sns.distplot(df.subjectivity);"
   ]
  },
  {
   "cell_type": "markdown",
   "metadata": {},
   "source": [
    "Subjective determines whether a sentence is objective or subjective\n",
    "\n",
    "Scatterplot of friends and followers:"
   ]
  },
  {
   "cell_type": "code",
   "execution_count": 6,
   "metadata": {},
   "outputs": [
    {
     "data": {
      "image/png": "[encoded data removed]",
      "text/plain": [
       "<matplotlib.figure.Figure at 0x10c6ef0b8>"
      ]
     },
     "metadata": {},
     "output_type": "display_data"
    }
   ],
   "source": [
    "sns.jointplot(df.friends, df.followers);"
   ]
  },
  {
   "cell_type": "markdown",
   "metadata": {},
   "source": [
    "Friends and followers does appear to be correlated with a p value determining it can reject the null hypothesis.\n",
    "\n",
    "__In Conclusion..__\n",
    "\n",
    "Tweepy is a very convenient API that allows you to fetch tweets from twitter in various ways like searching for tweets, streaming tweets live, and more. \n",
    "\n",
    "The data scraped used keywords around immigration. \n",
    "\n",
    "The tweets were mixed with positive, negative and neutral polarity scores. Neutral was the highest, followed by positive, then negative.\n",
    "\n"
   ]
  }
 ],
 "metadata": {
  "kernelspec": {
   "display_name": "Python 3",
   "language": "python",
   "name": "python3"
  },
  "language_info": {
   "codemirror_mode": {
    "name": "ipython",
    "version": 3
   },
   "file_extension": ".py",
   "mimetype": "text/x-python",
   "name": "python",
   "nbconvert_exporter": "python",
   "pygments_lexer": "ipython3",
   "version": "3.6.4"
  }
 },
 "nbformat": 4,
 "nbformat_minor": 2
}
