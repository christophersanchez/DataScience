{
 "cells": [
  {
   "cell_type": "markdown",
   "metadata": {},
   "source": [
    "State whether a survey would be the best option for answering each of the following questions.\n",
    "\n",
    "Popularity of various Uber drivers. - Yes, a lot of people would feel safer if a company is able to screen their employees and a survey can be a great way.\n",
    "\n",
    "\n",
    "A grocery store wants to know how much people like strawberry, chocolate, and vanilla ice cream. \n",
    "yes a survey would work well, allowing people to give their input\n",
    "\n",
    "\n",
    "Trojan wants to know whether their condoms are more popular among straight people or gay people. \n",
    "maybe not so well, because gay people tend to not report as often as straight people\n",
    "\n",
    "Recently, rental rates for HappyCars have increased by 30%, which is quite unusual. You want to find out why this is happening and how to keep the increase going.  no\n",
    "\n",
    "Assessing the success rate of a new advertising campaign. no\n",
    "\n",
    "Measuring the effect of nurse/patient ratio on patient recovery rates in hospital wards. no"
   ]
  }
 ],
 "metadata": {
  "kernelspec": {
   "display_name": "Python 3.6",
   "language": "python",
   "name": "python36"
  },
  "language_info": {
   "codemirror_mode": {
    "name": "ipython",
    "version": 3
   },
   "file_extension": ".py",
   "mimetype": "text/x-python",
   "name": "python",
   "nbconvert_exporter": "python",
   "pygments_lexer": "ipython3",
   "version": "3.6.3"
  }
 },
 "nbformat": 4,
 "nbformat_minor": 2
}
