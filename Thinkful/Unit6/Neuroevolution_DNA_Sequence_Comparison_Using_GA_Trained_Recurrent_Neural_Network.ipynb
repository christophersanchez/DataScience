{
 "cells": [
  {
   "cell_type": "markdown",
   "metadata": {},
   "source": [
    "## Neuroevolution DNA Sequence Comparison Using GA Trained Recurrent Neural Network\n",
    "__October, 2018 - Christopher Sanchez__ \n",
    "\n",
    "A neuroevolution model will be created in order to compare DNA sequences. A genetic algorithm will be used to train a recurrent neural network to best determine similarity between sequences. The genetic algorithm will be utilized to determine the best weighting of the networks. The goal today is for the network to be effective at predicting similarity in order to infer homology.\n",
    "\n",
    "Deoxyribonucleic acid, or DNA is a double helix shaped structure consisting of a chain of nucleotides known as basepairs that act like a blueprint, providing a list of instructions for your body to produce proteins. There are four distinct bases A, T, C and G. A always bonds with T and C always bonds with G. A wide variety of information can be gained from DNA analysis. It is possible to determine gender, disease susceptibility, familial ties, DNA is responsible for solving countless amounts of crime, and more! There are multiple sequencing techniques out there, but not all are great for common errors that can occur such as basepairs deletions and insertions. I was inspired by this paper: https://www.cse.unr.edu/~cheung/neorgene.pdf, to attempt improving the dna sequencing techniques that are used today. There will be two human genes used today one for training which is LOCUS NT_187300, and is 156,246 base pairs long. The other gene that will be used for testing is LOCUS NT_187301 and is 177,312 basepairs long. The genes are the first and second gene located in chromosome 21.  A human genome consists of six billion basepairs mistakes are going to be made. It isn't uncommon for a basepair to get switched around. It is important to use a technique that can operate quickly and accurately. \n",
    "\n",
    "Genetic algorithms work by immitating Darwin's survival of the fittest theory. The survival of the fittest theory suggests that natural selection selects the best individuals and discards the weakest, thereby passing on only the strognest genes. Each sample is considered an individual. A population is all of the individuals together. A fitness score is used to determine how fit or weak an individual is. The best parents are used to breed and create individuals with characteristics of the parents. A mutation can be added to further improve on results. Finally evolution takes place combining all of the steps together to create the best offspring possible.\n",
    "\n",
    "Combining recurrent neural networks and a genetic algorithm is a quite interesting way to train the network. First the dna sequence must be cleaned and processed in order to be passed into the neural network. Once the sequence is processed and split into individuals the genetic algorithm will pass the individuals into the neural network using mean squared error as the fitness score in order to provide a grade to each network. Then the data will be bred and mutated in order to produce offspring and cause evolution.\n",
    "\n",
    "### Introduction:\n",
    "\n",
    "To solve the problem of DNA sequence similarity comparison, two different splits of gene LOCUS NT_187300 will be taken and used for comparison to train the model. Basepairs are considered similar if the two genes being compared are the same. The dna sequence will be cleaned and processed to pass into a population of recurrent neural networks. The neural networks will be trained using a genetic algorithm to manipulate the weights from the weakest population based on previous high performing weights from the fittest population. The weights will be determined via crossover and mutation. Each neural network in the population will represent and individual. Al of the individuals will be trained using a training split, and tested using a test split. \n",
    "\n",
    "After the evolution of the population, the top network will be taken for further testing. It will be tested against four generated sequences with similarities of 0%, 33%, 66%, and 100%. These sequences will provide a good basis for how the model is performing. \n",
    "\n",
    "Finally as a validation test gene LOCUS NT_187301 will be imported and processed to further validate the effectiveness or uneffectiveness of the network."
   ]
  },
  {
   "cell_type": "code",
   "execution_count": 1,
   "metadata": {},
   "outputs": [
    {
     "name": "stderr",
     "output_type": "stream",
     "text": [
      "/Users/c/anaconda3/lib/python3.6/site-packages/h5py/__init__.py:36: FutureWarning: Conversion of the second argument of issubdtype from `float` to `np.floating` is deprecated. In future, it will be treated as `np.float64 == np.dtype(float).type`.\n",
      "  from ._conv import register_converters as _register_converters\n",
      "Using TensorFlow backend.\n",
      "/Users/c/anaconda3/lib/python3.6/importlib/_bootstrap.py:219: RuntimeWarning: compiletime version 3.5 of module 'tensorflow.python.framework.fast_tensor_util' does not match runtime version 3.6\n",
      "  return f(*args, **kwds)\n"
     ]
    }
   ],
   "source": [
    "import numpy as np\n",
    "import pandas as pd\n",
    "import re\n",
    "import random\n",
    "import time\n",
    "from IPython.display import clear_output\n",
    "from operator import add, sub\n",
    "from numpy import argmax, array\n",
    "from collections import Counter, OrderedDict\n",
    "\n",
    "import matplotlib.pyplot as plt\n",
    "import keras\n",
    "import tensorflow\n",
    "# Import various componenets for model building\n",
    "from keras.models import Sequential, Model\n",
    "from keras.layers import Dense, Dropout, LSTM, Input, TimeDistributed, SimpleRNN\n",
    "from sklearn.model_selection import train_test_split, cross_val_score\n",
    "from sklearn.metrics import mean_squared_error, accuracy_score\n",
    "from scipy.stats import bernoulli\n",
    "# Import the backend\n",
    "from keras import backend as K\n",
    "from keras.preprocessing.sequence import pad_sequences\n"
   ]
  },
  {
   "cell_type": "markdown",
   "metadata": {},
   "source": [
    "Mean squared error sums the distance of all the points squared from the regression line fitting the data. Sklearns mean squared error function is used in order to generate the MSE which will be returned and utilized as the fitness score for the genetic algorithm. The data will also be reshaped into two dimensions from three in order to pass into the function properly."
   ]
  },
  {
   "cell_type": "code",
   "execution_count": 2,
   "metadata": {},
   "outputs": [],
   "source": [
    "def mse(y_true, y_pred):\n",
    "    # reshape data in order to be passed into the mean squared error function\n",
    "    y_true = y_true.reshape(y_true.shape[0], y_true.shape[1])\n",
    "    y_pred = y_pred.reshape(y_pred.shape[0], y_pred.shape[1])\n",
    "    #calculate the mean squared error\n",
    "    mse = mean_squared_error(y_true, y_pred)\n",
    "    return mse"
   ]
  },
  {
   "cell_type": "markdown",
   "metadata": {},
   "source": [
    "The various sequences will be visualized using bargraphs. These two functions will allow for easy and clean displaying of the data. The first function plots one set of data, while the second function allows for comparisons between data."
   ]
  },
  {
   "cell_type": "code",
   "execution_count": 3,
   "metadata": {},
   "outputs": [],
   "source": [
    "def basepair_graph(data):\n",
    "    # get a count of each basepair\n",
    "    character_count = Counter(data)\n",
    "    print(character_count)\n",
    "    # create the labels and values\n",
    "    labels, values = zip(*character_count.items())\n",
    "    \n",
    "    # create the index values\n",
    "    indexes = np.arange(len(labels))\n",
    "    # set the width of the bars\n",
    "    width = .8\n",
    "    \n",
    "    # create bar plot\n",
    "    plt.bar(indexes, values, width)\n",
    "    plt.xticks(indexes + width * 0, labels)\n",
    "    plt.title('Count of Basepairs')\n",
    "    plt.xlabel('Basepairs')\n",
    "    plt.ylabel('Count')\n",
    "    plt.show()\n",
    "\n",
    "def basepair_graph_comparison(sequence_one, sequence_two, width, ax=None):\n",
    "    # get a count of each basepair for each sequence\n",
    "    sequence_one_count = Counter(sequence_one)\n",
    "    sequence_two_count = Counter(sequence_two)\n",
    "\n",
    "    # create the labels and values\n",
    "    labels_one, values_one = zip(*sequence_one_count.items())\n",
    "    labels_two, values_two = zip(*sequence_two_count.items())\n",
    "\n",
    "    # create the index values\n",
    "    indexes = np.arange(len(labels_one))\n",
    "    \n",
    "    # create bar plot\n",
    "    ax.bar(indexes, values_one, width);\n",
    "    ax.bar(indexes, values_two, width * .5);\n",
    "    plt.xticks(indexes + width * 0, labels_one)"
   ]
  },
  {
   "cell_type": "markdown",
   "metadata": {},
   "source": [
    "### I: Importing and analyzing data\n",
    "LOCUS NT_187300 will be imported from a text file as a string. After it is imported it will be reassigned to the variable dna_basepairs. It will be cleaned by removing all of the numbers, new lines and white spaces. The sequence will then be visualized using the previously created basepair_graph function to demonstrate the distribution of the 156,246 basepairs."
   ]
  },
  {
   "cell_type": "code",
   "execution_count": 4,
   "metadata": {},
   "outputs": [
    {
     "name": "stdout",
     "output_type": "stream",
     "text": [
      "Counter({'C': 44559, 'G': 42681, 'A': 36681, 'T': 32325})\n"
     ]
    },
    {
     "data": {
      "image/png": "[encoded data removed]",
      "text/plain": [
       "<matplotlib.figure.Figure at 0x10c3cb278>"
      ]
     },
     "metadata": {},
     "output_type": "display_data"
    }
   ],
   "source": [
    "with open('dna.txt', 'r') as myfile:\n",
    "  dna_basepairs = myfile.read()\n",
    "dna_basepairs = re.sub(r'[0-9]([0-9])?([0-9])?([0-9])?([0-9])?([0-9])?', '', dna_basepairs)\n",
    "dna_basepairs = re.sub(r'\\n', '', dna_basepairs)\n",
    "dna_basepairs = re.sub(r'\\s+', '', dna_basepairs).strip().upper()\n",
    "# graph basepairs\n",
    "basepair_graph(dna_basepairs.upper())"
   ]
  },
  {
   "cell_type": "markdown",
   "metadata": {},
   "source": [
    "It is a non normal and non uniform distribution. C's have the highest amount of basepairs at 44.5k. T's represent the lowest quantity at around 32.3k. \n",
    "\n",
    "### II: Processing the Dna Sequence into an array and determining similarity\n",
    "\n",
    "The two sequences that need to be compared, and the split size are passed into the create_dna_array function. The batch size of basepairs and samples are calculated in order to properly reshape the data to be passed into the neural networks. An array of zeroes is created to provide an array to be manipulated and allow for vectorization of the base pairs. Vectorization will work by converting A to 1000, T to 0100, G to 0010, and C to 0001. The two sequences will be vectorized and combined in order to be tested for similarity. Finally a similarity score will be awarded to each pair of sequences. "
   ]
  },
  {
   "cell_type": "code",
   "execution_count": 5,
   "metadata": {},
   "outputs": [],
   "source": [
    "def create_dna_array(sequence_one, sequence_two, batches):\n",
    "\n",
    "    # determine number of samples to reshape the data into 3d\n",
    "    samples = int(len(sequence_one) / batches)\n",
    "    \n",
    "    # Create an array of zeros to be filled with vectorized sequences\n",
    "    array = np.zeros((len(sequence_one), 8))\n",
    "    \n",
    "    # mapping the array with a dictionary to effectively vectorize the basepairs.\n",
    "    vectorize_sequence = {'A': 1, 'T': 2, 'G': 3, 'C': 4}\n",
    "    \n",
    "    # for the bases in each sequence fill the designated spot in the array of zeroes with a 1.\n",
    "    for base in range(len(sequence_one)):\n",
    "        base_one = sequence_one[base]\n",
    "        base_two = sequence_two[base]\n",
    "        array[base, vectorize_sequence[base_one]] = 1\n",
    "        array[base, vectorize_sequence[base_two] + 3] = 1\n",
    "    \n",
    "    # determine whether sequences are similar or not and label true or false\n",
    "    similarity_array = np.zeros((len(array), 1))\n",
    "\n",
    "    for i in range(len(array)):\n",
    "        if np.equal(array[i, :4], array[i, 4:]).all():\n",
    "            similarity_array[i] == 1\n",
    "        else:\n",
    "            similarity_array[i] == 0 \n",
    "            \n",
    "    return [np.asarray(array).reshape(samples, batches, 8), \n",
    "            similarity_array.reshape(samples, batches, 1)]"
   ]
  },
  {
   "cell_type": "markdown",
   "metadata": {},
   "source": [
    "### III: Creating the population of LSTM networks\n",
    "\n",
    "30 LSTM networks, which will be considered the individuals in this test, will be created as the population. The network consists of three layers. The first which is the input layer, contains 8 input nodes, four for each sequence, an LSTM layer with x nodes, and a third dense layer as the output layer with 1 node. A tanh function will be used which will give an output between -0.9 and 0.9. 0.9 will be interpreted as having a very high similarity and -0.9 will be the inverse. Bias will also be used. "
   ]
  },
  {
   "cell_type": "code",
   "execution_count": 6,
   "metadata": {},
   "outputs": [],
   "source": [
    "# comparison is used to pass in the shape of the data being compared\n",
    "# amount is the amount of networks to be created.\n",
    "\n",
    "def create_population(comparison, amount):\n",
    "    network_population = []\n",
    "    # create the specified amount of individual neural networks\n",
    "    # using a tanh activation function\n",
    "    for i in range(amount):\n",
    "        model = Sequential()\n",
    "        # add Long short term memory RNN layer using bias\n",
    "        model.add(LSTM(64, \n",
    "                       input_shape=(comparison.shape[1], 8), \n",
    "                       activation='tanh', \n",
    "                       return_sequences=True, \n",
    "                       use_bias=True))\n",
    "        \n",
    "        # add a 10% dropout rate to help with overfitting\n",
    "        #model.add(Dropout(0.1))\n",
    "\n",
    "        # add a dense layer as the output layer using bias\n",
    "        model.add(Dense(1, \n",
    "                        activation='tanh', \n",
    "                        use_bias=True))\n",
    "        \n",
    "        # append the individual to the population \n",
    "        network_population.append(model)\n",
    "    return network_population"
   ]
  },
  {
   "cell_type": "markdown",
   "metadata": {},
   "source": [
    "### IV: Grading the population:\n",
    "\n",
    "The grading function is used to grade the fitness scores of the networks in order to sort the fittest networks from the weakest. For each individual in the population a prediction will be made using the individual network and scored using mean squared error. The networks will then be sorted using argsort. Finally the networks will be split into the nth fittest and weakest models. \n",
    "\n",
    "\"\"\" text is not updated because i have been changing the algorithm a lot trying to get it to work\"\"\""
   ]
  },
  {
   "cell_type": "code",
   "execution_count": 7,
   "metadata": {},
   "outputs": [],
   "source": [
    "def grade(pop, inputs, labels, split):\n",
    "    # mse_vec stores the mean squared error score for each network in the population\n",
    "    fitness = []\n",
    "    for i in pop:\n",
    "        # make a prediction with each individual\n",
    "        y_pred = i.predict(inputs)\n",
    "        # calculate mean squared error\n",
    "        m_s_e = mse(y_pred, labels)\n",
    "        # keep track of epochs\n",
    "        fitness_score = 0\n",
    "        y = []\n",
    "        for layer in y_pred:\n",
    "            for output in layer:\n",
    "                if (output >= 0.5) or (output <= -0.5):\n",
    "                    fitness_score += 1\n",
    "        fitness.append((fitness_score, i))\n",
    "\n",
    "    #fitness.sort(key=lambda tup:(-tup[0],tup[1]))\n",
    "    fitness.sort(key=lambda x: x[0], reverse=True)\n",
    "    graded_population = [individual[1] for individual in fitness]\n",
    "    # set split to allow for various splits\n",
    "    fittest = graded_population[:split]\n",
    "    weakest = graded_population[split:]\n",
    "\n",
    "    # separate the fittest networks from the weakest.\n",
    "    fittest_models = []\n",
    "    weakest_models = []\n",
    "    for model in range(len(fittest)):\n",
    "        fittest_models.append(pop[model])\n",
    "    for model in range(len(weakest)):\n",
    "        weakest_models.append(pop[model])\n",
    "    return [fittest_models, weakest_models]"
   ]
  },
  {
   "cell_type": "markdown",
   "metadata": {},
   "source": [
    "### V: Crossover and Mutate\n",
    "\n",
    "In natural reproduction genes are passed on from parents to offspring. The crossover function is used to simulate this natural function. The fittest models will be bred, or crossed over to the weakest models, elimating some of the weaker genes with stronger genes. First the weights are retreived from the model being tested. Then a random bernoulli distribution will be generated at a predesignated rate. Next, the weights from the fittest individual, based on the position of 1's in the bernoulli distribution, will replace the weights in the weakest individual at the same position. Finally the new weights will be set and the crossover will have been completed."
   ]
  },
  {
   "cell_type": "code",
   "execution_count": 8,
   "metadata": {},
   "outputs": [],
   "source": [
    "def crossover(fittest, weakest, rate):\n",
    "    # get weights\n",
    "    fittest_weights = fittest.get_weights()\n",
    "    weakest_weights = weakest.get_weights()\n",
    "\n",
    "    # crossover the weights from the fittest networks to the weakest\n",
    "    counter = 0\n",
    "    for layer in weakest_weights:\n",
    "        select_weights = bernoulli.rvs(p=rate, \n",
    "                                       size=layer.shape)\n",
    "        fit_weights = fittest_weights[counter]\n",
    "        layer[select_weights==1] = fit_weights[select_weights==1] * select_weights[select_weights==1]\n",
    "    # set the new weights\n",
    "    weakest.set_weights(weakest_weights)\n"
   ]
  },
  {
   "cell_type": "markdown",
   "metadata": {},
   "source": [
    "Mutations naturally occur in the wild. They can be benficial or detrimental. There are some mutations that can cause immunity to certain diseases, and there are some mutations that cause diseases. The mutate function will be used to add some variation to the previous networks by randomly selecting weights from the individuals based on a bernoulli distribution and summing them with value from a generated gaussian distribution."
   ]
  },
  {
   "cell_type": "code",
   "execution_count": 9,
   "metadata": {},
   "outputs": [],
   "source": [
    "def mutate(network, rate):\n",
    "    # get weights of the fittest and weakest networks\n",
    "\n",
    "    weights = network.get_weights()\n",
    "\n",
    "    # add a random value from a gaussian distributions to the previous weights\n",
    "    for layer in weights:\n",
    "        select_weights = bernoulli.rvs(p=rate, size=layer.shape)\n",
    "        random_numbers = np.random.normal(0, 1, layer.shape)\n",
    "        layer[select_weights==1] = random_numbers[select_weights==1] + layer[select_weights==1]\n",
    "\n",
    "    # set the new weights\n",
    "    network.set_weights(weights)\n"
   ]
  },
  {
   "cell_type": "markdown",
   "metadata": {},
   "source": [
    "### VI Breeding\n",
    "\n",
    "The breeding process is where everything starts to come to life. The crossover will be performed creating new child networks that will then be mutated. After they have been crossed over and mutated the population will be created using the new children."
   ]
  },
  {
   "cell_type": "code",
   "execution_count": 10,
   "metadata": {},
   "outputs": [],
   "source": [
    "def breed(fittest, weakest, rate):\n",
    "    for weakest_model in weakest:\n",
    "        weakest_model = np.random.choice(fittest)\n",
    "\n",
    "    network_pop = fittest + weakest\n",
    "    for network in network_pop:\n",
    "        # add or subtract weight from a gaussian distribution\n",
    "        mutate(network, rate)    \n",
    "    return network_pop"
   ]
  },
  {
   "cell_type": "markdown",
   "metadata": {},
   "source": [
    "### VII: Evolve\n",
    "\n",
    "Tying all of the stages together brings us to the evolution of the population. The training data will be imported and normalized. After the data is preprocessed it will be split into a training and testing set, with 30% being reserved for testing. During the first run the population of networks will be created to represent the individuals, and the model will allow for the variation of mutation and population split rates every 10 epochs. For 150 epochs the data will be passed into the grading function and the breeding function setting a new child population and tested against the test data. If the individual has a greater MSE than the previous run it will be added to the fittest population to be cycled back into the population. A list will also be created to graph the MSE across epochs. "
   ]
  },
  {
   "cell_type": "code",
   "execution_count": 11,
   "metadata": {
    "scrolled": true
   },
   "outputs": [
    {
     "name": "stdout",
     "output_type": "stream",
     "text": [
      "Total time to run: 0.028275617758433024 Top test MSE: 0.8654529720957096\n"
     ]
    },
    {
     "data": {
      "image/png": "[encoded data removed]",
      "text/plain": [
       "<matplotlib.figure.Figure at 0x1a30ec1400>"
      ]
     },
     "metadata": {},
     "output_type": "display_data"
    }
   ],
   "source": [
    "# set the network population to the original generated network population\n",
    "network_population = []\n",
    "graph_mse = []\n",
    "mutate_rate = []\n",
    "split_rate = []\n",
    "fittest_population = {}\n",
    "previous_mse = []\n",
    "random_state = np.random.choice(np.arange(5, 40, 1))\n",
    "total_time_start = time.time()\n",
    "for run in range(1):\n",
    "    start_run_time = time.time()\n",
    "\n",
    "    # set mutation rate to 50% and split rate to the 10th index\n",
    "    rate = 0.5\n",
    "    split = 10\n",
    "    # create the data shuffling it each run.\n",
    "    comparison, similarity_array = create_dna_array(dna_basepairs[:150000], \n",
    "                                                    dna_basepairs[5000:155000], 50)\n",
    "    \n",
    "    comparison = keras.utils.normalize(comparison, axis=1, order=2)\n",
    "    X_train, X_test, y_train, y_test = train_test_split(comparison, \n",
    "                                                        similarity_array, \n",
    "                                                        test_size=0.30, \n",
    "                                                        random_state=random_state)\n",
    "    \n",
    "    # create the initial population\n",
    "    if run == 0:\n",
    "        network_population = create_population(comparison, 30)\n",
    "        #view the various lengths of the split data.\n",
    "        print('Train length:', len(X_train), '\\n', 'Test length:', len(X_test))\n",
    "    else:\n",
    "        pass\n",
    "    \n",
    "    # run 150 epochs\n",
    "    for epoch in range(3):\n",
    "        start_epoch_time = time.time()\n",
    "        # grade the network population, breed it, and set the network population\n",
    "        # to the new offspring\n",
    "        grade_network = grade(network_population, X_train, y_train, split)\n",
    "        breed_networks = breed(grade_network[0], grade_network[1], rate)\n",
    "        network_population = breed_networks\n",
    "        \n",
    "        # add the top individuals score on the test data to a list for each epoch to be plotted\n",
    "        y_pred = network_population[0].predict(X_test)\n",
    "        m_s_e = mse(y_test, y_pred)\n",
    "        \n",
    "        # add MSE and individuals to dictionary for sorting\n",
    "        if epoch == 0:\n",
    "            fittest_population[m_s_e] = network_population[0]\n",
    "            previous_mse = m_s_e\n",
    "        elif m_s_e < previous_mse and epoch != 0:\n",
    "            fittest_population[m_s_e] = network_population[0]\n",
    "            previous_mse = m_s_e\n",
    "        else:\n",
    "            pass\n",
    "        # sort the fittest individuals in reverse so when it is added to the population \n",
    "        # it is added in order\n",
    "        fittest_population = OrderedDict(sorted(fittest_population.items(), \n",
    "                                                key=lambda t: t[0], \n",
    "                                                reverse=True))\n",
    "        \n",
    "        #insert the top population into the network population\n",
    "        for individual in fittest_population.values():\n",
    "            network_population.insert(0, individual)\n",
    "            \n",
    "        #reset the network population to the top 30 networks\n",
    "        network_population = network_population[:29]\n",
    "\n",
    "        # append mse score for graphing\n",
    "        graph_mse.append(m_s_e)\n",
    "        clear_output()\n",
    "        \n",
    "        # for the first run and every 10th epoch select a random mutation and split rate\n",
    "        if run == 0 and epoch % 10 == 0:\n",
    "            rate = np.random.choice(np.arange(0.1, 0.9, .1))\n",
    "            split = np.random.choice(np.arange(5, 10, 1))\n",
    "            mutate_rate.append(rate)\n",
    "            split_rate.append(split)\n",
    "        stop_epoch_time = time.time()\n",
    "        epoch_duration = stop_epoch_time-start_epoch_time\n",
    "        print('Run:', run + 1, \n",
    "              'Epoch:', epoch + 1, \n",
    "              'Time:', epoch_duration, \n",
    "              'Mean Squared Error:', m_s_e)\n",
    "        # update the graph of MSE's for each epoch\n",
    "        plt.plot(graph_mse)\n",
    "        plt.title('Mean Squared Error')\n",
    "        plt.xlabel('Epochs')\n",
    "        plt.ylabel('MSE')\n",
    "        plt.show()\n",
    "\n",
    "    stop_run_time = time.time()\n",
    "    run_duration = stop_run_time-start_run_time\n",
    "    clear_output()\n",
    "    print(\"Completed {} run(s):\".format(run + 1), 'Time:', run_duration)\n",
    "    \n",
    "# At the end of running make sure the fittest individuals are in the top of the population\n",
    "for individual in fittest_population.values():\n",
    "            network_population.insert(0, individual)\n",
    "\n",
    "y_pred = network_population[0].predict(X_test)\n",
    "top_test = mse(y_test, y_pred)\n",
    "clear_output()\n",
    "total_time_end = time.time()\n",
    "total_time = total_time_end-total_time_start\n",
    "print('Total time to run:', (total_time / 60) / 60, 'Top test MSE:', previous_mse )\n",
    "\n",
    "# graph the Mean Squared error of the top networks through each epoch.\n",
    "plt.plot(graph_mse)\n",
    "plt.title('Mean Squared Error')\n",
    "plt.xlabel('Epochs')\n",
    "plt.ylabel('MSE')\n",
    "plt.show()\n"
   ]
  },
  {
   "cell_type": "markdown",
   "metadata": {},
   "source": [
    "\"\" Some text about how the graph looks and how the network performed \"\" \n",
    "\n",
    "The output of the best individual will be visualized for analysis. The graph should show a -9 output for disimilar basepair comparisons and 9 for similar comparisons."
   ]
  },
  {
   "cell_type": "code",
   "execution_count": 12,
   "metadata": {},
   "outputs": [
    {
     "name": "stdout",
     "output_type": "stream",
     "text": [
      "0.16405155\n",
      "Mean Squared Error: 0.8984645619840549\n"
     ]
    },
    {
     "data": {
      "image/png": "[encoded data removed]",
      "text/plain": [
       "<matplotlib.figure.Figure at 0x10b29f710>"
      ]
     },
     "metadata": {},
     "output_type": "display_data"
    }
   ],
   "source": [
    "# run the best network on the test data to test for consistency.\n",
    "y_pred = network_population[0].predict(X_test)\n",
    "m_s_e = mse(y_test, y_pred)\n",
    "\n",
    "print(y_pred.mean())\n",
    "print('Mean Squared Error:', m_s_e)\n",
    "\n",
    "# graph the output similarity of the top network.\n",
    "plt.figure(figsize=(20,2))\n",
    "plt.plot(y_pred.reshape(y_pred.shape[0]*y_pred.shape[1], 1))\n",
    "plt.title('Similarity Output')\n",
    "plt.xlabel('Similarity')\n",
    "plt.ylabel('Basepairs')\n",
    "plt.show()"
   ]
  },
  {
   "cell_type": "markdown",
   "metadata": {},
   "source": [
    "\"\"\" text reflecting the networks performance \"\"\"\n",
    "\n",
    "### VIII: Creating sequences for testing.\n",
    "\n",
    "In order to further test the network a function will be implemented to create sequences with a specified rate of similarity. Four sequences will then be created for testing. The first sequence will be completely the same. The function will match up basepairs at a rate of 100%. After that a sequence will be created to reflect a 33% rate of similarity. Next up is a sequence that's 66% similar. The final sequence will be completely different with a similarity of 0%."
   ]
  },
  {
   "cell_type": "code",
   "execution_count": 13,
   "metadata": {},
   "outputs": [],
   "source": [
    "def create_sequences(size, difference):\n",
    "    sequence_one = []\n",
    "    sequence_two = []\n",
    "    # create same sequences\n",
    "    if  difference == 0:       \n",
    "        for x in range(size):\n",
    "            basepairs = ['A', 'T', 'G', 'C']\n",
    "            choice = np.random.choice(basepairs)\n",
    "            sequence_one.append(choice)\n",
    "            sequence_two.append(choice)\n",
    "        sequence_one = str(''.join(sequence_one))\n",
    "        sequence_two = str(''.join(sequence_two))\n",
    "        \n",
    "    # create completely different sequences\n",
    "    elif difference == 100:\n",
    "        for x in range(size):\n",
    "            basepairs = ['A', 'T', 'G', 'C']\n",
    "            choice = np.random.choice(basepairs, p=[.27, .40, .10, .23])\n",
    "            sequence_one.append(np.random.choice(basepairs))\n",
    "\n",
    "            basepairs.remove(sequence_one[x]) \n",
    "            sequence_two.append(np.random.choice(basepairs, p=[.23, .33, .44]))\n",
    "        sequence_one = str(''.join(sequence_one))\n",
    "        sequence_two = str(''.join(sequence_two))\n",
    "        \n",
    "    # create sequences with certain similarity.\n",
    "    else:\n",
    "        split = int(round(size / difference))\n",
    "        for x in range(split):\n",
    "            basepairs = ['A', 'T', 'G', 'C']\n",
    "            choice = np.random.choice(basepairs)\n",
    "            sequence_one.append(choice)\n",
    "            sequence_two.append(choice)\n",
    "            \n",
    "        for x in range(split, size):\n",
    "            basepairs = ['A', 'T', 'G', 'C']\n",
    "            choice = np.random.choice(basepairs)\n",
    "            sequence_one.append(np.random.choice(basepairs, p=[.32, .28, .17, .23]))\n",
    "\n",
    "            basepairs.remove(sequence_one[x])\n",
    "            sequence_two.append(np.random.choice(basepairs, p=[.33, .33, .34]))\n",
    "        \n",
    "        sequence_one = str(''.join(sequence_one))\n",
    "        sequence_two = str(''.join(sequence_two))\n",
    "\n",
    "    return sequence_one, sequence_two\n",
    "\n",
    "# The same\n",
    "simliarity_100, labels_100 = create_sequences(100000, 0)\n",
    "# 33% the same\n",
    "simliarity_33, labels_33 = create_sequences(100000, 33)\n",
    "# 66% the same\n",
    "simliarity_66, labels_66 = create_sequences(100000, 66)\n",
    "# completely different\n",
    "simliarity_0, labels_0 = create_sequences(100000, 100)"
   ]
  },
  {
   "cell_type": "markdown",
   "metadata": {},
   "source": [
    "### IX: Processing the data for testing\n",
    "\n",
    "The newly created data will be passed into the create_dna_array function which will vectorize the sequences, shuffle them and mark the similar and disimilar basepairs. The inputs and outputs will be saved in lists for easy access."
   ]
  },
  {
   "cell_type": "code",
   "execution_count": 14,
   "metadata": {
    "scrolled": true
   },
   "outputs": [],
   "source": [
    "# create the test sequence comparisons\n",
    "compare_same, same_labels = create_dna_array(simliarity_100, labels_100, 50)\n",
    "compare_third, third_labels = create_dna_array(simliarity_33, labels_33, 50)\n",
    "compare_two_thirds, two_thirds_labels = create_dna_array(simliarity_66, labels_66, 50)\n",
    "compare_different, no_similarity_labels = create_dna_array(simliarity_0, labels_0, 50)\n",
    "\n",
    "# add all the comparison arrays together\n",
    "comparison_tests = [compare_same, \n",
    "                    compare_third, \n",
    "                    compare_two_thirds, \n",
    "                    compare_different]\n",
    "\n",
    "# add the labels together\n",
    "similarity_tests = [same_labels, \n",
    "                    third_labels, \n",
    "                    two_thirds_labels, \n",
    "                    no_similarity_labels]"
   ]
  },
  {
   "cell_type": "markdown",
   "metadata": {},
   "source": [
    "Now that the data has been successfully cleaned, processed and sorted, the data will be passed into the created function to graph basepair comparisons, to visualize the distribution of basepairs being compared."
   ]
  },
  {
   "cell_type": "code",
   "execution_count": 15,
   "metadata": {},
   "outputs": [
    {
     "data": {
      "image/png": "[encoded data removed]",
      "text/plain": [
       "<matplotlib.figure.Figure at 0x1a311ee0b8>"
      ]
     },
     "metadata": {},
     "output_type": "display_data"
    }
   ],
   "source": [
    "# plot the amount of each basepair in each sequence\n",
    "fig, ((ax1, ax2), (ax3, ax4)) = plt.subplots(2, 2, sharex=True, sharey=True,figsize=(12,5))\n",
    "basepair_graph_comparison(simliarity_100, labels_100, .8, ax1)\n",
    "basepair_graph_comparison(simliarity_33, labels_33, .8, ax2)\n",
    "basepair_graph_comparison(simliarity_66.upper(), labels_66.upper(), .8, ax3)\n",
    "basepair_graph_comparison(simliarity_0.upper(), labels_0.upper(), .8, ax4)\n",
    "# set the title\n",
    "fig.text(.51, .93, 'Count of Basepairs', ha='center', va='center')\n",
    "# set x label\n",
    "fig.text(0.51, 0.04, 'Basepairs', ha='center', va='center')\n",
    "# set y label\n",
    "fig.text(0.01, 0.5, 'Count', ha='center', va='center', rotation='vertical')\n",
    "plt.show()"
   ]
  },
  {
   "cell_type": "markdown",
   "metadata": {},
   "source": [
    "There are multiple different distributions which will present a challenge for the network to process.\n",
    "\n",
    "### X: Test the fittest individual:\n",
    "\n",
    "The top performing network will now be tested against all of the created sequences. The mean squared error which will act as the similarity will be calculated and printed, as well as the output average from the network. The similarity will be plotted. If the model is fitting well then there shouldn't be much variation in the graph."
   ]
  },
  {
   "cell_type": "code",
   "execution_count": 16,
   "metadata": {},
   "outputs": [
    {
     "data": {
      "image/png": "[encoded data removed]",
      "text/plain": [
       "<matplotlib.figure.Figure at 0x1a31052dd8>"
      ]
     },
     "metadata": {},
     "output_type": "display_data"
    }
   ],
   "source": [
    "graph_output = []\n",
    "graph_mse = []\n",
    "# run the best network on the test data to test for consistency.\n",
    "for x in range(4):\n",
    "    y_pred = network_population[0].predict(comparison_tests[x])\n",
    "    m_s_e = mse(similarity_tests[x], y_pred)\n",
    "    graph_output.append(y_pred)\n",
    "    graph_mse.append(m_s_e)\n",
    "\n",
    "    \n",
    "#graph the mean squared error of the output on the test data\n",
    "plt.bar(range(len(graph_mse)), graph_mse, width=0.8, align='edge')\n",
    "plt.title('Mean Squared Error')\n",
    "plt.xlabel('Datasets')\n",
    "plt.ylabel('MSE')\n",
    "plt.xticks(np.arange(4) + 0.4, ('100% Similar', '33% Similar', '66% Similar', '0% Similar'))\n",
    "plt.show()"
   ]
  },
  {
   "cell_type": "markdown",
   "metadata": {},
   "source": [
    "\"\" some text on how the graph looks\"\"\n",
    "\n",
    "Finally, the ouput similarity will be graphed and examined for each set of test data. The output should reflect what is known about the data. The first set is completely the same, followed by 33% and 66 % the same, ending with sequences that are 100% disimilar."
   ]
  },
  {
   "cell_type": "code",
   "execution_count": 17,
   "metadata": {},
   "outputs": [
    {
     "data": {
      "image/png": "[encoded data removed]",
      "text/plain": [
       "<matplotlib.figure.Figure at 0x113de4978>"
      ]
     },
     "metadata": {},
     "output_type": "display_data"
    },
    {
     "data": {
      "image/png": "[encoded data removed]",
      "text/plain": [
       "<matplotlib.figure.Figure at 0x1a308496d8>"
      ]
     },
     "metadata": {},
     "output_type": "display_data"
    },
    {
     "data": {
      "image/png": "[encoded data removed]",
      "text/plain": [
       "<matplotlib.figure.Figure at 0x1a307ff710>"
      ]
     },
     "metadata": {},
     "output_type": "display_data"
    },
    {
     "data": {
      "image/png": "[encoded data removed]",
      "text/plain": [
       "<matplotlib.figure.Figure at 0x1a306f45c0>"
      ]
     },
     "metadata": {},
     "output_type": "display_data"
    }
   ],
   "source": [
    "# plot the outputs for all of the networks\n",
    "for x in graph_output:\n",
    "    x = x.reshape(x.shape[0] * x.shape[1], 1)\n",
    "    plt.figure(figsize=(20,2))\n",
    "    plt.plot(x)\n",
    "    plt.title('Similarity Output')\n",
    "    plt.xlabel('Similarity')\n",
    "    plt.ylabel('Basepairs')\n",
    "    plt.show()"
   ]
  },
  {
   "cell_type": "markdown",
   "metadata": {},
   "source": [
    "\"\" analysis of the graph \"\"\n",
    "\n",
    "### XI: Importing Validation Data:\n",
    "\n",
    "In order to validate the data, gene LOCUS NT_187301 will be passed into the top individual. The sequence is previously unseen and will be a great real world example to determine how the model is performing.\n",
    "\n",
    "First the sequence will be imported from a text file as a string. The string will be cleaned using regex as before, removing the numbers, newlines and whitespaces.\n",
    "\n",
    "The resulting basepairs will then be plotted in a bar graph to examine the distribution of basepairs."
   ]
  },
  {
   "cell_type": "code",
   "execution_count": 18,
   "metadata": {},
   "outputs": [
    {
     "name": "stdout",
     "output_type": "stream",
     "text": [
      "Counter({'T': 56911, 'A': 53804, 'G': 34016, 'C': 32581})\n"
     ]
    },
    {
     "data": {
      "image/png": "[encoded data removed]",
      "text/plain": [
       "<matplotlib.figure.Figure at 0x1a3076fd68>"
      ]
     },
     "metadata": {},
     "output_type": "display_data"
    }
   ],
   "source": [
    "with open('dna2.txt', 'r') as myfile:\n",
    "  validate_basepairs = myfile.read()\n",
    "validate_basepairs = re.sub(r'[0-9]([0-9])?([0-9])?([0-9])?([0-9])?([0-9])?', '', validate_basepairs)\n",
    "validate_basepairs = re.sub(r'\\n', '', validate_basepairs)\n",
    "validate_basepairs = re.sub(r'\\s+', '', validate_basepairs).strip().upper()\n",
    "\n",
    "validate_comparison, validate_similarity_array = create_dna_array(validate_basepairs[:170000], validate_basepairs[5000:175000], 50)\n",
    "\n",
    "basepair_graph(validate_basepairs.upper())"
   ]
  },
  {
   "cell_type": "markdown",
   "metadata": {},
   "source": [
    "The distribution of basepairs hasn't been seen yet and will work great for validating the top individual.\n",
    "\n",
    "### XII: Process and validate top individual:\n",
    "\n",
    "The gene will now be processed and converted to an array and have its similarity calculated. The output of the top individual will be graphed below"
   ]
  },
  {
   "cell_type": "code",
   "execution_count": 19,
   "metadata": {},
   "outputs": [
    {
     "name": "stdout",
     "output_type": "stream",
     "text": [
      "Output average: 0.012561743\n",
      "Mean Squared Error: 0.898676091626376 \n",
      "\n"
     ]
    },
    {
     "data": {
      "image/png": "[encoded data removed]",
      "text/plain": [
       "<matplotlib.figure.Figure at 0x1a2f8cd8d0>"
      ]
     },
     "metadata": {},
     "output_type": "display_data"
    }
   ],
   "source": [
    "validate_comparison, validate_similarity_array = create_dna_array(validate_basepairs[:170000], validate_basepairs[5000:175000], 50)\n",
    "\n",
    "y_pred = network_population[0].predict(validate_comparison)\n",
    "m_s_e = mse(validate_similarity_array, y_pred)\n",
    "\n",
    "print('Output average:', y_pred.mean())\n",
    "print('Mean Squared Error:', m_s_e, '\\n')\n",
    "\n",
    "# plot the outputs for all of the networks\n",
    "y_pred = y_pred.reshape(y_pred.shape[0] * y_pred.shape[1], 1)\n",
    "plt.figure(figsize=(20,2))\n",
    "plt.plot(y_pred)\n",
    "plt.title('Similarity Output')\n",
    "plt.xlabel('Basepairs')\n",
    "plt.ylabel('Output')\n",
    "plt.show()"
   ]
  },
  {
   "cell_type": "markdown",
   "metadata": {},
   "source": [
    "\"\" some text on how the graph looks\"\"\n",
    "\n",
    "\n",
    "### XIII: Discussion and Conclusion:\n"
   ]
  },
  {
   "cell_type": "code",
   "execution_count": null,
   "metadata": {},
   "outputs": [],
   "source": []
  },
  {
   "cell_type": "code",
   "execution_count": null,
   "metadata": {},
   "outputs": [],
   "source": []
  }
 ],
 "metadata": {
  "kernelspec": {
   "display_name": "Python 3",
   "language": "python",
   "name": "python3"
  },
  "language_info": {
   "codemirror_mode": {
    "name": "ipython",
    "version": 3
   },
   "file_extension": ".py",
   "mimetype": "text/x-python",
   "name": "python",
   "nbconvert_exporter": "python",
   "pygments_lexer": "ipython3",
   "version": "3.6.4"
  }
 },
 "nbformat": 4,
 "nbformat_minor": 2
}
