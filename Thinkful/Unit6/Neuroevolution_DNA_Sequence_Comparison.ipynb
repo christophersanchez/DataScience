{
 "cells": [
  {
   "cell_type": "markdown",
   "metadata": {},
   "source": [
    "# DNA Sequence Comparison\n",
    "__October, 2018 - Christopher Sanchez__ \n",
    "\n",
    "A neuroevolution model will be created in order to compare DNA sequences. A genetic algorithm will be used to train a recurrent neural network to best determine similarity between sequences. The genetic algorith will be utilized to determine the best weighting of the networks.\n",
    "\n",
    "Deoxyribonucleic acid, or DNA is a double helix shaped structure consisting of a chain of nucleotides known as basepairs that act like a blueprint, providing a list of instructions for your body to create proteins. There are four distinct bases A, T, C and G. A always bonds with T and C always bonds with G. A wide variety of information can be gained from DNA analysis. It is possible to determine gender, disease susceptibility, familial ties, DNA is responsible for solving countless amounts of crime, and more! There are multiple sequencing techniques out there, but not all are great for error. I was inspired by this paper: https://www.cse.unr.edu/~cheung/neorgene.pdf, to attempt improving the dna sequencing techniques that are used today. There will be two genes used today one for training which is LOCUS NT_187300, and is 156,246 base pairs long. The other gene that will be used for testing is LOCUS NT_187301 and is 177,312 basepairs long. A LSTM RNN is perfect for the task, because it works well with error. A human genome consists of six billion basepairs mistakes are going to be made. It isn't uncommon for a basepair to get switched around. It is important to use a technique that can operate quickly and accurately. \n",
    "\n",
    "Genetic algorithms work by immitating Darwin's survival of the fittest theory. The survival of the fittest theory suggests that natural selection selects the best individuals and discards the weakest, thereby passing on only the strognest genes. Each sample is considered an individual. A population is all of the individuals together. A fitness score is used to determine how fit or weak an individual is. The best parents are used to breed and create individuals with characteristics of the parents. A mutation can be added to further improve on results. Finally evolution takes place combining all of the steps together to create the best offspring possible.\n",
    "\n",
    "Combining recurrent neural networks and a genetic algorithm is a quite interesting way to train the network. First the dna sequence must be cleaned and processed in order to be passed into the neural network. Once the sequence is processed and split into individuals the genetic algorithm will pass the individuals into the neural network using mean squared error as the fitness score in order to provide a grade to each network. Then the data will be bred and mutated in order to produce offspring and cause evolution."
   ]
  },
  {
   "cell_type": "code",
   "execution_count": 1,
   "metadata": {},
   "outputs": [
    {
     "name": "stderr",
     "output_type": "stream",
     "text": [
      "/Users/c/anaconda3/lib/python3.6/site-packages/h5py/__init__.py:36: FutureWarning: Conversion of the second argument of issubdtype from `float` to `np.floating` is deprecated. In future, it will be treated as `np.float64 == np.dtype(float).type`.\n",
      "  from ._conv import register_converters as _register_converters\n",
      "Using TensorFlow backend.\n",
      "/Users/c/anaconda3/lib/python3.6/importlib/_bootstrap.py:219: RuntimeWarning: compiletime version 3.5 of module 'tensorflow.python.framework.fast_tensor_util' does not match runtime version 3.6\n",
      "  return f(*args, **kwds)\n"
     ]
    }
   ],
   "source": [
    "import numpy as np\n",
    "import pandas as pd\n",
    "import re\n",
    "from numpy import argmax, array\n",
    "from collections import Counter\n",
    "import matplotlib.pyplot as plt\n",
    "import keras\n",
    "import tensorflow\n",
    "# Import various componenets for model building\n",
    "from keras.models import Sequential, Model\n",
    "from keras.layers import Dense, Dropout, LSTM, Input, TimeDistributed, SimpleRNN\n",
    "from sklearn.model_selection import train_test_split, cross_val_score\n",
    "from sklearn.metrics import mean_squared_error\n",
    "from scipy.stats import bernoulli\n",
    "# Import the backend\n",
    "from keras import backend as K\n",
    "from keras.preprocessing.sequence import pad_sequences\n"
   ]
  },
  {
   "cell_type": "code",
   "execution_count": 2,
   "metadata": {},
   "outputs": [],
   "source": [
    "def total_similarity(similarity):\n",
    "    unique, counts = np.unique(similarity, return_counts=True)\n",
    "    total_similarity = dict(zip(unique, counts))\n",
    "    total_similarity = total_similarity[True] / (total_similarity[False] + total_similarity[True])\n",
    "    return total_similarity"
   ]
  },
  {
   "cell_type": "code",
   "execution_count": 3,
   "metadata": {},
   "outputs": [],
   "source": [
    "def mse(y_true, y_pred):\n",
    "    y_true = y_true.reshape(y_true.shape[0], y_true.shape[1])\n",
    "    y_pred = y_pred.reshape(y_pred.shape[0], y_pred.shape[1])\n",
    "    mse = mean_squared_error(y_true, y_pred)\n",
    "    return mse"
   ]
  },
  {
   "cell_type": "code",
   "execution_count": 4,
   "metadata": {},
   "outputs": [],
   "source": [
    "def basepair_graph(data):\n",
    "    character_count = Counter(data)\n",
    "\n",
    "    labels, values = zip(*character_count.items())\n",
    "\n",
    "    indexes = np.arange(len(labels))\n",
    "    width = .8\n",
    "\n",
    "    plt.bar(indexes, values, width)\n",
    "    plt.xticks(indexes + width * 0, labels)\n",
    "    plt.title('Count of Basepairs')\n",
    "    plt.xlabel('Basepairs')\n",
    "    plt.ylabel('Count')\n",
    "    plt.show()\n",
    "\n",
    "def basepair_graph_comparison(sequence_one, sequence_two, width):\n",
    "    sequence_one_count = Counter(sequence_one)\n",
    "    sequence_two_count = Counter(sequence_two)\n",
    "\n",
    "    labels_one, values_one = zip(*sequence_one_count.items())\n",
    "    labels_two, values_two = zip(*sequence_two_count.items())\n",
    "\n",
    "    indexes = np.arange(len(labels_one))\n",
    "\n",
    "    plt.bar(indexes, values_one, width);\n",
    "    plt.bar(indexes, values_two, width * .5);\n",
    "\n",
    "    plt.xticks(indexes + width * 0, labels_one)\n",
    "    plt.title('Count of Basepairs')\n",
    "    plt.xlabel('Basepairs')\n",
    "    plt.ylabel('Count')\n",
    "    plt.show()"
   ]
  },
  {
   "cell_type": "code",
   "execution_count": null,
   "metadata": {},
   "outputs": [],
   "source": []
  },
  {
   "cell_type": "markdown",
   "metadata": {},
   "source": [
    "### I: Importing and analyzing data\n",
    "The dna sequences contain numbers labeling the lines, multiple new lines and some whitespaces. The sequence is cleaned, and then a bar graph is used to show the distribution of the individual basepairs."
   ]
  },
  {
   "cell_type": "code",
   "execution_count": 5,
   "metadata": {},
   "outputs": [],
   "source": [
    "with open('dna.txt', 'r') as myfile:\n",
    "  dna = myfile.read()\n",
    "dna_basepairs = dna\n",
    "dna_basepairs = re.sub(r'[0-9]([0-9])?([0-9])?([0-9])?([0-9])?([0-9])?', '', dna_basepairs)\n",
    "dna_basepairs = re.sub(r'\\n', '', dna_basepairs)\n",
    "dna_basepairs = re.sub(r'\\s+', '', dna_basepairs).strip()"
   ]
  },
  {
   "cell_type": "code",
   "execution_count": 6,
   "metadata": {},
   "outputs": [
    {
     "data": {
      "image/png": "[encoded data removed]",
      "text/plain": [
       "<matplotlib.figure.Figure at 0x10e938f98>"
      ]
     },
     "metadata": {},
     "output_type": "display_data"
    }
   ],
   "source": [
    "basepair_graph(dna_basepairs)"
   ]
  },
  {
   "cell_type": "markdown",
   "metadata": {},
   "source": [
    "The amount of basepairs are pretty close. C's and G's have the most, with T having the least. \n",
    "\n",
    "### II: Processing the Dna Sequence into an array and determining similarity\n",
    "\n",
    "The two sequences that need to be compared, and the split size are passed into the create_dna_array function. The amount of timesteps and samples are calculated in order to properly reshape the data to be passed into the neural networks. An array of zeroes is created to provide an array to be manipulated and allow for vectorization of the base pairs. The basepairs will be vectorized and combined in order to be tested for similarity. Finally a similarity score will be awarded to each pair of individuals. "
   ]
  },
  {
   "cell_type": "code",
   "execution_count": 7,
   "metadata": {},
   "outputs": [],
   "source": [
    "def create_dna_array(sequence_one, sequence_two, timesteps):\n",
    "\n",
    "    # timesteps and samples to determine reshape size\n",
    "    timesteps = timesteps\n",
    "    samples = int(len(sequence_one) / timesteps)\n",
    "    \n",
    "    # Create an array of zeros to be manipulated\n",
    "    array = np.zeros((len(sequence_one),8))\n",
    "    \n",
    "    # mutating the array to effectively vectorize the basepairs.\n",
    "    vectorize_sequence = {'a': 1, 't': 2, 'g': 3, 'c': 4}\n",
    "\n",
    "    for base in range(len(sequence_one)):\n",
    "        base_one = sequence_one[base]\n",
    "        base_two = sequence_two[base]\n",
    "        array[base, vectorize_sequence[base_one]] = 1\n",
    "        array[base, vectorize_sequence[base_two] + 3] = 1\n",
    "    # determine whether sequences are similar or not\n",
    "    similarity_array = np.zeros((len(array),1))\n",
    "    similarity_array = np.asarray([similarity_array[i] == 1 \n",
    "                                   if np.equal(array[i, :4], array[i, 4:]).all() \n",
    "                                   else similarity_array[i] == 0 \n",
    "                                   for i in range(len(array))])\n",
    "    \n",
    "    similarity = total_similarity(similarity_array)\n",
    "    return np.asarray(array).reshape(samples, timesteps, 8), similarity_array.reshape(samples, timesteps, 1), similarity"
   ]
  },
  {
   "cell_type": "code",
   "execution_count": 8,
   "metadata": {},
   "outputs": [],
   "source": [
    "sequence_one = []\n",
    "sequence_two = []\n",
    "for x in range(100000):\n",
    "    basepairs = ['a', 't', 'g', 'c']\n",
    "    choice = np.random.choice(basepairs)\n",
    "    sequence_one.append(np.random.choice(basepairs))\n",
    "    basepairs.remove(sequence_one[x])\n",
    "    sequence_two.append(np.random.choice(basepairs))\n",
    "sequence_one = str(''.join(sequence_one))\n",
    "sequence_two = str(''.join(sequence_two))"
   ]
  },
  {
   "cell_type": "code",
   "execution_count": 9,
   "metadata": {},
   "outputs": [],
   "source": [
    "comparison, similarity_array, total_similarity = create_dna_array(sequence_one, sequence_two, 50)\n"
   ]
  },
  {
   "cell_type": "code",
   "execution_count": 10,
   "metadata": {},
   "outputs": [
    {
     "name": "stdout",
     "output_type": "stream",
     "text": [
      "(2000, 50, 8) (2000, 50, 1)\n",
      "0.74923\n"
     ]
    }
   ],
   "source": [
    "print(comparison.shape, similarity_array.shape)\n",
    "print(total_similarity)"
   ]
  },
  {
   "cell_type": "code",
   "execution_count": 11,
   "metadata": {},
   "outputs": [],
   "source": [
    "# # Creating the data\n",
    "# comparison, similarity_array, total_similarity = create_dna_array(dna_basepairs[:100000], dna_basepairs[25000:125000], 50)\n",
    "\n",
    "# print(comparison.shape, similarity_array.shape)\n",
    "# print(total_similarity)\n"
   ]
  },
  {
   "cell_type": "markdown",
   "metadata": {},
   "source": [
    "There is a population of 1500 groups of 50 individuals.\n",
    "\n",
    "### III: Creating the population of LSTM networks\n",
    "\n",
    "30 LSTM networks will be created as the population. The network consists of the layers. The input layer, an LSTM layer, and a dense layer as the output layer. A tanh function will be used which will give an output between -.9 and .9. Bias will also be used. "
   ]
  },
  {
   "cell_type": "code",
   "execution_count": 12,
   "metadata": {},
   "outputs": [],
   "source": [
    "network_population = []\n",
    "for i in range(30):\n",
    "    model = Sequential()\n",
    "    # add Long short term memory RNN and a dense layer. Compile the model\n",
    "    model.add(LSTM(10, \n",
    "                   input_shape=(comparison.shape[1],8), \n",
    "                   activation='tanh', \n",
    "                   return_sequences=True, \n",
    "                   use_bias=True))\n",
    "    model.add(Dense(1, \n",
    "                    activation='tanh', \n",
    "                    use_bias=True))\n",
    "    network_population.append(model)"
   ]
  },
  {
   "cell_type": "markdown",
   "metadata": {},
   "source": [
    "### IV: Grading the population:\n",
    "\n",
    "In order to grade the population. The grading function takes in the population of networks, makes a prediction, calculates the mean squared error of the prediction for each network passed in, and then sorts the fittest networks from the weakest, returning of list that contains the strongest and weakest networks."
   ]
  },
  {
   "cell_type": "code",
   "execution_count": 13,
   "metadata": {},
   "outputs": [],
   "source": [
    "def grade(pop):\n",
    "    # mse_vec stores the mean squared error score for each network in the population\n",
    "    mse_vec = []\n",
    "    for i in pop:\n",
    "        # calculate mean squared error\n",
    "\n",
    "        y_pred = i.predict(comparison)\n",
    "        msee = mse(similarity_array, y_pred)\n",
    "        # keep track of epochs\n",
    "        mse_vec.append(msee)\n",
    "    # convert mse_vec list to array\n",
    "    mse_vec = np.asarray(mse_vec)\n",
    "\n",
    "\n",
    "    # arg sort MSE and separate the fittest networks from the weakest.\n",
    "    sorted_mse_idx = np.argsort(mse_vec)\n",
    "    fittest_mse = sorted_mse_idx[:10]\n",
    "    weakest_mse = sorted_mse_idx[10:]\n",
    "\n",
    "    fittest_models = []\n",
    "    weakest_models = []\n",
    "\n",
    "    for model in fittest_mse:\n",
    "        fittest_models.append(network_population[model])\n",
    "    for model in weakest_mse:\n",
    "        weakest_models.append(network_population[model])\n",
    "    return [fittest_models, weakest_models]"
   ]
  },
  {
   "cell_type": "markdown",
   "metadata": {},
   "source": [
    "### V: Mutate\n",
    "\n",
    "A mutation is calculated using a gaussian distribution with a mean of zero and a standard deviation of 1. 50% of the weights from the population of networks will be mutated and passed on."
   ]
  },
  {
   "cell_type": "code",
   "execution_count": 14,
   "metadata": {},
   "outputs": [],
   "source": [
    "def mutate(fittest, weakest):\n",
    "    fittest_weights = fittest.get_weights()\n",
    "    weakest_weights = weakest.get_weights()\n",
    "    for layer in fittest_weights:\n",
    "        select_weights = bernoulli.rvs(p=0.5, size=layer.shape)\n",
    "        random_numbers = np.random.normal(0, 1, layer.shape)\n",
    "        layer[select_weights==1] = random_numbers[select_weights==1] + layer[select_weights==1]\n",
    "    for layer in weakest_weights:\n",
    "        select_weights = bernoulli.rvs(p=0.5, size=layer.shape)\n",
    "        random_numbers = np.random.normal(0, 1, layer.shape)\n",
    "        layer[select_weights==1] = random_numbers[select_weights==1] + layer[select_weights==1]\n",
    "    fittest.set_weights(fittest_weights)\n",
    "    weakest.set_weights(weakest_weights)\n"
   ]
  },
  {
   "cell_type": "markdown",
   "metadata": {},
   "source": [
    "### VI Breeding\n",
    "\n",
    "Crossover will be used to replace the weakest models with randomly selected fittest models, then be mutated, returning the new population of offspring."
   ]
  },
  {
   "cell_type": "code",
   "execution_count": 15,
   "metadata": {},
   "outputs": [],
   "source": [
    "def breed(fittest, weakest):\n",
    "    for weakest_model in weakest:\n",
    "        weakest_model = np.random.choice(fittest)\n",
    "        #choose random model to take weights from\n",
    "        fittest_model = np.random.choice(fittest)\n",
    "        #crossover weights\n",
    "        mutate(fittest_model, weakest_model)    \n",
    "        network_pop = fittest + weakest\n",
    "    return network_pop"
   ]
  },
  {
   "cell_type": "markdown",
   "metadata": {},
   "source": [
    "### VII: Evolve\n",
    "\n",
    "The genetic algorithm will be ran 30 times 150 epochs each.. First it will grade the network population, then breed the population. After the population has been bred the network population will be updated to reflect the newest networks. A graph will be presented to visualize the progress of the model."
   ]
  },
  {
   "cell_type": "code",
   "execution_count": 16,
   "metadata": {
    "scrolled": true
   },
   "outputs": [
    {
     "name": "stdout",
     "output_type": "stream",
     "text": [
      "1\n",
      "2\n",
      "3\n"
     ]
    },
    {
     "data": {
      "image/png": "[encoded data removed]",
      "text/plain": [
       "<matplotlib.figure.Figure at 0x1a291ed7f0>"
      ]
     },
     "metadata": {},
     "output_type": "display_data"
    }
   ],
   "source": [
    "# set the network population to the original generated network population\n",
    "network_population = network_population\n",
    "graph_mse = []\n",
    "counter = 0\n",
    "\n",
    "for _ in range(3):\n",
    "    # run 150 epochs\n",
    "    for _ in range(10):\n",
    "        # grade the network population and breed it\n",
    "        grade_network = grade(network_population)\n",
    "        breed_networks = breed(grade_network[0],grade_network[1])\n",
    "        # set the network population to the new offspring\n",
    "        network_population = breed_networks\n",
    "\n",
    "        # add the top network score to a list for each epoch to be plotted\n",
    "        y_pred = network_population[0].predict(comparison)\n",
    "        msee = mse(similarity_array, y_pred)\n",
    "        graph_mse.append(msee)\n",
    "    counter += 1\n",
    "    print(counter)\n",
    "\n",
    "plt.plot(graph_mse)\n",
    "plt.title('Mean Squared Error')\n",
    "plt.xlabel('x')\n",
    "plt.ylabel('y')\n",
    "plt.show()"
   ]
  },
  {
   "cell_type": "code",
   "execution_count": 17,
   "metadata": {},
   "outputs": [
    {
     "name": "stdout",
     "output_type": "stream",
     "text": [
      "0.55753005\n",
      "0.74923\n",
      "0.8570298\n"
     ]
    }
   ],
   "source": [
    "# run the best network on the test data to test for consistency.\n",
    "y_pred = network_population[0].predict(comparison)\n",
    "msee = mse(similarity_array, y_pred)\n",
    "print(y_pred.mean())\n",
    "print(total_similarity)\n",
    "print(msee)"
   ]
  },
  {
   "cell_type": "markdown",
   "metadata": {},
   "source": [
    "....\n",
    "\n",
    "### VIII: Importing test sequence\n",
    "The test DNA sequence will be passed in and cleaned and visualized as it was previously, removing the numbers, new lines, and whitespaces."
   ]
  },
  {
   "cell_type": "code",
   "execution_count": 18,
   "metadata": {},
   "outputs": [],
   "source": [
    "with open('dna2.txt', 'r') as myfile:\n",
    "  dna2 = myfile.read()\n",
    "test_basepairs = dna2\n",
    "test_basepairs = re.sub(r'[0-9]([0-9])?([0-9])?([0-9])?([0-9])?([0-9])?', '', test_basepairs)\n",
    "test_basepairs = re.sub(r'\\n', '', test_basepairs)\n",
    "test_basepairs = re.sub(r'\\s+', '', test_basepairs).strip()"
   ]
  },
  {
   "cell_type": "code",
   "execution_count": 19,
   "metadata": {},
   "outputs": [
    {
     "data": {
      "image/png": "[encoded data removed]",
      "text/plain": [
       "<matplotlib.figure.Figure at 0x1a291ed908>"
      ]
     },
     "metadata": {},
     "output_type": "display_data"
    }
   ],
   "source": [
    "basepair_graph(test_basepairs)"
   ]
  },
  {
   "cell_type": "markdown",
   "metadata": {},
   "source": [
    "### IX: Processing the data for testing\n",
    "The model will be evaluated using five different splits of the data to provide randomization. The model has yet to see any of this sequence. "
   ]
  },
  {
   "cell_type": "code",
   "execution_count": 22,
   "metadata": {},
   "outputs": [
    {
     "ename": "TypeError",
     "evalue": "'numpy.float64' object is not callable",
     "output_type": "error",
     "traceback": [
      "\u001b[0;31m---------------------------------------------------------------------------\u001b[0m",
      "\u001b[0;31mTypeError\u001b[0m                                 Traceback (most recent call last)",
      "\u001b[0;32m<ipython-input-22-6af70371b42c>\u001b[0m in \u001b[0;36m<module>\u001b[0;34m()\u001b[0m\n\u001b[0;32m----> 1\u001b[0;31m \u001b[0mtest_comparison_one\u001b[0m\u001b[0;34m,\u001b[0m \u001b[0mtest_similarity_one\u001b[0m\u001b[0;34m,\u001b[0m \u001b[0mtotal_similarity_one\u001b[0m \u001b[0;34m=\u001b[0m \u001b[0mcreate_dna_array\u001b[0m\u001b[0;34m(\u001b[0m\u001b[0mtest_basepairs\u001b[0m\u001b[0;34m[\u001b[0m\u001b[0;34m:\u001b[0m\u001b[0;36m40000\u001b[0m\u001b[0;34m]\u001b[0m\u001b[0;34m,\u001b[0m \u001b[0mtest_basepairs\u001b[0m\u001b[0;34m[\u001b[0m\u001b[0;34m:\u001b[0m\u001b[0;36m40000\u001b[0m\u001b[0;34m]\u001b[0m\u001b[0;34m,\u001b[0m \u001b[0;36m50\u001b[0m\u001b[0;34m)\u001b[0m\u001b[0;34m\u001b[0m\u001b[0m\n\u001b[0m\u001b[1;32m      2\u001b[0m \u001b[0mtest_comparison_two\u001b[0m\u001b[0;34m,\u001b[0m \u001b[0mtest_similarity_two\u001b[0m\u001b[0;34m,\u001b[0m \u001b[0mtotal_similarity_two\u001b[0m \u001b[0;34m=\u001b[0m \u001b[0mcreate_dna_array\u001b[0m\u001b[0;34m(\u001b[0m\u001b[0mtest_basepairs\u001b[0m\u001b[0;34m[\u001b[0m\u001b[0;34m:\u001b[0m\u001b[0;36m20000\u001b[0m\u001b[0;34m]\u001b[0m\u001b[0;34m,\u001b[0m \u001b[0mtest_basepairs\u001b[0m\u001b[0;34m[\u001b[0m\u001b[0;34m:\u001b[0m\u001b[0;36m10000\u001b[0m\u001b[0;34m]\u001b[0m \u001b[0;34m+\u001b[0m \u001b[0mtest_basepairs\u001b[0m\u001b[0;34m[\u001b[0m\u001b[0;36m20000\u001b[0m\u001b[0;34m:\u001b[0m\u001b[0;36m30000\u001b[0m\u001b[0;34m]\u001b[0m\u001b[0;34m,\u001b[0m \u001b[0;36m50\u001b[0m\u001b[0;34m)\u001b[0m\u001b[0;34m\u001b[0m\u001b[0m\n\u001b[1;32m      3\u001b[0m \u001b[0mtest_comparison_three\u001b[0m\u001b[0;34m,\u001b[0m \u001b[0mtest_similarity_three\u001b[0m\u001b[0;34m,\u001b[0m \u001b[0mtotal_similarity_three\u001b[0m \u001b[0;34m=\u001b[0m \u001b[0mcreate_dna_array\u001b[0m\u001b[0;34m(\u001b[0m\u001b[0mtest_basepairs\u001b[0m\u001b[0;34m[\u001b[0m\u001b[0;36m1000\u001b[0m\u001b[0;34m:\u001b[0m\u001b[0;36m16000\u001b[0m\u001b[0;34m]\u001b[0m\u001b[0;34m,\u001b[0m \u001b[0mtest_basepairs\u001b[0m\u001b[0;34m[\u001b[0m\u001b[0;36m5000\u001b[0m\u001b[0;34m:\u001b[0m\u001b[0;36m20000\u001b[0m\u001b[0;34m]\u001b[0m\u001b[0;34m,\u001b[0m \u001b[0;36m50\u001b[0m\u001b[0;34m)\u001b[0m\u001b[0;34m\u001b[0m\u001b[0m\n\u001b[1;32m      4\u001b[0m \u001b[0mtest_comparison_four\u001b[0m\u001b[0;34m,\u001b[0m \u001b[0mtest_similarity_four\u001b[0m\u001b[0;34m,\u001b[0m \u001b[0mtotal_similarity_four\u001b[0m \u001b[0;34m=\u001b[0m \u001b[0mcreate_dna_array\u001b[0m\u001b[0;34m(\u001b[0m\u001b[0mtest_basepairs\u001b[0m\u001b[0;34m[\u001b[0m\u001b[0;34m:\u001b[0m\u001b[0;36m100000\u001b[0m\u001b[0;34m]\u001b[0m\u001b[0;34m,\u001b[0m \u001b[0mtest_basepairs\u001b[0m\u001b[0;34m[\u001b[0m\u001b[0;36m50000\u001b[0m\u001b[0;34m:\u001b[0m\u001b[0;36m150000\u001b[0m\u001b[0;34m]\u001b[0m\u001b[0;34m,\u001b[0m \u001b[0;36m50\u001b[0m\u001b[0;34m)\u001b[0m\u001b[0;34m\u001b[0m\u001b[0m\n\u001b[1;32m      5\u001b[0m \u001b[0mtest_comparison_five\u001b[0m\u001b[0;34m,\u001b[0m \u001b[0mtest_similarity_five\u001b[0m\u001b[0;34m,\u001b[0m \u001b[0mtotal_similarity_five\u001b[0m \u001b[0;34m=\u001b[0m \u001b[0mcreate_dna_array\u001b[0m\u001b[0;34m(\u001b[0m\u001b[0mtest_basepairs\u001b[0m\u001b[0;34m[\u001b[0m\u001b[0;34m:\u001b[0m\u001b[0;36m87500\u001b[0m\u001b[0;34m]\u001b[0m\u001b[0;34m,\u001b[0m \u001b[0mtest_basepairs\u001b[0m\u001b[0;34m[\u001b[0m\u001b[0;34m:\u001b[0m\u001b[0;36m100000\u001b[0m\u001b[0;34m]\u001b[0m\u001b[0;34m,\u001b[0m \u001b[0;36m50\u001b[0m\u001b[0;34m)\u001b[0m\u001b[0;34m\u001b[0m\u001b[0m\n",
      "\u001b[0;32m<ipython-input-7-aa761ad0af85>\u001b[0m in \u001b[0;36mcreate_dna_array\u001b[0;34m(sequence_one, sequence_two, timesteps)\u001b[0m\n\u001b[1;32m     23\u001b[0m                                    for i in range(len(array))])\n\u001b[1;32m     24\u001b[0m \u001b[0;34m\u001b[0m\u001b[0m\n\u001b[0;32m---> 25\u001b[0;31m     \u001b[0msimilarity\u001b[0m \u001b[0;34m=\u001b[0m \u001b[0mtotal_similarity\u001b[0m\u001b[0;34m(\u001b[0m\u001b[0msimilarity_array\u001b[0m\u001b[0;34m)\u001b[0m\u001b[0;34m\u001b[0m\u001b[0m\n\u001b[0m\u001b[1;32m     26\u001b[0m     \u001b[0;32mreturn\u001b[0m \u001b[0mnp\u001b[0m\u001b[0;34m.\u001b[0m\u001b[0masarray\u001b[0m\u001b[0;34m(\u001b[0m\u001b[0marray\u001b[0m\u001b[0;34m)\u001b[0m\u001b[0;34m.\u001b[0m\u001b[0mreshape\u001b[0m\u001b[0;34m(\u001b[0m\u001b[0msamples\u001b[0m\u001b[0;34m,\u001b[0m \u001b[0mtimesteps\u001b[0m\u001b[0;34m,\u001b[0m \u001b[0;36m8\u001b[0m\u001b[0;34m)\u001b[0m\u001b[0;34m,\u001b[0m \u001b[0msimilarity_array\u001b[0m\u001b[0;34m.\u001b[0m\u001b[0mreshape\u001b[0m\u001b[0;34m(\u001b[0m\u001b[0msamples\u001b[0m\u001b[0;34m,\u001b[0m \u001b[0mtimesteps\u001b[0m\u001b[0;34m,\u001b[0m \u001b[0;36m1\u001b[0m\u001b[0;34m)\u001b[0m\u001b[0;34m,\u001b[0m \u001b[0msimilarity\u001b[0m\u001b[0;34m\u001b[0m\u001b[0m\n",
      "\u001b[0;31mTypeError\u001b[0m: 'numpy.float64' object is not callable"
     ]
    }
   ],
   "source": [
    "test_comparison_one, test_similarity_one, total_similarity_one = create_dna_array(test_basepairs[:40000], test_basepairs[:40000], 50)\n",
    "test_comparison_two, test_similarity_two, total_similarity_two = create_dna_array(test_basepairs[:20000], test_basepairs[:10000] + test_basepairs[20000:30000], 50)\n",
    "test_comparison_three, test_similarity_three, total_similarity_three = create_dna_array(test_basepairs[1000:16000], test_basepairs[5000:20000], 50)\n",
    "test_comparison_four, test_similarity_four, total_similarity_four = create_dna_array(test_basepairs[:100000], test_basepairs[50000:150000], 50)\n",
    "test_comparison_five, test_similarity_five, total_similarity_five = create_dna_array(test_basepairs[:87500], test_basepairs[:100000], 50)\n",
    "comparison_tests = [test_comparison_one, \n",
    "                    test_comparison_two, \n",
    "                    test_comparison_three, \n",
    "                    test_comparison_four, \n",
    "                    test_comparison_five]\n",
    "\n",
    "similarity_tests = [test_similarity_one, \n",
    "                    test_similarity_two, \n",
    "                    test_similarity_three, \n",
    "                    test_similarity_four, \n",
    "                    test_similarity_five]\n",
    "print('Test 1:', test_comparison_one.shape, test_similarity_one.shape)\n",
    "basepair_graph_comparison(test_basepairs[:40000], test_basepairs[:40000], .8)\n",
    "\n",
    "print('Test 2:', test_comparison_two.shape, test_similarity_two.shape)\n",
    "basepair_graph_comparison(test_basepairs[:20000], test_basepairs[130000:150000], .8)\n",
    "\n",
    "print('Test 3:', test_comparison_three.shape, test_similarity_three.shape)\n",
    "basepair_graph_comparison(test_basepairs[1000:16000], test_basepairs[5000:20000], .8)\n",
    "\n",
    "print('Test 4:', test_comparison_four.shape, test_similarity_four.shape)\n",
    "basepair_graph_comparison(test_basepairs[:100000], test_basepairs[50000:150000], .8)\n",
    "\n",
    "print('Test 5:', test_comparison_five.shape, test_similarity_five.shape)\n",
    "basepair_graph_comparison(test_basepairs[:87500], test_basepairs[87500:175000], .8)"
   ]
  },
  {
   "cell_type": "markdown",
   "metadata": {},
   "source": [
    "### X: Test the model:"
   ]
  },
  {
   "cell_type": "code",
   "execution_count": null,
   "metadata": {},
   "outputs": [],
   "source": [
    "def test_model(comparison, similarity):\n",
    "\n",
    "    # run the best network on the test data to test for consistency.\n",
    "    y_pred = network_population[0].predict(comparison)\n",
    "    mse = mean_squared_error(similarity, y_pred)\n",
    "    print(y_pred.mean())\n",
    "    print(total_similarity)\n",
    "    print(mse, '/n')\n",
    "\n",
    "graph_mse = []\n",
    "for x in range(5):\n",
    "    graph_mse.append(test_model(comparison_tests[x], similarity_tests[x]))\n",
    "\n",
    "plt.plot(graph_mse)\n",
    "plt.title('Mean Squared Error')\n",
    "plt.xlabel('x')\n",
    "plt.ylabel('y')\n",
    "plt.show()"
   ]
  },
  {
   "cell_type": "code",
   "execution_count": null,
   "metadata": {},
   "outputs": [],
   "source": [
    "similarity_tests[0].shape"
   ]
  },
  {
   "cell_type": "code",
   "execution_count": null,
   "metadata": {},
   "outputs": [],
   "source": [
    "Counter(similarity_tests[0].values())"
   ]
  },
  {
   "cell_type": "code",
   "execution_count": null,
   "metadata": {},
   "outputs": [],
   "source": []
  },
  {
   "cell_type": "markdown",
   "metadata": {},
   "source": [
    "## Discussion and Conclusion"
   ]
  }
 ],
 "metadata": {
  "kernelspec": {
   "display_name": "Python 3",
   "language": "python",
   "name": "python3"
  },
  "language_info": {
   "codemirror_mode": {
    "name": "ipython",
    "version": 3
   },
   "file_extension": ".py",
   "mimetype": "text/x-python",
   "name": "python",
   "nbconvert_exporter": "python",
   "pygments_lexer": "ipython3",
   "version": "3.6.4"
  }
 },
 "nbformat": 4,
 "nbformat_minor": 2
}
