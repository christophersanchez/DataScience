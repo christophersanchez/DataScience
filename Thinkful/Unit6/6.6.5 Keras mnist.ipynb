{
  "cells": [
    {
      "metadata": {
        "trusted": true
      },
      "cell_type": "code",
      "source": "import tensorflow as tf\nimport keras\n\n# Import the dataset\nfrom keras.datasets import mnist\n\n# Import various componenets for model building\nfrom keras.models import Sequential\nfrom keras.layers import Dense, Dropout, Flatten, Conv2D, MaxPooling2D\nfrom keras.layers import LSTM, Input, TimeDistributed\nfrom keras.models import Model\nfrom keras.optimizers import RMSprop, Adam\n\n# Import the backend\nfrom keras import backend as K\n\nimport numpy as np",
      "execution_count": 1,
      "outputs": [
        {
          "output_type": "stream",
          "text": "/home/nbuser/anaconda3_420/lib/python3.5/site-packages/h5py/__init__.py:36: FutureWarning: Conversion of the second argument of issubdtype from `float` to `np.floating` is deprecated. In future, it will be treated as `np.float64 == np.dtype(float).type`.\n  from ._conv import register_converters as _register_converters\nUsing TensorFlow backend.\n",
          "name": "stderr"
        }
      ]
    },
    {
      "metadata": {
        "trusted": true
      },
      "cell_type": "code",
      "source": "(x_train, y_train), (x_test, y_test) = mnist.load_data()",
      "execution_count": 2,
      "outputs": []
    },
    {
      "metadata": {
        "trusted": true
      },
      "cell_type": "code",
      "source": "y_train[0:50]",
      "execution_count": 3,
      "outputs": [
        {
          "output_type": "execute_result",
          "execution_count": 3,
          "data": {
            "text/plain": "array([5, 0, 4, 1, 9, 2, 1, 3, 1, 4, 3, 5, 3, 6, 1, 7, 2, 8, 6, 9, 4, 0,\n       9, 1, 1, 2, 4, 3, 2, 7, 3, 8, 6, 9, 0, 5, 6, 0, 7, 6, 1, 8, 7, 9,\n       3, 9, 8, 5, 9, 3], dtype=uint8)"
          },
          "metadata": {}
        }
      ]
    },
    {
      "metadata": {
        "trusted": true
      },
      "cell_type": "code",
      "source": "# Change shape \n# Note that our images are 28*28 pixels, so in reshaping to arrays we want\n# 60,000 arrays of length 784, one for each image\nx_train = x_train.reshape(60000, 784)\nx_test = x_test.reshape(10000, 784)\n\n# Convert to float32 for type consistency\nx_train = x_train.astype('float32')\nx_test = x_test.astype('float32')\n\n# Normalize values to 1 from 0 to 255 (256 values of pixels)\nx_train = (x_train - np.mean(x_train)) / np.std(x_train)\nx_test = (x_test - np.mean(x_test)) / np.std(x_test)\n\n# Print sample sizes\nprint(x_train.shape[0], 'train samples')\nprint(x_test.shape[0], 'test samples')\n\n# Convert class vectors to binary class matrices\n# So instead of one column with 10 values, create 10 binary columns\ny_train = keras.utils.to_categorical(y_train, 10)\ny_test = keras.utils.to_categorical(y_test, 10)",
      "execution_count": 4,
      "outputs": [
        {
          "output_type": "stream",
          "text": "60000 train samples\n10000 test samples\n",
          "name": "stdout"
        }
      ]
    },
    {
      "metadata": {
        "trusted": true
      },
      "cell_type": "code",
      "source": "",
      "execution_count": null,
      "outputs": []
    },
    {
      "metadata": {
        "trusted": true
      },
      "cell_type": "code",
      "source": "y_train.shape",
      "execution_count": 5,
      "outputs": [
        {
          "output_type": "execute_result",
          "execution_count": 5,
          "data": {
            "text/plain": "(60000, 10)"
          },
          "metadata": {}
        }
      ]
    },
    {
      "metadata": {
        "trusted": true
      },
      "cell_type": "code",
      "source": "# Start with a simple sequential model\nmodel = Sequential()\n\n# Add dense layers to create a fully connected MLP\n# Note that we specify an input shape for the first layer, but only the first layer.\n# Relu is the activation function used\nmodel.add(Dense(128, activation='relu', input_shape=(784,)))\n# Dropout layers remove features and fight overfitting\nmodel.add(Dropout(0.1))\nmodel.add(Dense(64, activation='relu'))\nmodel.add(Dropout(0.1))\nmodel.add(Dense(64, activation='relu'))\nmodel.add(Dropout(0.1))\nmodel.add(Dense(64, activation='relu'))\nmodel.add(Dropout(0.1))\nmodel.add(Dense(64, activation='relu'))\nmodel.add(Dropout(0.1))\nmodel.add(Dense(64, activation='relu'))\nmodel.add(Dropout(0.1))\n\n\n\n# End with a number of units equal to the number of classes we have for our outcome\nmodel.add(Dense(10, activation='softmax'))\n\nmodel.summary()\n\n# Compile the model to put it all together.\nmodel.compile(loss='categorical_crossentropy',\n              optimizer=Adam(),\n              metrics=['accuracy'])",
      "execution_count": 24,
      "outputs": [
        {
          "output_type": "stream",
          "text": "_________________________________________________________________\nLayer (type)                 Output Shape              Param #   \n=================================================================\ndense_194 (Dense)            (None, 128)               100480    \n_________________________________________________________________\ndropout_185 (Dropout)        (None, 128)               0         \n_________________________________________________________________\ndense_195 (Dense)            (None, 64)                8256      \n_________________________________________________________________\ndropout_186 (Dropout)        (None, 64)                0         \n_________________________________________________________________\ndense_196 (Dense)            (None, 64)                4160      \n_________________________________________________________________\ndropout_187 (Dropout)        (None, 64)                0         \n_________________________________________________________________\ndense_197 (Dense)            (None, 64)                4160      \n_________________________________________________________________\ndropout_188 (Dropout)        (None, 64)                0         \n_________________________________________________________________\ndense_198 (Dense)            (None, 64)                4160      \n_________________________________________________________________\ndropout_189 (Dropout)        (None, 64)                0         \n_________________________________________________________________\ndense_199 (Dense)            (None, 64)                4160      \n_________________________________________________________________\ndropout_190 (Dropout)        (None, 64)                0         \n_________________________________________________________________\ndense_200 (Dense)            (None, 10)                650       \n=================================================================\nTotal params: 126,026\nTrainable params: 126,026\nNon-trainable params: 0\n_________________________________________________________________\n",
          "name": "stdout"
        }
      ]
    },
    {
      "metadata": {
        "trusted": true
      },
      "cell_type": "code",
      "source": "history = model.fit(x_train, y_train,\n                    batch_size=100,\n                    epochs=50,\n                    verbose=1,\n                    validation_data=(x_test, y_test))\nscore = model.evaluate(x_test, y_test, verbose=0)\nprint('Test loss:', score[0])\nprint('Test accuracy:', score[1])",
      "execution_count": 25,
      "outputs": [
        {
          "output_type": "stream",
          "text": "Train on 60000 samples, validate on 10000 samples\nEpoch 1/50\n60000/60000 [==============================] - 9s - loss: 0.4844 - acc: 0.8508 - val_loss: 0.1668 - val_acc: 0.9523\nEpoch 2/50\n60000/60000 [==============================] - 6s - loss: 0.2061 - acc: 0.9451 - val_loss: 0.1362 - val_acc: 0.9619\nEpoch 3/50\n60000/60000 [==============================] - 5s - loss: 0.1610 - acc: 0.9568 - val_loss: 0.1063 - val_acc: 0.9710\nEpoch 4/50\n60000/60000 [==============================] - 6s - loss: 0.1327 - acc: 0.9648 - val_loss: 0.1073 - val_acc: 0.9690\nEpoch 5/50\n60000/60000 [==============================] - 8s - loss: 0.1177 - acc: 0.9686 - val_loss: 0.0972 - val_acc: 0.9714\nEpoch 6/50\n60000/60000 [==============================] - 8s - loss: 0.1040 - acc: 0.9722 - val_loss: 0.0980 - val_acc: 0.9745\nEpoch 7/50\n60000/60000 [==============================] - 6s - loss: 0.0970 - acc: 0.9726 - val_loss: 0.0911 - val_acc: 0.9750\nEpoch 8/50\n60000/60000 [==============================] - 5s - loss: 0.0897 - acc: 0.9760 - val_loss: 0.0931 - val_acc: 0.9758\nEpoch 9/50\n60000/60000 [==============================] - 5s - loss: 0.0787 - acc: 0.9789 - val_loss: 0.0938 - val_acc: 0.9766\nEpoch 10/50\n60000/60000 [==============================] - 6s - loss: 0.0744 - acc: 0.9794 - val_loss: 0.0894 - val_acc: 0.9756\nEpoch 11/50\n60000/60000 [==============================] - 6s - loss: 0.0721 - acc: 0.9798 - val_loss: 0.0865 - val_acc: 0.9770\nEpoch 12/50\n60000/60000 [==============================] - 6s - loss: 0.0647 - acc: 0.9813 - val_loss: 0.0881 - val_acc: 0.9774\nEpoch 13/50\n60000/60000 [==============================] - 6s - loss: 0.0634 - acc: 0.9816 - val_loss: 0.0931 - val_acc: 0.9780\nEpoch 14/50\n60000/60000 [==============================] - 6s - loss: 0.0600 - acc: 0.9833 - val_loss: 0.0972 - val_acc: 0.9776\nEpoch 15/50\n60000/60000 [==============================] - 6s - loss: 0.0609 - acc: 0.9831 - val_loss: 0.0938 - val_acc: 0.9763\nEpoch 16/50\n60000/60000 [==============================] - 6s - loss: 0.0539 - acc: 0.9848 - val_loss: 0.0858 - val_acc: 0.9787\nEpoch 17/50\n60000/60000 [==============================] - 6s - loss: 0.0505 - acc: 0.9857 - val_loss: 0.0928 - val_acc: 0.9803\nEpoch 18/50\n60000/60000 [==============================] - 6s - loss: 0.0504 - acc: 0.9858 - val_loss: 0.0936 - val_acc: 0.9789\nEpoch 19/50\n60000/60000 [==============================] - 6s - loss: 0.0513 - acc: 0.9856 - val_loss: 0.0889 - val_acc: 0.9786\nEpoch 20/50\n60000/60000 [==============================] - 6s - loss: 0.0492 - acc: 0.9860 - val_loss: 0.1100 - val_acc: 0.9769\nEpoch 21/50\n60000/60000 [==============================] - 6s - loss: 0.0490 - acc: 0.9865 - val_loss: 0.0937 - val_acc: 0.9786\nEpoch 22/50\n60000/60000 [==============================] - 6s - loss: 0.0425 - acc: 0.9880 - val_loss: 0.1032 - val_acc: 0.9776\nEpoch 23/50\n60000/60000 [==============================] - 5s - loss: 0.0452 - acc: 0.9874 - val_loss: 0.1022 - val_acc: 0.9794\nEpoch 24/50\n60000/60000 [==============================] - 6s - loss: 0.0405 - acc: 0.9885 - val_loss: 0.1043 - val_acc: 0.9770\nEpoch 25/50\n60000/60000 [==============================] - 6s - loss: 0.0432 - acc: 0.9878 - val_loss: 0.0921 - val_acc: 0.9811\nEpoch 26/50\n60000/60000 [==============================] - 5s - loss: 0.0375 - acc: 0.9893 - val_loss: 0.0902 - val_acc: 0.9804\nEpoch 27/50\n60000/60000 [==============================] - 6s - loss: 0.0382 - acc: 0.9895 - val_loss: 0.1067 - val_acc: 0.9790\nEpoch 28/50\n60000/60000 [==============================] - 5s - loss: 0.0390 - acc: 0.9888 - val_loss: 0.0925 - val_acc: 0.9796\nEpoch 29/50\n60000/60000 [==============================] - 5s - loss: 0.0383 - acc: 0.9894 - val_loss: 0.0924 - val_acc: 0.9822\nEpoch 30/50\n60000/60000 [==============================] - 6s - loss: 0.0382 - acc: 0.9887 - val_loss: 0.1079 - val_acc: 0.9783\nEpoch 31/50\n60000/60000 [==============================] - 6s - loss: 0.0353 - acc: 0.9901 - val_loss: 0.1055 - val_acc: 0.9794\nEpoch 32/50\n60000/60000 [==============================] - 5s - loss: 0.0336 - acc: 0.9905 - val_loss: 0.0903 - val_acc: 0.9800\nEpoch 33/50\n60000/60000 [==============================] - 5s - loss: 0.0344 - acc: 0.9906 - val_loss: 0.1027 - val_acc: 0.9792\nEpoch 34/50\n60000/60000 [==============================] - 6s - loss: 0.0339 - acc: 0.9906 - val_loss: 0.0976 - val_acc: 0.9799\nEpoch 35/50\n60000/60000 [==============================] - 8s - loss: 0.0322 - acc: 0.9913 - val_loss: 0.0968 - val_acc: 0.9816\nEpoch 36/50\n60000/60000 [==============================] - 8s - loss: 0.0331 - acc: 0.9906 - val_loss: 0.0971 - val_acc: 0.9802\nEpoch 37/50\n60000/60000 [==============================] - 6s - loss: 0.0338 - acc: 0.9901 - val_loss: 0.0897 - val_acc: 0.9819\nEpoch 38/50\n60000/60000 [==============================] - 5s - loss: 0.0311 - acc: 0.9918 - val_loss: 0.1031 - val_acc: 0.9810\nEpoch 39/50\n60000/60000 [==============================] - 6s - loss: 0.0314 - acc: 0.9911 - val_loss: 0.1057 - val_acc: 0.9796\nEpoch 40/50\n60000/60000 [==============================] - 5s - loss: 0.0291 - acc: 0.9915 - val_loss: 0.1008 - val_acc: 0.9800\nEpoch 41/50\n60000/60000 [==============================] - 6s - loss: 0.0268 - acc: 0.9923 - val_loss: 0.1129 - val_acc: 0.9792\nEpoch 42/50\n60000/60000 [==============================] - 5s - loss: 0.0320 - acc: 0.9911 - val_loss: 0.1041 - val_acc: 0.9789\nEpoch 43/50\n60000/60000 [==============================] - 6s - loss: 0.0302 - acc: 0.9917 - val_loss: 0.1079 - val_acc: 0.9794\nEpoch 44/50\n60000/60000 [==============================] - 6s - loss: 0.0310 - acc: 0.9918 - val_loss: 0.0942 - val_acc: 0.9818\nEpoch 45/50\n60000/60000 [==============================] - 5s - loss: 0.0275 - acc: 0.9926 - val_loss: 0.1005 - val_acc: 0.9802\nEpoch 46/50\n60000/60000 [==============================] - 6s - loss: 0.0272 - acc: 0.9927 - val_loss: 0.1088 - val_acc: 0.9806\nEpoch 47/50\n60000/60000 [==============================] - 6s - loss: 0.0295 - acc: 0.9918 - val_loss: 0.1047 - val_acc: 0.9814\nEpoch 48/50\n60000/60000 [==============================] - 6s - loss: 0.0286 - acc: 0.9922 - val_loss: 0.1143 - val_acc: 0.9790\nEpoch 49/50\n60000/60000 [==============================] - 6s - loss: 0.0301 - acc: 0.9917 - val_loss: 0.0972 - val_acc: 0.9811\nEpoch 50/50\n60000/60000 [==============================] - 6s - loss: 0.0264 - acc: 0.9923 - val_loss: 0.1030 - val_acc: 0.9805\nTest loss: 0.10304210355375704\nTest accuracy: 0.9805\n",
          "name": "stdout"
        }
      ]
    },
    {
      "metadata": {
        "trusted": true
      },
      "cell_type": "code",
      "source": "",
      "execution_count": null,
      "outputs": []
    }
  ],
  "metadata": {
    "kernelspec": {
      "name": "python3",
      "display_name": "Python 3",
      "language": "python"
    }
  },
  "nbformat": 4,
  "nbformat_minor": 2
}