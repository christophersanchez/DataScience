{
 "cells": [
  {
   "cell_type": "markdown",
   "metadata": {},
   "source": [
    "There are many parameters involved in tuning a nerual network. Below is an attempt to achieve 99% accuracy on the mnist dataset."
   ]
  },
  {
   "cell_type": "code",
   "execution_count": 1,
   "metadata": {},
   "outputs": [
    {
     "name": "stderr",
     "output_type": "stream",
     "text": [
      "/home/nbuser/anaconda3_420/lib/python3.5/site-packages/h5py/__init__.py:36: FutureWarning: Conversion of the second argument of issubdtype from `float` to `np.floating` is deprecated. In future, it will be treated as `np.float64 == np.dtype(float).type`.\n",
      "  from ._conv import register_converters as _register_converters\n",
      "Using TensorFlow backend.\n"
     ]
    }
   ],
   "source": [
    "import tensorflow as tf\n",
    "import keras\n",
    "\n",
    "# Import the dataset\n",
    "from keras.datasets import mnist\n",
    "\n",
    "# Import various componenets for model building\n",
    "from keras.models import Sequential\n",
    "from keras.layers import Dense, Dropout, Flatten, Conv2D, MaxPooling2D\n",
    "from keras.layers import LSTM, Input, TimeDistributed\n",
    "from keras.models import Model\n",
    "from keras.optimizers import RMSprop, Adam\n",
    "\n",
    "# Import the backend\n",
    "from keras import backend as K\n",
    "\n",
    "import numpy as np"
   ]
  },
  {
   "cell_type": "code",
   "execution_count": 2,
   "metadata": {},
   "outputs": [],
   "source": [
    "(x_train, y_train), (x_test, y_test) = mnist.load_data()"
   ]
  },
  {
   "cell_type": "code",
   "execution_count": 3,
   "metadata": {},
   "outputs": [
    {
     "data": {
      "text/plain": [
       "array([5, 0, 4, 1, 9, 2, 1, 3, 1, 4, 3, 5, 3, 6, 1, 7, 2, 8, 6, 9, 4, 0,\n",
       "       9, 1, 1, 2, 4, 3, 2, 7, 3, 8, 6, 9, 0, 5, 6, 0, 7, 6, 1, 8, 7, 9,\n",
       "       3, 9, 8, 5, 9, 3], dtype=uint8)"
      ]
     },
     "execution_count": 3,
     "metadata": {},
     "output_type": "execute_result"
    }
   ],
   "source": [
    "y_train[0:50]"
   ]
  },
  {
   "cell_type": "code",
   "execution_count": 4,
   "metadata": {},
   "outputs": [
    {
     "name": "stdout",
     "output_type": "stream",
     "text": [
      "60000 train samples\n",
      "10000 test samples\n"
     ]
    }
   ],
   "source": [
    "# Change shape \n",
    "# Note that our images are 28*28 pixels, so in reshaping to arrays we want\n",
    "# 60,000 arrays of length 784, one for each image\n",
    "x_train = x_train.reshape(60000, 784)\n",
    "x_test = x_test.reshape(10000, 784)\n",
    "\n",
    "# Convert to float32 for type consistency\n",
    "x_train = x_train.astype('float32')\n",
    "x_test = x_test.astype('float32')\n",
    "\n",
    "# Normalize values to 1 from 0 to 255 (256 values of pixels)\n",
    "x_train = (x_train - np.mean(x_train)) / np.std(x_train)\n",
    "x_test = (x_test - np.mean(x_test)) / np.std(x_test)\n",
    "\n",
    "# Print sample sizes\n",
    "print(x_train.shape[0], 'train samples')\n",
    "print(x_test.shape[0], 'test samples')\n",
    "\n",
    "# Convert class vectors to binary class matrices\n",
    "# So instead of one column with 10 values, create 10 binary columns\n",
    "y_train = keras.utils.to_categorical(y_train, 10)\n",
    "y_test = keras.utils.to_categorical(y_test, 10)"
   ]
  },
  {
   "cell_type": "markdown",
   "metadata": {},
   "source": [
    "Experimenting with multiple parameters including activation, layer units, amount of layers, dropout, optimization, loss and more."
   ]
  },
  {
   "cell_type": "code",
   "execution_count": 24,
   "metadata": {},
   "outputs": [
    {
     "name": "stdout",
     "output_type": "stream",
     "text": [
      "_________________________________________________________________\n",
      "Layer (type)                 Output Shape              Param #   \n",
      "=================================================================\n",
      "dense_194 (Dense)            (None, 128)               100480    \n",
      "_________________________________________________________________\n",
      "dropout_185 (Dropout)        (None, 128)               0         \n",
      "_________________________________________________________________\n",
      "dense_195 (Dense)            (None, 64)                8256      \n",
      "_________________________________________________________________\n",
      "dropout_186 (Dropout)        (None, 64)                0         \n",
      "_________________________________________________________________\n",
      "dense_196 (Dense)            (None, 64)                4160      \n",
      "_________________________________________________________________\n",
      "dropout_187 (Dropout)        (None, 64)                0         \n",
      "_________________________________________________________________\n",
      "dense_197 (Dense)            (None, 64)                4160      \n",
      "_________________________________________________________________\n",
      "dropout_188 (Dropout)        (None, 64)                0         \n",
      "_________________________________________________________________\n",
      "dense_198 (Dense)            (None, 64)                4160      \n",
      "_________________________________________________________________\n",
      "dropout_189 (Dropout)        (None, 64)                0         \n",
      "_________________________________________________________________\n",
      "dense_199 (Dense)            (None, 64)                4160      \n",
      "_________________________________________________________________\n",
      "dropout_190 (Dropout)        (None, 64)                0         \n",
      "_________________________________________________________________\n",
      "dense_200 (Dense)            (None, 10)                650       \n",
      "=================================================================\n",
      "Total params: 126,026\n",
      "Trainable params: 126,026\n",
      "Non-trainable params: 0\n",
      "_________________________________________________________________\n"
     ]
    }
   ],
   "source": [
    "# Start with a simple sequential model\n",
    "model = Sequential()\n",
    "\n",
    "# Add dense layers to create a fully connected MLP\n",
    "# Note that we specify an input shape for the first layer, but only the first layer.\n",
    "# Relu is the activation function used\n",
    "model.add(Dense(128, activation='relu', input_shape=(784,)))\n",
    "# Dropout layers remove features and fight overfitting\n",
    "model.add(Dropout(0.1))\n",
    "model.add(Dense(64, activation='relu'))\n",
    "model.add(Dropout(0.1))\n",
    "model.add(Dense(64, activation='relu'))\n",
    "model.add(Dropout(0.1))\n",
    "model.add(Dense(64, activation='relu'))\n",
    "model.add(Dropout(0.1))\n",
    "model.add(Dense(64, activation='relu'))\n",
    "model.add(Dropout(0.1))\n",
    "model.add(Dense(64, activation='relu'))\n",
    "model.add(Dropout(0.1))\n",
    "\n",
    "\n",
    "\n",
    "# End with a number of units equal to the number of classes we have for our outcome\n",
    "model.add(Dense(10, activation='softmax'))\n",
    "\n",
    "model.summary()\n",
    "\n",
    "# Compile the model to put it all together.\n",
    "model.compile(loss='categorical_crossentropy',\n",
    "              optimizer=Adam(),\n",
    "              metrics=['accuracy'])"
   ]
  },
  {
   "cell_type": "code",
   "execution_count": 25,
   "metadata": {},
   "outputs": [
    {
     "name": "stdout",
     "output_type": "stream",
     "text": [
      "Train on 60000 samples, validate on 10000 samples\n",
      "Epoch 1/50\n",
      "60000/60000 [==============================] - 9s - loss: 0.4844 - acc: 0.8508 - val_loss: 0.1668 - val_acc: 0.9523\n",
      "Epoch 2/50\n",
      "60000/60000 [==============================] - 6s - loss: 0.2061 - acc: 0.9451 - val_loss: 0.1362 - val_acc: 0.9619\n",
      "Epoch 3/50\n",
      "60000/60000 [==============================] - 5s - loss: 0.1610 - acc: 0.9568 - val_loss: 0.1063 - val_acc: 0.9710\n",
      "Epoch 4/50\n",
      "60000/60000 [==============================] - 6s - loss: 0.1327 - acc: 0.9648 - val_loss: 0.1073 - val_acc: 0.9690\n",
      "Epoch 5/50\n",
      "60000/60000 [==============================] - 8s - loss: 0.1177 - acc: 0.9686 - val_loss: 0.0972 - val_acc: 0.9714\n",
      "Epoch 6/50\n",
      "60000/60000 [==============================] - 8s - loss: 0.1040 - acc: 0.9722 - val_loss: 0.0980 - val_acc: 0.9745\n",
      "Epoch 7/50\n",
      "60000/60000 [==============================] - 6s - loss: 0.0970 - acc: 0.9726 - val_loss: 0.0911 - val_acc: 0.9750\n",
      "Epoch 8/50\n",
      "60000/60000 [==============================] - 5s - loss: 0.0897 - acc: 0.9760 - val_loss: 0.0931 - val_acc: 0.9758\n",
      "Epoch 9/50\n",
      "60000/60000 [==============================] - 5s - loss: 0.0787 - acc: 0.9789 - val_loss: 0.0938 - val_acc: 0.9766\n",
      "Epoch 10/50\n",
      "60000/60000 [==============================] - 6s - loss: 0.0744 - acc: 0.9794 - val_loss: 0.0894 - val_acc: 0.9756\n",
      "Epoch 11/50\n",
      "60000/60000 [==============================] - 6s - loss: 0.0721 - acc: 0.9798 - val_loss: 0.0865 - val_acc: 0.9770\n",
      "Epoch 12/50\n",
      "60000/60000 [==============================] - 6s - loss: 0.0647 - acc: 0.9813 - val_loss: 0.0881 - val_acc: 0.9774\n",
      "Epoch 13/50\n",
      "60000/60000 [==============================] - 6s - loss: 0.0634 - acc: 0.9816 - val_loss: 0.0931 - val_acc: 0.9780\n",
      "Epoch 14/50\n",
      "60000/60000 [==============================] - 6s - loss: 0.0600 - acc: 0.9833 - val_loss: 0.0972 - val_acc: 0.9776\n",
      "Epoch 15/50\n",
      "60000/60000 [==============================] - 6s - loss: 0.0609 - acc: 0.9831 - val_loss: 0.0938 - val_acc: 0.9763\n",
      "Epoch 16/50\n",
      "60000/60000 [==============================] - 6s - loss: 0.0539 - acc: 0.9848 - val_loss: 0.0858 - val_acc: 0.9787\n",
      "Epoch 17/50\n",
      "60000/60000 [==============================] - 6s - loss: 0.0505 - acc: 0.9857 - val_loss: 0.0928 - val_acc: 0.9803\n",
      "Epoch 18/50\n",
      "60000/60000 [==============================] - 6s - loss: 0.0504 - acc: 0.9858 - val_loss: 0.0936 - val_acc: 0.9789\n",
      "Epoch 19/50\n",
      "60000/60000 [==============================] - 6s - loss: 0.0513 - acc: 0.9856 - val_loss: 0.0889 - val_acc: 0.9786\n",
      "Epoch 20/50\n",
      "60000/60000 [==============================] - 6s - loss: 0.0492 - acc: 0.9860 - val_loss: 0.1100 - val_acc: 0.9769\n",
      "Epoch 21/50\n",
      "60000/60000 [==============================] - 6s - loss: 0.0490 - acc: 0.9865 - val_loss: 0.0937 - val_acc: 0.9786\n",
      "Epoch 22/50\n",
      "60000/60000 [==============================] - 6s - loss: 0.0425 - acc: 0.9880 - val_loss: 0.1032 - val_acc: 0.9776\n",
      "Epoch 23/50\n",
      "60000/60000 [==============================] - 5s - loss: 0.0452 - acc: 0.9874 - val_loss: 0.1022 - val_acc: 0.9794\n",
      "Epoch 24/50\n",
      "60000/60000 [==============================] - 6s - loss: 0.0405 - acc: 0.9885 - val_loss: 0.1043 - val_acc: 0.9770\n",
      "Epoch 25/50\n",
      "60000/60000 [==============================] - 6s - loss: 0.0432 - acc: 0.9878 - val_loss: 0.0921 - val_acc: 0.9811\n",
      "Epoch 26/50\n",
      "60000/60000 [==============================] - 5s - loss: 0.0375 - acc: 0.9893 - val_loss: 0.0902 - val_acc: 0.9804\n",
      "Epoch 27/50\n",
      "60000/60000 [==============================] - 6s - loss: 0.0382 - acc: 0.9895 - val_loss: 0.1067 - val_acc: 0.9790\n",
      "Epoch 28/50\n",
      "60000/60000 [==============================] - 5s - loss: 0.0390 - acc: 0.9888 - val_loss: 0.0925 - val_acc: 0.9796\n",
      "Epoch 29/50\n",
      "60000/60000 [==============================] - 5s - loss: 0.0383 - acc: 0.9894 - val_loss: 0.0924 - val_acc: 0.9822\n",
      "Epoch 30/50\n",
      "60000/60000 [==============================] - 6s - loss: 0.0382 - acc: 0.9887 - val_loss: 0.1079 - val_acc: 0.9783\n",
      "Epoch 31/50\n",
      "60000/60000 [==============================] - 6s - loss: 0.0353 - acc: 0.9901 - val_loss: 0.1055 - val_acc: 0.9794\n",
      "Epoch 32/50\n",
      "60000/60000 [==============================] - 5s - loss: 0.0336 - acc: 0.9905 - val_loss: 0.0903 - val_acc: 0.9800\n",
      "Epoch 33/50\n",
      "60000/60000 [==============================] - 5s - loss: 0.0344 - acc: 0.9906 - val_loss: 0.1027 - val_acc: 0.9792\n",
      "Epoch 34/50\n",
      "60000/60000 [==============================] - 6s - loss: 0.0339 - acc: 0.9906 - val_loss: 0.0976 - val_acc: 0.9799\n",
      "Epoch 35/50\n",
      "60000/60000 [==============================] - 8s - loss: 0.0322 - acc: 0.9913 - val_loss: 0.0968 - val_acc: 0.9816\n",
      "Epoch 36/50\n",
      "60000/60000 [==============================] - 8s - loss: 0.0331 - acc: 0.9906 - val_loss: 0.0971 - val_acc: 0.9802\n",
      "Epoch 37/50\n",
      "60000/60000 [==============================] - 6s - loss: 0.0338 - acc: 0.9901 - val_loss: 0.0897 - val_acc: 0.9819\n",
      "Epoch 38/50\n",
      "60000/60000 [==============================] - 5s - loss: 0.0311 - acc: 0.9918 - val_loss: 0.1031 - val_acc: 0.9810\n",
      "Epoch 39/50\n",
      "60000/60000 [==============================] - 6s - loss: 0.0314 - acc: 0.9911 - val_loss: 0.1057 - val_acc: 0.9796\n",
      "Epoch 40/50\n",
      "60000/60000 [==============================] - 5s - loss: 0.0291 - acc: 0.9915 - val_loss: 0.1008 - val_acc: 0.9800\n",
      "Epoch 41/50\n",
      "60000/60000 [==============================] - 6s - loss: 0.0268 - acc: 0.9923 - val_loss: 0.1129 - val_acc: 0.9792\n",
      "Epoch 42/50\n",
      "60000/60000 [==============================] - 5s - loss: 0.0320 - acc: 0.9911 - val_loss: 0.1041 - val_acc: 0.9789\n",
      "Epoch 43/50\n",
      "60000/60000 [==============================] - 6s - loss: 0.0302 - acc: 0.9917 - val_loss: 0.1079 - val_acc: 0.9794\n",
      "Epoch 44/50\n",
      "60000/60000 [==============================] - 6s - loss: 0.0310 - acc: 0.9918 - val_loss: 0.0942 - val_acc: 0.9818\n",
      "Epoch 45/50\n",
      "60000/60000 [==============================] - 5s - loss: 0.0275 - acc: 0.9926 - val_loss: 0.1005 - val_acc: 0.9802\n",
      "Epoch 46/50\n",
      "60000/60000 [==============================] - 6s - loss: 0.0272 - acc: 0.9927 - val_loss: 0.1088 - val_acc: 0.9806\n",
      "Epoch 47/50\n",
      "60000/60000 [==============================] - 6s - loss: 0.0295 - acc: 0.9918 - val_loss: 0.1047 - val_acc: 0.9814\n",
      "Epoch 48/50\n",
      "60000/60000 [==============================] - 6s - loss: 0.0286 - acc: 0.9922 - val_loss: 0.1143 - val_acc: 0.9790\n",
      "Epoch 49/50\n",
      "60000/60000 [==============================] - 6s - loss: 0.0301 - acc: 0.9917 - val_loss: 0.0972 - val_acc: 0.9811\n",
      "Epoch 50/50\n",
      "60000/60000 [==============================] - 6s - loss: 0.0264 - acc: 0.9923 - val_loss: 0.1030 - val_acc: 0.9805\n",
      "Test loss: 0.10304210355375704\n",
      "Test accuracy: 0.9805\n"
     ]
    }
   ],
   "source": [
    "history = model.fit(x_train, y_train,\n",
    "                    batch_size=100,\n",
    "                    epochs=50,\n",
    "                    verbose=1,\n",
    "                    validation_data=(x_test, y_test))\n",
    "score = model.evaluate(x_test, y_test, verbose=0)\n",
    "print('Test loss:', score[0])\n",
    "print('Test accuracy:', score[1])"
   ]
  },
  {
   "cell_type": "markdown",
   "metadata": {},
   "source": [
    "After numerous attempts the highest accuracy on the test set I was able to achieve is 98.3%"
   ]
  },
  {
   "cell_type": "code",
   "execution_count": null,
   "metadata": {},
   "outputs": [],
   "source": []
  }
 ],
 "metadata": {
  "kernelspec": {
   "display_name": "Python 3",
   "language": "python",
   "name": "python3"
  }
 },
 "nbformat": 4,
 "nbformat_minor": 2
}
