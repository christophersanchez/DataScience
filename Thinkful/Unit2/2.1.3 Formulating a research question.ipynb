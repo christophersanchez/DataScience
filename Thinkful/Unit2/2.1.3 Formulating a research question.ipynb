{
 "cells": [
  {
   "cell_type": "markdown",
   "metadata": {},
   "source": [
    "Categorize each of the following research questions as \"good\" or \"bad\", and provide alternative formulations for the bad ones. Save your responses in a document of some kind, submit a link below, and discuss your reasoning with your mentor.\n",
    "\n"
   ]
  },
  {
   "cell_type": "markdown",
   "metadata": {},
   "source": [
    "__What is the 1994 rate of juvenile delinquency in the U.S.?__\n",
    "\n",
    "_Good_\n",
    "\n",
    "__What can we do to reduce juvenile delinquency in the U.S.?__\n",
    "\n",
    "_What is the biggest cause of juvenile delinquency in the U.S?_\n",
    "\n",
    "__Does education play a role in reducing juvenile delinquents' return to crime?__\n",
    "\n",
    "_Good_\n",
    "\n",
    "__How many customers does AT&T currently serve in Washington, DC?__\n",
    "\n",
    "_Good_\n",
    "\n",
    "__What factors lead consumers to choose AT&T over other service providers?__\n",
    "\n",
    "_Good_\n",
    "\n",
    "__How can AT&T attract more customers?__\n",
    "\n",
    "_Will revamping AT&T's service plans attract more customers?_\n",
    "\n",
    "__Why did the Challenger Shuttle explode?__\n",
    "\n",
    "_What factors caused the Challenger Shuttle to explode?_\n",
    "\n",
    "__Which genes are associated with increased risk of breast cancer?__\n",
    "\n",
    "_Good_\n",
    "\n",
    "__Is it better to read to children at night or in the morning?__\n",
    "\n",
    "_Good_\n",
    "\n",
    "__How does Google’s search algorithm work?__\n",
    "\n",
    "_What are the components that make Google's search algorithm function correctly?_"
   ]
  },
  {
   "cell_type": "code",
   "execution_count": null,
   "metadata": {},
   "outputs": [],
   "source": []
  }
 ],
 "metadata": {
  "kernelspec": {
   "display_name": "Python 3",
   "language": "python",
   "name": "python3"
  },
  "language_info": {
   "codemirror_mode": {
    "name": "ipython",
    "version": 3
   },
   "file_extension": ".py",
   "mimetype": "text/x-python",
   "name": "python",
   "nbconvert_exporter": "python",
   "pygments_lexer": "ipython3",
   "version": "3.6.4"
  }
 },
 "nbformat": 4,
 "nbformat_minor": 2
}
