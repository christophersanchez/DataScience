{
 "cells": [
  {
   "cell_type": "markdown",
   "metadata": {},
   "source": [
    "The amount a person will spend on a given site in the next 24 months.<br>\n",
    "_I believe this should use regression, because it is based on a continuous variable._<br>\n",
    "\n",
    "What color car someone is going to buy.<br>\n",
    "_Color is a discrete variable, so this should be a classification model._<br>\n",
    "\n",
    "How many children a family will have.<br>\n",
    "_This is a tougher one and can really go either way. I would use a classification model_<br>\n",
    "\n",
    "If someone will sign up for a service.<br>\n",
    "_A person either signs up or they dont which is a discrete variable making a classification model best suited for the job._<br>\n",
    "\n",
    "The number of times someone will get sick in a year.<br>\n",
    "_regression_<br>\n",
    "\n",
    "The probability someone will get sick in the next month.<br>\n",
    "_regression_<br>\n",
    "\n",
    "Which medicine will work best for a given patient.<br>\n",
    "_There are many variables to consider what is best. I would use a regression model._<br>"
   ]
  },
  {
   "cell_type": "code",
   "execution_count": null,
   "metadata": {},
   "outputs": [],
   "source": []
  }
 ],
 "metadata": {
  "kernelspec": {
   "display_name": "Python 3",
   "language": "python",
   "name": "python3"
  },
  "language_info": {
   "codemirror_mode": {
    "name": "ipython",
    "version": 3
   },
   "file_extension": ".py",
   "mimetype": "text/x-python",
   "name": "python",
   "nbconvert_exporter": "python",
   "pygments_lexer": "ipython3",
   "version": "3.6.4"
  }
 },
 "nbformat": 4,
 "nbformat_minor": 2
}
